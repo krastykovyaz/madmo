{
 "cells": [
  {
   "cell_type": "markdown",
   "metadata": {
    "colab_type": "text",
    "id": "EcbBUBSSZzN4",
    "nbgrader": {
     "grade": false,
     "grade_id": "cell-86e0de040aac317a",
     "locked": true,
     "schema_version": 2,
     "solution": false
    }
   },
   "source": [
    "## week01: Intro, Linear models recap, simple ensembles."
   ]
  },
  {
   "cell_type": "markdown",
   "metadata": {
    "colab_type": "text",
    "id": "xRAzNZ0OZzN5",
    "nbgrader": {
     "grade": false,
     "grade_id": "cell-512ba712fc0fc065",
     "locked": true,
     "schema_version": 2,
     "solution": false
    }
   },
   "source": [
    "## Часть 1. Работа с моделями и ансамблями моделей в задачи классификации."
   ]
  },
  {
   "cell_type": "markdown",
   "metadata": {
    "colab_type": "text",
    "id": "j6Nzgp6iZzN6",
    "nbgrader": {
     "grade": false,
     "grade_id": "cell-b656a4266174b009",
     "locked": true,
     "schema_version": 2,
     "solution": false
    }
   },
   "source": [
    "### 1. Чтение данных.\n",
    "Воспользуемся [датасетом](https://archive.ics.uci.edu/ml/datasets/Statlog+%28Vehicle+Silhouettes%29), в котором описываются различные автомобили. Будем решать задачу многоклассовой ($k=4$) классификации.\n",
    "Для удобства, датасет уже преобразован в удобный формат."
   ]
  },
  {
   "cell_type": "code",
   "execution_count": 1,
   "metadata": {
    "ExecuteTime": {
     "end_time": "2021-04-07T17:03:39.437394Z",
     "start_time": "2021-04-07T17:03:39.431515Z"
    }
   },
   "outputs": [],
   "source": [
    "# ! pip install scikit-plot\n",
    "# ! pip install joblib"
   ]
  },
  {
   "cell_type": "code",
   "execution_count": 2,
   "metadata": {
    "ExecuteTime": {
     "end_time": "2021-04-07T17:03:42.462242Z",
     "start_time": "2021-04-07T17:03:40.389614Z"
    },
    "colab": {},
    "colab_type": "code",
    "id": "U7IVSKkWZzN7",
    "nbgrader": {
     "grade": false,
     "grade_id": "cell-eebac6bfdf73d0bc",
     "locked": true,
     "schema_version": 2,
     "solution": false
    }
   },
   "outputs": [],
   "source": [
    "from collections import defaultdict\n",
    "from joblib import Parallel, delayed\n",
    "\n",
    "import matplotlib.gridspec as gridspec\n",
    "import matplotlib.pyplot as plt\n",
    "import numpy as np\n",
    "import pandas as pd\n",
    "import scipy.stats as sps\n",
    "import seaborn as sns\n",
    "import scikitplot\n",
    "from sklearn.metrics import accuracy_score, f1_score, roc_curve\n",
    "from sklearn.model_selection import train_test_split\n",
    "from sklearn.exceptions import DataConversionWarning\n",
    "\n",
    "from tqdm import tqdm_notebook\n",
    "import warnings\n",
    "\n",
    "%matplotlib inline"
   ]
  },
  {
   "cell_type": "code",
   "execution_count": 17,
   "metadata": {
    "ExecuteTime": {
     "end_time": "2021-04-07T17:16:13.062924Z",
     "start_time": "2021-04-07T17:16:13.053957Z"
    },
    "colab": {},
    "colab_type": "code",
    "id": "wZY9PDOQZzN-",
    "nbgrader": {
     "grade": false,
     "grade_id": "cell-eebac6bfdf73d0bc",
     "locked": true,
     "schema_version": 2,
     "solution": false
    },
    "outputId": "e1c41012-4f14-4355-fdf6-e4eb956685f8"
   },
   "outputs": [
    {
     "name": "stdout",
     "output_type": "stream",
     "text": [
      "(846, 19) (846,)\n",
      "(549, 19) (549,) (297, 19) (297,)\n"
     ]
    }
   ],
   "source": [
    "dataset = pd.read_csv('car_data.csv', delimiter=',', header=None).values\n",
    "data = dataset[:, :-1].astype(int)\n",
    "target = dataset[:, -1]\n",
    "\n",
    "print(data.shape, target.shape)\n",
    "\n",
    "X_train, X_test, y_train, y_test = train_test_split(data, target, test_size=0.35, random_state=57)\n",
    "print(X_train.shape, y_train.shape, X_test.shape, y_test.shape)"
   ]
  },
  {
   "cell_type": "markdown",
   "metadata": {
    "colab_type": "text",
    "id": "GE_h8xaXZzOC",
    "nbgrader": {
     "grade": false,
     "grade_id": "cell-88b1a0f688568f2c",
     "locked": true,
     "schema_version": 2,
     "solution": false
    }
   },
   "source": [
    "Для первичного анализа может быть полезна библиотека `pandas`. Преобразуем `train` выборку в `pd.DataFrame`."
   ]
  },
  {
   "cell_type": "code",
   "execution_count": 18,
   "metadata": {
    "ExecuteTime": {
     "end_time": "2021-04-07T17:16:13.715214Z",
     "start_time": "2021-04-07T17:16:13.703064Z"
    },
    "colab": {},
    "colab_type": "code",
    "id": "3Ggk5kcVZzOC",
    "outputId": "4ba4e095-3444-45a1-eef1-9b8ed9b64b01"
   },
   "outputs": [
    {
     "data": {
      "text/html": [
       "<div>\n",
       "<style scoped>\n",
       "    .dataframe tbody tr th:only-of-type {\n",
       "        vertical-align: middle;\n",
       "    }\n",
       "\n",
       "    .dataframe tbody tr th {\n",
       "        vertical-align: top;\n",
       "    }\n",
       "\n",
       "    .dataframe thead th {\n",
       "        text-align: right;\n",
       "    }\n",
       "</style>\n",
       "<table border=\"1\" class=\"dataframe\">\n",
       "  <thead>\n",
       "    <tr style=\"text-align: right;\">\n",
       "      <th></th>\n",
       "      <th>0</th>\n",
       "      <th>1</th>\n",
       "      <th>2</th>\n",
       "      <th>3</th>\n",
       "      <th>4</th>\n",
       "      <th>5</th>\n",
       "      <th>6</th>\n",
       "      <th>7</th>\n",
       "      <th>8</th>\n",
       "      <th>9</th>\n",
       "      <th>10</th>\n",
       "      <th>11</th>\n",
       "      <th>12</th>\n",
       "      <th>13</th>\n",
       "      <th>14</th>\n",
       "      <th>15</th>\n",
       "      <th>16</th>\n",
       "      <th>17</th>\n",
       "      <th>18</th>\n",
       "    </tr>\n",
       "  </thead>\n",
       "  <tbody>\n",
       "    <tr>\n",
       "      <th>0</th>\n",
       "      <td>233</td>\n",
       "      <td>100</td>\n",
       "      <td>52</td>\n",
       "      <td>104</td>\n",
       "      <td>189</td>\n",
       "      <td>59</td>\n",
       "      <td>10</td>\n",
       "      <td>208</td>\n",
       "      <td>32</td>\n",
       "      <td>24</td>\n",
       "      <td>163</td>\n",
       "      <td>220</td>\n",
       "      <td>642</td>\n",
       "      <td>197</td>\n",
       "      <td>70</td>\n",
       "      <td>1</td>\n",
       "      <td>22</td>\n",
       "      <td>187</td>\n",
       "      <td>198</td>\n",
       "    </tr>\n",
       "    <tr>\n",
       "      <th>1</th>\n",
       "      <td>546</td>\n",
       "      <td>92</td>\n",
       "      <td>40</td>\n",
       "      <td>66</td>\n",
       "      <td>111</td>\n",
       "      <td>48</td>\n",
       "      <td>7</td>\n",
       "      <td>139</td>\n",
       "      <td>50</td>\n",
       "      <td>19</td>\n",
       "      <td>140</td>\n",
       "      <td>159</td>\n",
       "      <td>277</td>\n",
       "      <td>148</td>\n",
       "      <td>85</td>\n",
       "      <td>12</td>\n",
       "      <td>19</td>\n",
       "      <td>182</td>\n",
       "      <td>183</td>\n",
       "    </tr>\n",
       "    <tr>\n",
       "      <th>2</th>\n",
       "      <td>383</td>\n",
       "      <td>100</td>\n",
       "      <td>51</td>\n",
       "      <td>109</td>\n",
       "      <td>224</td>\n",
       "      <td>67</td>\n",
       "      <td>9</td>\n",
       "      <td>217</td>\n",
       "      <td>30</td>\n",
       "      <td>24</td>\n",
       "      <td>162</td>\n",
       "      <td>238</td>\n",
       "      <td>704</td>\n",
       "      <td>206</td>\n",
       "      <td>72</td>\n",
       "      <td>6</td>\n",
       "      <td>18</td>\n",
       "      <td>189</td>\n",
       "      <td>199</td>\n",
       "    </tr>\n",
       "    <tr>\n",
       "      <th>3</th>\n",
       "      <td>609</td>\n",
       "      <td>87</td>\n",
       "      <td>42</td>\n",
       "      <td>60</td>\n",
       "      <td>116</td>\n",
       "      <td>51</td>\n",
       "      <td>6</td>\n",
       "      <td>150</td>\n",
       "      <td>46</td>\n",
       "      <td>19</td>\n",
       "      <td>141</td>\n",
       "      <td>169</td>\n",
       "      <td>324</td>\n",
       "      <td>171</td>\n",
       "      <td>85</td>\n",
       "      <td>2</td>\n",
       "      <td>14</td>\n",
       "      <td>178</td>\n",
       "      <td>182</td>\n",
       "    </tr>\n",
       "    <tr>\n",
       "      <th>4</th>\n",
       "      <td>543</td>\n",
       "      <td>96</td>\n",
       "      <td>37</td>\n",
       "      <td>74</td>\n",
       "      <td>187</td>\n",
       "      <td>68</td>\n",
       "      <td>8</td>\n",
       "      <td>159</td>\n",
       "      <td>42</td>\n",
       "      <td>20</td>\n",
       "      <td>134</td>\n",
       "      <td>183</td>\n",
       "      <td>378</td>\n",
       "      <td>134</td>\n",
       "      <td>69</td>\n",
       "      <td>3</td>\n",
       "      <td>16</td>\n",
       "      <td>190</td>\n",
       "      <td>197</td>\n",
       "    </tr>\n",
       "    <tr>\n",
       "      <th>5</th>\n",
       "      <td>232</td>\n",
       "      <td>81</td>\n",
       "      <td>44</td>\n",
       "      <td>68</td>\n",
       "      <td>120</td>\n",
       "      <td>53</td>\n",
       "      <td>6</td>\n",
       "      <td>151</td>\n",
       "      <td>45</td>\n",
       "      <td>19</td>\n",
       "      <td>147</td>\n",
       "      <td>170</td>\n",
       "      <td>333</td>\n",
       "      <td>178</td>\n",
       "      <td>86</td>\n",
       "      <td>4</td>\n",
       "      <td>5</td>\n",
       "      <td>179</td>\n",
       "      <td>183</td>\n",
       "    </tr>\n",
       "    <tr>\n",
       "      <th>6</th>\n",
       "      <td>366</td>\n",
       "      <td>90</td>\n",
       "      <td>47</td>\n",
       "      <td>85</td>\n",
       "      <td>149</td>\n",
       "      <td>60</td>\n",
       "      <td>10</td>\n",
       "      <td>155</td>\n",
       "      <td>43</td>\n",
       "      <td>19</td>\n",
       "      <td>155</td>\n",
       "      <td>179</td>\n",
       "      <td>355</td>\n",
       "      <td>186</td>\n",
       "      <td>75</td>\n",
       "      <td>1</td>\n",
       "      <td>5</td>\n",
       "      <td>185</td>\n",
       "      <td>196</td>\n",
       "    </tr>\n",
       "    <tr>\n",
       "      <th>7</th>\n",
       "      <td>741</td>\n",
       "      <td>87</td>\n",
       "      <td>39</td>\n",
       "      <td>74</td>\n",
       "      <td>165</td>\n",
       "      <td>66</td>\n",
       "      <td>6</td>\n",
       "      <td>145</td>\n",
       "      <td>45</td>\n",
       "      <td>19</td>\n",
       "      <td>134</td>\n",
       "      <td>173</td>\n",
       "      <td>318</td>\n",
       "      <td>139</td>\n",
       "      <td>70</td>\n",
       "      <td>3</td>\n",
       "      <td>21</td>\n",
       "      <td>195</td>\n",
       "      <td>200</td>\n",
       "    </tr>\n",
       "    <tr>\n",
       "      <th>8</th>\n",
       "      <td>809</td>\n",
       "      <td>79</td>\n",
       "      <td>38</td>\n",
       "      <td>55</td>\n",
       "      <td>120</td>\n",
       "      <td>55</td>\n",
       "      <td>5</td>\n",
       "      <td>142</td>\n",
       "      <td>48</td>\n",
       "      <td>19</td>\n",
       "      <td>128</td>\n",
       "      <td>153</td>\n",
       "      <td>295</td>\n",
       "      <td>145</td>\n",
       "      <td>81</td>\n",
       "      <td>4</td>\n",
       "      <td>2</td>\n",
       "      <td>180</td>\n",
       "      <td>183</td>\n",
       "    </tr>\n",
       "    <tr>\n",
       "      <th>9</th>\n",
       "      <td>226</td>\n",
       "      <td>107</td>\n",
       "      <td>54</td>\n",
       "      <td>98</td>\n",
       "      <td>210</td>\n",
       "      <td>66</td>\n",
       "      <td>11</td>\n",
       "      <td>218</td>\n",
       "      <td>31</td>\n",
       "      <td>24</td>\n",
       "      <td>169</td>\n",
       "      <td>221</td>\n",
       "      <td>704</td>\n",
       "      <td>216</td>\n",
       "      <td>71</td>\n",
       "      <td>14</td>\n",
       "      <td>0</td>\n",
       "      <td>188</td>\n",
       "      <td>197</td>\n",
       "    </tr>\n",
       "    <tr>\n",
       "      <th>10</th>\n",
       "      <td>756</td>\n",
       "      <td>95</td>\n",
       "      <td>53</td>\n",
       "      <td>95</td>\n",
       "      <td>202</td>\n",
       "      <td>65</td>\n",
       "      <td>10</td>\n",
       "      <td>193</td>\n",
       "      <td>34</td>\n",
       "      <td>22</td>\n",
       "      <td>160</td>\n",
       "      <td>220</td>\n",
       "      <td>559</td>\n",
       "      <td>237</td>\n",
       "      <td>71</td>\n",
       "      <td>3</td>\n",
       "      <td>2</td>\n",
       "      <td>188</td>\n",
       "      <td>196</td>\n",
       "    </tr>\n",
       "    <tr>\n",
       "      <th>11</th>\n",
       "      <td>506</td>\n",
       "      <td>101</td>\n",
       "      <td>51</td>\n",
       "      <td>112</td>\n",
       "      <td>201</td>\n",
       "      <td>59</td>\n",
       "      <td>11</td>\n",
       "      <td>214</td>\n",
       "      <td>32</td>\n",
       "      <td>24</td>\n",
       "      <td>162</td>\n",
       "      <td>223</td>\n",
       "      <td>667</td>\n",
       "      <td>194</td>\n",
       "      <td>65</td>\n",
       "      <td>0</td>\n",
       "      <td>36</td>\n",
       "      <td>190</td>\n",
       "      <td>206</td>\n",
       "    </tr>\n",
       "    <tr>\n",
       "      <th>12</th>\n",
       "      <td>666</td>\n",
       "      <td>102</td>\n",
       "      <td>43</td>\n",
       "      <td>96</td>\n",
       "      <td>197</td>\n",
       "      <td>63</td>\n",
       "      <td>10</td>\n",
       "      <td>185</td>\n",
       "      <td>36</td>\n",
       "      <td>22</td>\n",
       "      <td>142</td>\n",
       "      <td>202</td>\n",
       "      <td>513</td>\n",
       "      <td>139</td>\n",
       "      <td>65</td>\n",
       "      <td>8</td>\n",
       "      <td>12</td>\n",
       "      <td>195</td>\n",
       "      <td>204</td>\n",
       "    </tr>\n",
       "    <tr>\n",
       "      <th>13</th>\n",
       "      <td>476</td>\n",
       "      <td>101</td>\n",
       "      <td>55</td>\n",
       "      <td>101</td>\n",
       "      <td>183</td>\n",
       "      <td>57</td>\n",
       "      <td>13</td>\n",
       "      <td>225</td>\n",
       "      <td>30</td>\n",
       "      <td>25</td>\n",
       "      <td>177</td>\n",
       "      <td>225</td>\n",
       "      <td>741</td>\n",
       "      <td>204</td>\n",
       "      <td>71</td>\n",
       "      <td>5</td>\n",
       "      <td>10</td>\n",
       "      <td>186</td>\n",
       "      <td>198</td>\n",
       "    </tr>\n",
       "    <tr>\n",
       "      <th>14</th>\n",
       "      <td>84</td>\n",
       "      <td>89</td>\n",
       "      <td>40</td>\n",
       "      <td>76</td>\n",
       "      <td>188</td>\n",
       "      <td>76</td>\n",
       "      <td>7</td>\n",
       "      <td>150</td>\n",
       "      <td>44</td>\n",
       "      <td>19</td>\n",
       "      <td>136</td>\n",
       "      <td>174</td>\n",
       "      <td>342</td>\n",
       "      <td>148</td>\n",
       "      <td>72</td>\n",
       "      <td>3</td>\n",
       "      <td>8</td>\n",
       "      <td>193</td>\n",
       "      <td>197</td>\n",
       "    </tr>\n",
       "  </tbody>\n",
       "</table>\n",
       "</div>"
      ],
      "text/plain": [
       "     0    1   2    3    4   5   6    7   8   9    10   11   12   13  14  15  \\\n",
       "0   233  100  52  104  189  59  10  208  32  24  163  220  642  197  70   1   \n",
       "1   546   92  40   66  111  48   7  139  50  19  140  159  277  148  85  12   \n",
       "2   383  100  51  109  224  67   9  217  30  24  162  238  704  206  72   6   \n",
       "3   609   87  42   60  116  51   6  150  46  19  141  169  324  171  85   2   \n",
       "4   543   96  37   74  187  68   8  159  42  20  134  183  378  134  69   3   \n",
       "5   232   81  44   68  120  53   6  151  45  19  147  170  333  178  86   4   \n",
       "6   366   90  47   85  149  60  10  155  43  19  155  179  355  186  75   1   \n",
       "7   741   87  39   74  165  66   6  145  45  19  134  173  318  139  70   3   \n",
       "8   809   79  38   55  120  55   5  142  48  19  128  153  295  145  81   4   \n",
       "9   226  107  54   98  210  66  11  218  31  24  169  221  704  216  71  14   \n",
       "10  756   95  53   95  202  65  10  193  34  22  160  220  559  237  71   3   \n",
       "11  506  101  51  112  201  59  11  214  32  24  162  223  667  194  65   0   \n",
       "12  666  102  43   96  197  63  10  185  36  22  142  202  513  139  65   8   \n",
       "13  476  101  55  101  183  57  13  225  30  25  177  225  741  204  71   5   \n",
       "14   84   89  40   76  188  76   7  150  44  19  136  174  342  148  72   3   \n",
       "\n",
       "    16   17   18  \n",
       "0   22  187  198  \n",
       "1   19  182  183  \n",
       "2   18  189  199  \n",
       "3   14  178  182  \n",
       "4   16  190  197  \n",
       "5    5  179  183  \n",
       "6    5  185  196  \n",
       "7   21  195  200  \n",
       "8    2  180  183  \n",
       "9    0  188  197  \n",
       "10   2  188  196  \n",
       "11  36  190  206  \n",
       "12  12  195  204  \n",
       "13  10  186  198  \n",
       "14   8  193  197  "
      ]
     },
     "execution_count": 18,
     "metadata": {},
     "output_type": "execute_result"
    }
   ],
   "source": [
    "X_train_pd = pd.DataFrame(X_train)\n",
    "\n",
    "# First 15 rows of our dataset.\n",
    "X_train_pd.head(15)"
   ]
  },
  {
   "cell_type": "markdown",
   "metadata": {
    "colab_type": "text",
    "id": "ADigpnGCZzOF",
    "nbgrader": {
     "grade": false,
     "grade_id": "cell-98e7d91d77d65fcf",
     "locked": true,
     "schema_version": 2,
     "solution": false
    }
   },
   "source": [
    "Воспользовавшись методами `describe` и `info` можно получить полезную информацию о датасете."
   ]
  },
  {
   "cell_type": "code",
   "execution_count": 19,
   "metadata": {
    "ExecuteTime": {
     "end_time": "2021-04-07T17:16:14.520726Z",
     "start_time": "2021-04-07T17:16:14.470575Z"
    },
    "colab": {},
    "colab_type": "code",
    "id": "RuftsqHXZzOG",
    "outputId": "a501d550-b7e8-4e3b-a12f-ebd893739f0f"
   },
   "outputs": [
    {
     "data": {
      "text/html": [
       "<div>\n",
       "<style scoped>\n",
       "    .dataframe tbody tr th:only-of-type {\n",
       "        vertical-align: middle;\n",
       "    }\n",
       "\n",
       "    .dataframe tbody tr th {\n",
       "        vertical-align: top;\n",
       "    }\n",
       "\n",
       "    .dataframe thead th {\n",
       "        text-align: right;\n",
       "    }\n",
       "</style>\n",
       "<table border=\"1\" class=\"dataframe\">\n",
       "  <thead>\n",
       "    <tr style=\"text-align: right;\">\n",
       "      <th></th>\n",
       "      <th>0</th>\n",
       "      <th>1</th>\n",
       "      <th>2</th>\n",
       "      <th>3</th>\n",
       "      <th>4</th>\n",
       "      <th>5</th>\n",
       "      <th>6</th>\n",
       "      <th>7</th>\n",
       "      <th>8</th>\n",
       "      <th>9</th>\n",
       "      <th>10</th>\n",
       "      <th>11</th>\n",
       "      <th>12</th>\n",
       "      <th>13</th>\n",
       "      <th>14</th>\n",
       "      <th>15</th>\n",
       "      <th>16</th>\n",
       "      <th>17</th>\n",
       "      <th>18</th>\n",
       "    </tr>\n",
       "  </thead>\n",
       "  <tbody>\n",
       "    <tr>\n",
       "      <th>count</th>\n",
       "      <td>549.000000</td>\n",
       "      <td>549.000000</td>\n",
       "      <td>549.000000</td>\n",
       "      <td>549.000000</td>\n",
       "      <td>549.000000</td>\n",
       "      <td>549.000000</td>\n",
       "      <td>549.000000</td>\n",
       "      <td>549.000000</td>\n",
       "      <td>549.000000</td>\n",
       "      <td>549.000000</td>\n",
       "      <td>549.000000</td>\n",
       "      <td>549.000000</td>\n",
       "      <td>549.000000</td>\n",
       "      <td>549.000000</td>\n",
       "      <td>549.000000</td>\n",
       "      <td>549.000000</td>\n",
       "      <td>549.000000</td>\n",
       "      <td>549.000000</td>\n",
       "      <td>549.000000</td>\n",
       "    </tr>\n",
       "    <tr>\n",
       "      <th>mean</th>\n",
       "      <td>429.016393</td>\n",
       "      <td>93.754098</td>\n",
       "      <td>44.872495</td>\n",
       "      <td>81.876138</td>\n",
       "      <td>167.245902</td>\n",
       "      <td>61.242259</td>\n",
       "      <td>8.360656</td>\n",
       "      <td>168.814208</td>\n",
       "      <td>41.007286</td>\n",
       "      <td>20.599271</td>\n",
       "      <td>148.173042</td>\n",
       "      <td>188.178506</td>\n",
       "      <td>440.296903</td>\n",
       "      <td>174.759563</td>\n",
       "      <td>72.673953</td>\n",
       "      <td>6.437158</td>\n",
       "      <td>12.324226</td>\n",
       "      <td>188.721311</td>\n",
       "      <td>195.333333</td>\n",
       "    </tr>\n",
       "    <tr>\n",
       "      <th>std</th>\n",
       "      <td>244.325187</td>\n",
       "      <td>8.330075</td>\n",
       "      <td>6.223202</td>\n",
       "      <td>16.135239</td>\n",
       "      <td>32.740291</td>\n",
       "      <td>7.043760</td>\n",
       "      <td>3.712425</td>\n",
       "      <td>33.873289</td>\n",
       "      <td>7.980127</td>\n",
       "      <td>2.644316</td>\n",
       "      <td>14.696477</td>\n",
       "      <td>32.047652</td>\n",
       "      <td>180.179111</td>\n",
       "      <td>33.101047</td>\n",
       "      <td>7.391137</td>\n",
       "      <td>4.944045</td>\n",
       "      <td>8.595990</td>\n",
       "      <td>6.273621</td>\n",
       "      <td>7.518833</td>\n",
       "    </tr>\n",
       "    <tr>\n",
       "      <th>min</th>\n",
       "      <td>0.000000</td>\n",
       "      <td>73.000000</td>\n",
       "      <td>33.000000</td>\n",
       "      <td>40.000000</td>\n",
       "      <td>105.000000</td>\n",
       "      <td>47.000000</td>\n",
       "      <td>3.000000</td>\n",
       "      <td>112.000000</td>\n",
       "      <td>26.000000</td>\n",
       "      <td>17.000000</td>\n",
       "      <td>119.000000</td>\n",
       "      <td>130.000000</td>\n",
       "      <td>184.000000</td>\n",
       "      <td>109.000000</td>\n",
       "      <td>59.000000</td>\n",
       "      <td>0.000000</td>\n",
       "      <td>0.000000</td>\n",
       "      <td>176.000000</td>\n",
       "      <td>181.000000</td>\n",
       "    </tr>\n",
       "    <tr>\n",
       "      <th>25%</th>\n",
       "      <td>223.000000</td>\n",
       "      <td>87.000000</td>\n",
       "      <td>39.000000</td>\n",
       "      <td>70.000000</td>\n",
       "      <td>139.000000</td>\n",
       "      <td>57.000000</td>\n",
       "      <td>6.000000</td>\n",
       "      <td>146.000000</td>\n",
       "      <td>33.000000</td>\n",
       "      <td>19.000000</td>\n",
       "      <td>137.000000</td>\n",
       "      <td>167.000000</td>\n",
       "      <td>317.000000</td>\n",
       "      <td>147.000000</td>\n",
       "      <td>68.000000</td>\n",
       "      <td>2.000000</td>\n",
       "      <td>5.000000</td>\n",
       "      <td>184.000000</td>\n",
       "      <td>190.000000</td>\n",
       "    </tr>\n",
       "    <tr>\n",
       "      <th>50%</th>\n",
       "      <td>432.000000</td>\n",
       "      <td>93.000000</td>\n",
       "      <td>44.000000</td>\n",
       "      <td>79.000000</td>\n",
       "      <td>166.000000</td>\n",
       "      <td>61.000000</td>\n",
       "      <td>8.000000</td>\n",
       "      <td>157.000000</td>\n",
       "      <td>43.000000</td>\n",
       "      <td>20.000000</td>\n",
       "      <td>146.000000</td>\n",
       "      <td>178.000000</td>\n",
       "      <td>364.000000</td>\n",
       "      <td>174.000000</td>\n",
       "      <td>72.000000</td>\n",
       "      <td>6.000000</td>\n",
       "      <td>11.000000</td>\n",
       "      <td>188.000000</td>\n",
       "      <td>196.000000</td>\n",
       "    </tr>\n",
       "    <tr>\n",
       "      <th>75%</th>\n",
       "      <td>641.000000</td>\n",
       "      <td>100.000000</td>\n",
       "      <td>50.000000</td>\n",
       "      <td>98.000000</td>\n",
       "      <td>195.000000</td>\n",
       "      <td>65.000000</td>\n",
       "      <td>10.000000</td>\n",
       "      <td>200.000000</td>\n",
       "      <td>46.000000</td>\n",
       "      <td>23.000000</td>\n",
       "      <td>160.000000</td>\n",
       "      <td>217.000000</td>\n",
       "      <td>600.000000</td>\n",
       "      <td>199.000000</td>\n",
       "      <td>76.000000</td>\n",
       "      <td>10.000000</td>\n",
       "      <td>18.000000</td>\n",
       "      <td>193.000000</td>\n",
       "      <td>201.000000</td>\n",
       "    </tr>\n",
       "    <tr>\n",
       "      <th>max</th>\n",
       "      <td>845.000000</td>\n",
       "      <td>117.000000</td>\n",
       "      <td>59.000000</td>\n",
       "      <td>112.000000</td>\n",
       "      <td>333.000000</td>\n",
       "      <td>138.000000</td>\n",
       "      <td>52.000000</td>\n",
       "      <td>265.000000</td>\n",
       "      <td>61.000000</td>\n",
       "      <td>29.000000</td>\n",
       "      <td>188.000000</td>\n",
       "      <td>320.000000</td>\n",
       "      <td>1018.000000</td>\n",
       "      <td>268.000000</td>\n",
       "      <td>135.000000</td>\n",
       "      <td>22.000000</td>\n",
       "      <td>38.000000</td>\n",
       "      <td>206.000000</td>\n",
       "      <td>211.000000</td>\n",
       "    </tr>\n",
       "  </tbody>\n",
       "</table>\n",
       "</div>"
      ],
      "text/plain": [
       "               0           1           2           3           4           5   \\\n",
       "count  549.000000  549.000000  549.000000  549.000000  549.000000  549.000000   \n",
       "mean   429.016393   93.754098   44.872495   81.876138  167.245902   61.242259   \n",
       "std    244.325187    8.330075    6.223202   16.135239   32.740291    7.043760   \n",
       "min      0.000000   73.000000   33.000000   40.000000  105.000000   47.000000   \n",
       "25%    223.000000   87.000000   39.000000   70.000000  139.000000   57.000000   \n",
       "50%    432.000000   93.000000   44.000000   79.000000  166.000000   61.000000   \n",
       "75%    641.000000  100.000000   50.000000   98.000000  195.000000   65.000000   \n",
       "max    845.000000  117.000000   59.000000  112.000000  333.000000  138.000000   \n",
       "\n",
       "               6           7           8           9           10          11  \\\n",
       "count  549.000000  549.000000  549.000000  549.000000  549.000000  549.000000   \n",
       "mean     8.360656  168.814208   41.007286   20.599271  148.173042  188.178506   \n",
       "std      3.712425   33.873289    7.980127    2.644316   14.696477   32.047652   \n",
       "min      3.000000  112.000000   26.000000   17.000000  119.000000  130.000000   \n",
       "25%      6.000000  146.000000   33.000000   19.000000  137.000000  167.000000   \n",
       "50%      8.000000  157.000000   43.000000   20.000000  146.000000  178.000000   \n",
       "75%     10.000000  200.000000   46.000000   23.000000  160.000000  217.000000   \n",
       "max     52.000000  265.000000   61.000000   29.000000  188.000000  320.000000   \n",
       "\n",
       "                12          13          14          15          16  \\\n",
       "count   549.000000  549.000000  549.000000  549.000000  549.000000   \n",
       "mean    440.296903  174.759563   72.673953    6.437158   12.324226   \n",
       "std     180.179111   33.101047    7.391137    4.944045    8.595990   \n",
       "min     184.000000  109.000000   59.000000    0.000000    0.000000   \n",
       "25%     317.000000  147.000000   68.000000    2.000000    5.000000   \n",
       "50%     364.000000  174.000000   72.000000    6.000000   11.000000   \n",
       "75%     600.000000  199.000000   76.000000   10.000000   18.000000   \n",
       "max    1018.000000  268.000000  135.000000   22.000000   38.000000   \n",
       "\n",
       "               17          18  \n",
       "count  549.000000  549.000000  \n",
       "mean   188.721311  195.333333  \n",
       "std      6.273621    7.518833  \n",
       "min    176.000000  181.000000  \n",
       "25%    184.000000  190.000000  \n",
       "50%    188.000000  196.000000  \n",
       "75%    193.000000  201.000000  \n",
       "max    206.000000  211.000000  "
      ]
     },
     "execution_count": 19,
     "metadata": {},
     "output_type": "execute_result"
    }
   ],
   "source": [
    "X_train_pd.describe()"
   ]
  },
  {
   "cell_type": "code",
   "execution_count": 20,
   "metadata": {
    "ExecuteTime": {
     "end_time": "2021-04-07T17:16:14.767698Z",
     "start_time": "2021-04-07T17:16:14.758615Z"
    },
    "colab": {},
    "colab_type": "code",
    "id": "JCrtOMMBZzOI",
    "outputId": "2f9d000a-5654-4558-9b28-f850cb1b26fc"
   },
   "outputs": [
    {
     "name": "stdout",
     "output_type": "stream",
     "text": [
      "<class 'pandas.core.frame.DataFrame'>\n",
      "RangeIndex: 549 entries, 0 to 548\n",
      "Data columns (total 19 columns):\n",
      " #   Column  Non-Null Count  Dtype\n",
      "---  ------  --------------  -----\n",
      " 0   0       549 non-null    int64\n",
      " 1   1       549 non-null    int64\n",
      " 2   2       549 non-null    int64\n",
      " 3   3       549 non-null    int64\n",
      " 4   4       549 non-null    int64\n",
      " 5   5       549 non-null    int64\n",
      " 6   6       549 non-null    int64\n",
      " 7   7       549 non-null    int64\n",
      " 8   8       549 non-null    int64\n",
      " 9   9       549 non-null    int64\n",
      " 10  10      549 non-null    int64\n",
      " 11  11      549 non-null    int64\n",
      " 12  12      549 non-null    int64\n",
      " 13  13      549 non-null    int64\n",
      " 14  14      549 non-null    int64\n",
      " 15  15      549 non-null    int64\n",
      " 16  16      549 non-null    int64\n",
      " 17  17      549 non-null    int64\n",
      " 18  18      549 non-null    int64\n",
      "dtypes: int64(19)\n",
      "memory usage: 81.6 KB\n"
     ]
    }
   ],
   "source": [
    "X_train_pd.info()"
   ]
  },
  {
   "cell_type": "code",
   "execution_count": 21,
   "metadata": {
    "ExecuteTime": {
     "end_time": "2021-04-07T17:16:15.194395Z",
     "start_time": "2021-04-07T17:16:15.190900Z"
    },
    "colab": {},
    "colab_type": "code",
    "id": "_QxIw9Z2ZzOK",
    "outputId": "275f94c9-9c33-43c5-a557-8054feec574c"
   },
   "outputs": [
    {
     "data": {
      "text/plain": [
       "array(['bus', 'opel', 'saab', 'van'], dtype=object)"
      ]
     },
     "execution_count": 21,
     "metadata": {},
     "output_type": "execute_result"
    }
   ],
   "source": [
    "# Рассмотрим значения целевой переменной\n",
    "np.unique(target)"
   ]
  },
  {
   "cell_type": "markdown",
   "metadata": {
    "colab_type": "text",
    "id": "q8odmDOyZzON",
    "nbgrader": {
     "grade": false,
     "grade_id": "cell-be844269be69c387",
     "locked": true,
     "schema_version": 2,
     "solution": false
    }
   },
   "source": [
    "### 2. Работа с данными, построение модели, анализ ошибки.\n",
    "Выполним основные манипуляции с данными:"
   ]
  },
  {
   "cell_type": "markdown",
   "metadata": {
    "colab_type": "text",
    "id": "vWOioFEaZzON"
   },
   "source": [
    "#### 2.0. Предобработка данных.\n",
    "* Какие манипуляции с данными необходимы по вашему мнению?"
   ]
  },
  {
   "cell_type": "code",
   "execution_count": 22,
   "metadata": {
    "ExecuteTime": {
     "end_time": "2021-04-07T17:16:19.874700Z",
     "start_time": "2021-04-07T17:16:19.872568Z"
    },
    "colab": {},
    "colab_type": "code",
    "id": "58cbc6ppZzOO",
    "nbgrader": {
     "grade": true,
     "grade_id": "cell-a1514aa189a49fca",
     "locked": false,
     "points": 15,
     "schema_version": 2,
     "solution": true
    }
   },
   "outputs": [],
   "source": [
    "from sklearn.preprocessing import LabelEncoder, MinMaxScaler, StandardScaler\n",
    "\n",
    "# Например, в датасете присутствуют категориальные признаки, различные признаки в различных шкалах и пр.\n",
    "\n",
    "prepr = StandardScaler()"
   ]
  },
  {
   "cell_type": "markdown",
   "metadata": {
    "colab_type": "text",
    "id": "oV7Us8dDZzOR"
   },
   "source": [
    "#### 2.1. Базовая логистическая регрессия.\n",
    "* Подберем оптимальные параметры логистической регресии с помощью кросс-валидации на train-датасете. Небольшого grid/random search'а хватит.\n",
    "\n",
    "* Построим график ROC-кривой для данного классификатора и оценим точность классификации и f1-score. "
   ]
  },
  {
   "cell_type": "code",
   "execution_count": 28,
   "metadata": {
    "ExecuteTime": {
     "end_time": "2021-04-07T17:19:24.733828Z",
     "start_time": "2021-04-07T17:19:24.731422Z"
    },
    "colab": {},
    "colab_type": "code",
    "id": "WiOXsT1RZzOR",
    "nbgrader": {
     "grade": true,
     "grade_id": "cell-1dd5ad5d0845cbbb",
     "locked": false,
     "points": 5,
     "schema_version": 2,
     "solution": true
    },
    "outputId": "03cd4fea-f2bf-4d06-d102-d9403ad48153"
   },
   "outputs": [],
   "source": [
    "from sklearn.linear_model import LogisticRegression\n",
    "from sklearn.model_selection import GridSearchCV, StratifiedKFold\n",
    "from sklearn.pipeline import Pipeline, make_pipeline\n",
    "\n",
    "\n",
    "pipeline = make_pipeline(\n",
    "    prepr,\n",
    "    LogisticRegression(),\n",
    ")"
   ]
  },
  {
   "cell_type": "code",
   "execution_count": 33,
   "metadata": {
    "ExecuteTime": {
     "end_time": "2021-04-07T17:20:01.786332Z",
     "start_time": "2021-04-07T17:20:01.110989Z"
    },
    "scrolled": true
   },
   "outputs": [
    {
     "name": "stderr",
     "output_type": "stream",
     "text": [
      "/usr/local/Caskroom/miniconda/base/envs/ml-mipt/lib/python3.8/site-packages/sklearn/linear_model/_logistic.py:763: ConvergenceWarning: lbfgs failed to converge (status=1):\n",
      "STOP: TOTAL NO. of ITERATIONS REACHED LIMIT.\n",
      "\n",
      "Increase the number of iterations (max_iter) or scale the data as shown in:\n",
      "    https://scikit-learn.org/stable/modules/preprocessing.html\n",
      "Please also refer to the documentation for alternative solver options:\n",
      "    https://scikit-learn.org/stable/modules/linear_model.html#logistic-regression\n",
      "  n_iter_i = _check_optimize_result(\n",
      "/usr/local/Caskroom/miniconda/base/envs/ml-mipt/lib/python3.8/site-packages/sklearn/linear_model/_logistic.py:763: ConvergenceWarning: lbfgs failed to converge (status=1):\n",
      "STOP: TOTAL NO. of ITERATIONS REACHED LIMIT.\n",
      "\n",
      "Increase the number of iterations (max_iter) or scale the data as shown in:\n",
      "    https://scikit-learn.org/stable/modules/preprocessing.html\n",
      "Please also refer to the documentation for alternative solver options:\n",
      "    https://scikit-learn.org/stable/modules/linear_model.html#logistic-regression\n",
      "  n_iter_i = _check_optimize_result(\n",
      "/usr/local/Caskroom/miniconda/base/envs/ml-mipt/lib/python3.8/site-packages/sklearn/linear_model/_logistic.py:763: ConvergenceWarning: lbfgs failed to converge (status=1):\n",
      "STOP: TOTAL NO. of ITERATIONS REACHED LIMIT.\n",
      "\n",
      "Increase the number of iterations (max_iter) or scale the data as shown in:\n",
      "    https://scikit-learn.org/stable/modules/preprocessing.html\n",
      "Please also refer to the documentation for alternative solver options:\n",
      "    https://scikit-learn.org/stable/modules/linear_model.html#logistic-regression\n",
      "  n_iter_i = _check_optimize_result(\n",
      "/usr/local/Caskroom/miniconda/base/envs/ml-mipt/lib/python3.8/site-packages/sklearn/linear_model/_logistic.py:763: ConvergenceWarning: lbfgs failed to converge (status=1):\n",
      "STOP: TOTAL NO. of ITERATIONS REACHED LIMIT.\n",
      "\n",
      "Increase the number of iterations (max_iter) or scale the data as shown in:\n",
      "    https://scikit-learn.org/stable/modules/preprocessing.html\n",
      "Please also refer to the documentation for alternative solver options:\n",
      "    https://scikit-learn.org/stable/modules/linear_model.html#logistic-regression\n",
      "  n_iter_i = _check_optimize_result(\n",
      "/usr/local/Caskroom/miniconda/base/envs/ml-mipt/lib/python3.8/site-packages/sklearn/linear_model/_logistic.py:763: ConvergenceWarning: lbfgs failed to converge (status=1):\n",
      "STOP: TOTAL NO. of ITERATIONS REACHED LIMIT.\n",
      "\n",
      "Increase the number of iterations (max_iter) or scale the data as shown in:\n",
      "    https://scikit-learn.org/stable/modules/preprocessing.html\n",
      "Please also refer to the documentation for alternative solver options:\n",
      "    https://scikit-learn.org/stable/modules/linear_model.html#logistic-regression\n",
      "  n_iter_i = _check_optimize_result(\n",
      "/usr/local/Caskroom/miniconda/base/envs/ml-mipt/lib/python3.8/site-packages/sklearn/linear_model/_logistic.py:763: ConvergenceWarning: lbfgs failed to converge (status=1):\n",
      "STOP: TOTAL NO. of ITERATIONS REACHED LIMIT.\n",
      "\n",
      "Increase the number of iterations (max_iter) or scale the data as shown in:\n",
      "    https://scikit-learn.org/stable/modules/preprocessing.html\n",
      "Please also refer to the documentation for alternative solver options:\n",
      "    https://scikit-learn.org/stable/modules/linear_model.html#logistic-regression\n",
      "  n_iter_i = _check_optimize_result(\n",
      "/usr/local/Caskroom/miniconda/base/envs/ml-mipt/lib/python3.8/site-packages/sklearn/linear_model/_logistic.py:763: ConvergenceWarning: lbfgs failed to converge (status=1):\n",
      "STOP: TOTAL NO. of ITERATIONS REACHED LIMIT.\n",
      "\n",
      "Increase the number of iterations (max_iter) or scale the data as shown in:\n",
      "    https://scikit-learn.org/stable/modules/preprocessing.html\n",
      "Please also refer to the documentation for alternative solver options:\n",
      "    https://scikit-learn.org/stable/modules/linear_model.html#logistic-regression\n",
      "  n_iter_i = _check_optimize_result(\n",
      "/usr/local/Caskroom/miniconda/base/envs/ml-mipt/lib/python3.8/site-packages/sklearn/linear_model/_logistic.py:763: ConvergenceWarning: lbfgs failed to converge (status=1):\n",
      "STOP: TOTAL NO. of ITERATIONS REACHED LIMIT.\n",
      "\n",
      "Increase the number of iterations (max_iter) or scale the data as shown in:\n",
      "    https://scikit-learn.org/stable/modules/preprocessing.html\n",
      "Please also refer to the documentation for alternative solver options:\n",
      "    https://scikit-learn.org/stable/modules/linear_model.html#logistic-regression\n",
      "  n_iter_i = _check_optimize_result(\n",
      "/usr/local/Caskroom/miniconda/base/envs/ml-mipt/lib/python3.8/site-packages/sklearn/linear_model/_logistic.py:763: ConvergenceWarning: lbfgs failed to converge (status=1):\n",
      "STOP: TOTAL NO. of ITERATIONS REACHED LIMIT.\n",
      "\n",
      "Increase the number of iterations (max_iter) or scale the data as shown in:\n",
      "    https://scikit-learn.org/stable/modules/preprocessing.html\n",
      "Please also refer to the documentation for alternative solver options:\n",
      "    https://scikit-learn.org/stable/modules/linear_model.html#logistic-regression\n",
      "  n_iter_i = _check_optimize_result(\n",
      "/usr/local/Caskroom/miniconda/base/envs/ml-mipt/lib/python3.8/site-packages/sklearn/linear_model/_logistic.py:763: ConvergenceWarning: lbfgs failed to converge (status=1):\n",
      "STOP: TOTAL NO. of ITERATIONS REACHED LIMIT.\n",
      "\n",
      "Increase the number of iterations (max_iter) or scale the data as shown in:\n",
      "    https://scikit-learn.org/stable/modules/preprocessing.html\n",
      "Please also refer to the documentation for alternative solver options:\n",
      "    https://scikit-learn.org/stable/modules/linear_model.html#logistic-regression\n",
      "  n_iter_i = _check_optimize_result(\n",
      "/usr/local/Caskroom/miniconda/base/envs/ml-mipt/lib/python3.8/site-packages/sklearn/linear_model/_logistic.py:763: ConvergenceWarning: lbfgs failed to converge (status=1):\n",
      "STOP: TOTAL NO. of ITERATIONS REACHED LIMIT.\n",
      "\n",
      "Increase the number of iterations (max_iter) or scale the data as shown in:\n",
      "    https://scikit-learn.org/stable/modules/preprocessing.html\n",
      "Please also refer to the documentation for alternative solver options:\n",
      "    https://scikit-learn.org/stable/modules/linear_model.html#logistic-regression\n",
      "  n_iter_i = _check_optimize_result(\n"
     ]
    },
    {
     "data": {
      "text/plain": [
       "GridSearchCV(estimator=Pipeline(steps=[('standardscaler', StandardScaler()),\n",
       "                                       ('logisticregression',\n",
       "                                        LogisticRegression())]),\n",
       "             param_grid={'logisticregression__C': array([ 0.04978707,  0.22313016,  1.        ,  4.48168907, 20.08553692])})"
      ]
     },
     "execution_count": 33,
     "metadata": {},
     "output_type": "execute_result"
    }
   ],
   "source": [
    "lr_cv = GridSearchCV(\n",
    "    pipeline,\n",
    "    {'logisticregression__C': np.exp(np.linspace(-3, 3, 5))}\n",
    ")\n",
    "lr_cv.fit(X_train, y_train)"
   ]
  },
  {
   "cell_type": "code",
   "execution_count": 34,
   "metadata": {
    "ExecuteTime": {
     "end_time": "2021-04-07T17:20:13.168690Z",
     "start_time": "2021-04-07T17:20:13.166376Z"
    },
    "colab": {},
    "colab_type": "code",
    "id": "y6OOQutGZzOU",
    "outputId": "b60becb2-2680-4982-d5de-1a33f809d146",
    "scrolled": true
   },
   "outputs": [
    {
     "name": "stdout",
     "output_type": "stream",
     "text": [
      "Accuracy score:  0.8014512093411177\n"
     ]
    }
   ],
   "source": [
    "print(\"Accuracy score: \", lr_cv.best_score_)"
   ]
  },
  {
   "cell_type": "code",
   "execution_count": 35,
   "metadata": {
    "ExecuteTime": {
     "end_time": "2021-04-07T17:20:13.647665Z",
     "start_time": "2021-04-07T17:20:13.643391Z"
    },
    "colab": {},
    "colab_type": "code",
    "id": "ZRphmfNPZzOX",
    "outputId": "538b198e-c7a1-4f1d-e936-49908f4c2151"
   },
   "outputs": [
    {
     "name": "stdout",
     "output_type": "stream",
     "text": [
      "Best model params:  Pipeline(steps=[('standardscaler', StandardScaler()),\n",
      "                ('logisticregression',\n",
      "                 LogisticRegression(C=20.085536923187668))])\n"
     ]
    }
   ],
   "source": [
    "print(\"Best model params: \", lr_cv.best_estimator_)"
   ]
  },
  {
   "cell_type": "markdown",
   "metadata": {
    "colab_type": "text",
    "id": "uUwIYg5KZzOZ"
   },
   "source": [
    "Пакет `scikitplot` позволяет строить красивые `ROC`-кривые (и по-умолчанию удобнее, чем `sklearn.metrics.roc_curve`)."
   ]
  },
  {
   "cell_type": "code",
   "execution_count": 36,
   "metadata": {
    "ExecuteTime": {
     "end_time": "2021-04-07T17:20:56.553635Z",
     "start_time": "2021-04-07T17:20:56.264198Z"
    },
    "colab": {},
    "colab_type": "code",
    "id": "J6-uLDEpZzOa",
    "outputId": "83bac6c2-7b04-4683-d3f5-8272c569cb72"
   },
   "outputs": [
    {
     "data": {
      "text/plain": [
       "<AxesSubplot:title={'center':'ROC Curves'}, xlabel='False Positive Rate', ylabel='True Positive Rate'>"
      ]
     },
     "execution_count": 36,
     "metadata": {},
     "output_type": "execute_result"
    },
    {
     "data": {
      "image/png": "[encoded data removed]",
      "text/plain": [
       "<Figure size 1008x720 with 1 Axes>"
      ]
     },
     "metadata": {
      "needs_background": "light"
     },
     "output_type": "display_data"
    }
   ],
   "source": [
    "scikitplot.metrics.plot_roc(y_test, lr_cv.predict_proba(X_test), \n",
    "                            figsize=(14, 10))\n",
    "        \n",
    "\n",
    "# def plot_roc_auc_curve_multiclass(y_true, y_pred, y_pred_proba, suptitle):\n",
    "#     sns.set(style=\"whitegrid\", font_scale=1.3)\n",
    "#     print(\"- accuracy: {:.3f}\\n- f1: {:.3f}\".format(\n",
    "#         accuracy_score(y_test, y_pred),\n",
    "#         f1_score(y_test, y_pred, average=\"weighted\")\n",
    "#     ))\n",
    "\n",
    "# plot_roc_auc_curve_multiclass(y_test, \n",
    "#                               lr_cv.predict(X_test), \n",
    "#                               lr_cv.predict_proba(X_test), \n",
    "#                               \"Logistic Regression\")"
   ]
  },
  {
   "cell_type": "markdown",
   "metadata": {
    "colab_type": "text",
    "id": "MDBTy-kiZzOc"
   },
   "source": [
    "#### 2.2. Зависимость объясненной дисперсии от числа главных компонент.\n",
    "Воспользуемся методом главных компонент (PCA). \n",
    "\n",
    "Применим его к train-части данных.\n",
    "Затем построим график зависимости объясненной дисперсии (explained variance ratio) от количества главных компонент."
   ]
  },
  {
   "cell_type": "code",
   "execution_count": 38,
   "metadata": {
    "ExecuteTime": {
     "end_time": "2021-04-07T17:25:02.560635Z",
     "start_time": "2021-04-07T17:25:02.557811Z"
    }
   },
   "outputs": [
    {
     "data": {
      "text/plain": [
       "(549, 19)"
      ]
     },
     "execution_count": 38,
     "metadata": {},
     "output_type": "execute_result"
    }
   ],
   "source": [
    "X_train.shape"
   ]
  },
  {
   "cell_type": "code",
   "execution_count": 37,
   "metadata": {
    "ExecuteTime": {
     "end_time": "2021-04-07T17:23:58.189121Z",
     "start_time": "2021-04-07T17:23:58.166361Z"
    },
    "colab": {},
    "colab_type": "code",
    "id": "CRU32wapZzOd",
    "nbgrader": {
     "grade": true,
     "grade_id": "cell-c6c614740bce090e",
     "locked": false,
     "points": 10,
     "schema_version": 2,
     "solution": true
    },
    "outputId": "4c36ae17-6daf-4338-b903-1c1ed309aa52"
   },
   "outputs": [],
   "source": [
    "from sklearn.decomposition import PCA\n",
    "\n",
    "pca = PCA()"
   ]
  },
  {
   "cell_type": "code",
   "execution_count": null,
   "metadata": {
    "ExecuteTime": {
     "end_time": "2021-04-07T17:26:56.373889Z",
     "start_time": "2021-04-07T17:26:56.370836Z"
    }
   },
   "outputs": [],
   "source": [
    "X_pca = pca.fit_transform(X_train)"
   ]
  },
  {
   "cell_type": "code",
   "execution_count": 51,
   "metadata": {
    "ExecuteTime": {
     "end_time": "2021-04-07T17:34:19.838633Z",
     "start_time": "2021-04-07T17:34:19.836324Z"
    }
   },
   "outputs": [],
   "source": [
    "pca_pipe = make_pipeline(StandardScaler(), PCA())"
   ]
  },
  {
   "cell_type": "code",
   "execution_count": 52,
   "metadata": {
    "ExecuteTime": {
     "end_time": "2021-04-07T17:34:42.919286Z",
     "start_time": "2021-04-07T17:34:42.913420Z"
    }
   },
   "outputs": [
    {
     "data": {
      "text/plain": [
       "Pipeline(steps=[('standardscaler', StandardScaler()), ('pca', PCA())])"
      ]
     },
     "execution_count": 52,
     "metadata": {},
     "output_type": "execute_result"
    }
   ],
   "source": [
    "pca_pipe.fit(X_train)"
   ]
  },
  {
   "cell_type": "code",
   "execution_count": 43,
   "metadata": {
    "ExecuteTime": {
     "end_time": "2021-04-07T17:27:21.491807Z",
     "start_time": "2021-04-07T17:27:21.488808Z"
    }
   },
   "outputs": [
    {
     "data": {
      "text/plain": [
       "(549, 19)"
      ]
     },
     "execution_count": 43,
     "metadata": {},
     "output_type": "execute_result"
    }
   ],
   "source": [
    "X_pca.shape"
   ]
  },
  {
   "cell_type": "code",
   "execution_count": 44,
   "metadata": {
    "ExecuteTime": {
     "end_time": "2021-04-07T17:27:37.410375Z",
     "start_time": "2021-04-07T17:27:37.407195Z"
    }
   },
   "outputs": [
    {
     "data": {
      "text/plain": [
       "array([6.18871811e-01, 3.66454908e-01, 6.60304470e-03, 4.24431357e-03,\n",
       "       1.33212917e-03, 7.10706453e-04, 4.96578961e-04, 3.86388517e-04,\n",
       "       3.02358678e-04, 2.36663345e-04, 1.22071425e-04, 8.59080996e-05,\n",
       "       6.01641840e-05, 4.03910263e-05, 2.57620678e-05, 1.64243659e-05,\n",
       "       7.08570185e-06, 2.56626406e-06, 7.24323775e-07])"
      ]
     },
     "execution_count": 44,
     "metadata": {},
     "output_type": "execute_result"
    }
   ],
   "source": [
    "pca.explained_variance_ratio_"
   ]
  },
  {
   "cell_type": "code",
   "execution_count": 56,
   "metadata": {
    "ExecuteTime": {
     "end_time": "2021-04-07T17:35:15.401760Z",
     "start_time": "2021-04-07T17:35:15.261972Z"
    }
   },
   "outputs": [
    {
     "data": {
      "image/png": "[encoded data removed]",
      "text/plain": [
       "<Figure size 1080x360 with 1 Axes>"
      ]
     },
     "metadata": {
      "needs_background": "light"
     },
     "output_type": "display_data"
    }
   ],
   "source": [
    "plt.figure(figsize=(15, 5))\n",
    "plt.plot(pca_pipe['pca'].explained_variance_)\n",
    "plt.grid()"
   ]
  },
  {
   "cell_type": "code",
   "execution_count": 50,
   "metadata": {
    "ExecuteTime": {
     "end_time": "2021-04-07T17:29:51.566746Z",
     "start_time": "2021-04-07T17:29:51.417809Z"
    }
   },
   "outputs": [
    {
     "data": {
      "image/png": "[encoded data removed]",
      "text/plain": [
       "<Figure size 1080x360 with 1 Axes>"
      ]
     },
     "metadata": {
      "needs_background": "light"
     },
     "output_type": "display_data"
    }
   ],
   "source": [
    "plt.figure(figsize=(15, 5))\n",
    "plt.plot(pca.explained_variance_)\n",
    "plt.grid()"
   ]
  },
  {
   "cell_type": "markdown",
   "metadata": {
    "colab_type": "text",
    "id": "LexO7_4hZzOf",
    "nbgrader": {
     "grade": false,
     "grade_id": "cell-0c1fe666f52fe53c",
     "locked": true,
     "schema_version": 2,
     "solution": false
    }
   },
   "source": [
    "#### 2.3. Преобразование с помощью PCA.\n",
    "Выберем оптимальное число компонент. Чем должен быть обусловлен наш выбор?\n",
    "\n",
    "Используя эти главные компоненты, преобразуем train и test выборки (используя методы `fit` и `transform`)."
   ]
  },
  {
   "cell_type": "code",
   "execution_count": null,
   "metadata": {
    "ExecuteTime": {
     "end_time": "2019-04-01T20:19:45.886921Z",
     "start_time": "2019-04-01T20:19:45.875309Z"
    },
    "colab": {},
    "colab_type": "code",
    "id": "PQ96dn8xZzOg",
    "nbgrader": {
     "grade": true,
     "grade_id": "cell-96ab18d96473ef71",
     "locked": false,
     "points": 5,
     "schema_version": 2,
     "solution": true
    }
   },
   "outputs": [],
   "source": [
    "pca = PCA(n_components=<N BEST COMPONENTS>)\n",
    "\n",
    "X_train_proj = # YOUR CODE HERE pca.fit_transform(X_train)\n",
    "X_test_proj = # YOUR CODE HEREpca.transform(X_test)"
   ]
  },
  {
   "cell_type": "markdown",
   "metadata": {
    "colab_type": "text",
    "id": "1LVtewTRZzOj",
    "nbgrader": {
     "grade": false,
     "grade_id": "cell-d28b58a35c94e988",
     "locked": true,
     "schema_version": 2,
     "solution": false
    }
   },
   "source": [
    "#### 2.4. Логистическая регрессия над преобразованными данными.\n",
    "* Подберем оптимальные параметры логистической регресии с помощью кросс-валидации на преобразованном train-датасете.\n",
    "\n",
    "* Снова построим график ROC-кривой для полученных классификаторов, оценим точность классификации и f1-score. "
   ]
  },
  {
   "cell_type": "code",
   "execution_count": 67,
   "metadata": {
    "ExecuteTime": {
     "end_time": "2021-04-07T17:39:47.810247Z",
     "start_time": "2021-04-07T17:39:47.342371Z"
    },
    "colab": {},
    "colab_type": "code",
    "id": "2WhzfIQrZzOk",
    "nbgrader": {
     "grade": true,
     "grade_id": "cell-12d53ea45258fa82",
     "locked": false,
     "points": 5,
     "schema_version": 2,
     "solution": true
    },
    "outputId": "ab5272bb-a04a-491e-8ea3-fae6ad3ab7fe",
    "scrolled": true
   },
   "outputs": [
    {
     "data": {
      "text/plain": [
       "GridSearchCV(estimator=Pipeline(steps=[('standardscaler', StandardScaler()),\n",
       "                                       ('pca', PCA(n_components=9)),\n",
       "                                       ('logisticregression',\n",
       "                                        LogisticRegression(max_iter=1000))]),\n",
       "             param_grid={'logisticregression__C': array([ 0.04978707,  0.22313016,  1.        ,  4.48168907, 20.08553692])})"
      ]
     },
     "execution_count": 67,
     "metadata": {},
     "output_type": "execute_result"
    }
   ],
   "source": [
    "pca_lr_pipe = make_pipeline(StandardScaler(), PCA(9), LogisticRegression(max_iter=1000))\n",
    "pca_cv = GridSearchCV(\n",
    "    pca_lr_pipe,\n",
    "    {'logisticregression__C': np.exp(np.linspace(-3, 3, 5))}\n",
    ")\n",
    "pca_cv.fit(X_train, y_train)"
   ]
  },
  {
   "cell_type": "code",
   "execution_count": 68,
   "metadata": {
    "ExecuteTime": {
     "end_time": "2021-04-07T17:39:47.814873Z",
     "start_time": "2021-04-07T17:39:47.812222Z"
    }
   },
   "outputs": [
    {
     "name": "stdout",
     "output_type": "stream",
     "text": [
      "Accuracy score:  0.6666388657214345\n"
     ]
    }
   ],
   "source": [
    "print(\"Accuracy score: \", pca_cv.best_score_)"
   ]
  },
  {
   "cell_type": "markdown",
   "metadata": {
    "colab_type": "text",
    "id": "nH03DKb-ZzOn",
    "nbgrader": {
     "grade": false,
     "grade_id": "cell-4fbf16c64076e139",
     "locked": true,
     "schema_version": 2,
     "solution": false
    }
   },
   "source": [
    "#### 2.5. Решающее дерево.\n",
    "Рассмотрим поведение решающего дерева на исходных и преобразованных данных. Будем варьировать лишь один параметр - максимальную глубину дерева. \n",
    "\n",
    "* С помощью кросс-валидации подберем оптимальный параметр `max_depth` и оцените на исходных и преобразованных данных те же метрики, что и выше."
   ]
  },
  {
   "cell_type": "code",
   "execution_count": null,
   "metadata": {
    "ExecuteTime": {
     "end_time": "2019-04-01T20:21:12.517343Z",
     "start_time": "2019-04-01T20:21:11.172851Z"
    },
    "colab": {},
    "colab_type": "code",
    "id": "5gcBI3NEZzOo",
    "nbgrader": {
     "grade": true,
     "grade_id": "cell-748ed20b51c67fab",
     "locked": false,
     "points": 15,
     "schema_version": 2,
     "solution": true
    },
    "outputId": "4674de5e-a7a0-4cb9-f3e4-407dae3bcb06"
   },
   "outputs": [],
   "source": [
    "from sklearn.tree import DecisionTreeClassifier\n",
    "\n"
   ]
  },
  {
   "cell_type": "code",
   "execution_count": null,
   "metadata": {
    "ExecuteTime": {
     "end_time": "2019-04-01T20:21:20.467036Z",
     "start_time": "2019-04-01T20:21:20.458064Z"
    },
    "colab": {},
    "colab_type": "code",
    "id": "jlXXpxohZzOs",
    "outputId": "209aa07c-598f-4d25-9ebd-c0d7b9c66f89"
   },
   "outputs": [],
   "source": [
    "print(accuracy_score(dt_cv.predict(X_train), y_train))"
   ]
  },
  {
   "cell_type": "markdown",
   "metadata": {
    "colab_type": "text",
    "id": "5yX3225hZzOx"
   },
   "source": [
    "Судя по `accuracy` на обучающей выборке, дерево могло переобучиться. Рассмотрим данные после применения PCA."
   ]
  },
  {
   "cell_type": "code",
   "execution_count": null,
   "metadata": {
    "ExecuteTime": {
     "end_time": "2019-04-01T20:21:39.515084Z",
     "start_time": "2019-04-01T20:21:38.425015Z"
    },
    "colab": {},
    "colab_type": "code",
    "id": "BpHGmh6LZzOy",
    "outputId": "3a4883ad-8e26-4d5a-ca3a-56d607eee665"
   },
   "outputs": [],
   "source": [
    "# YOUR CODE HERE"
   ]
  },
  {
   "cell_type": "markdown",
   "metadata": {
    "colab_type": "text",
    "id": "Ybm6o6RiZzO1",
    "nbgrader": {
     "grade": false,
     "grade_id": "cell-9eadd4d8a03ae67a",
     "locked": true,
     "schema_version": 2,
     "solution": false
    }
   },
   "source": [
    "#### 2.6. Bagging.\n",
    "Перейдем к ансамблям. \n",
    "\n",
    "Для построения ансамбля воспользуемся Bagging'ом с числом алгоритмов от 2 до 50. В качестве первого семейства базовых алгоримтов будем использовать линейные модели (т.е. логистическую регрессию), в качестве второго - решающие деревья. \n",
    "\n",
    "*Пояснение: Будем строить ансамбль только из моделей из одного семейства, т.е. логистическая регрессия не смешивается с решающими деревьями.*\n",
    "\n",
    "Для этого можно сгенерировать с помощью метода bootstrap 50 подвыборок из `train` выборки (того же размера, что и исходная), обучить логистическую регрессию и решающее дерево с оптимальными параметрами из предыдущего пункта на каждой из подвыборок и затем усреднить предсказания k моделей.\n",
    "\n",
    "*Hint: в sklearn может найтись подходящая функция, которая облегчит вам реализацию данного пункта.*\n",
    "\n",
    "* Построим график качества классификации и f1-score на `train` и `test` датасетах в зависимости от числа алгоритмов, вошедших в ансамбль.\n",
    "\n",
    "* Проанализируем график. Какое количество моделей стоит использовать? Как вы думаете, являются ли параметры решающего дерева, подобранные в предыдущем пункте оптимальными в данном случае?"
   ]
  },
  {
   "cell_type": "code",
   "execution_count": null,
   "metadata": {
    "ExecuteTime": {
     "end_time": "2019-04-01T20:21:39.974478Z",
     "start_time": "2019-04-01T20:21:39.965231Z"
    },
    "colab": {},
    "colab_type": "code",
    "id": "YJYfvv5IZzO2",
    "nbgrader": {
     "grade": true,
     "grade_id": "cell-8fc95a2b206bdae1",
     "locked": false,
     "points": 35,
     "schema_version": 2,
     "solution": true
    }
   },
   "outputs": [],
   "source": [
    "from sklearn.ensemble import BaggingClassifier\n",
    "\n",
    "# YOUR CODE HERE"
   ]
  },
  {
   "cell_type": "code",
   "execution_count": null,
   "metadata": {
    "ExecuteTime": {
     "end_time": "2019-04-01T20:21:52.600025Z",
     "start_time": "2019-04-01T20:21:40.413241Z"
    },
    "code_folding": [],
    "colab": {},
    "colab_type": "code",
    "id": "2mTOc9UpZzO4",
    "nbgrader": {
     "grade": true,
     "grade_id": "cell-8fc95a2b206bdae1",
     "locked": false,
     "points": 35,
     "schema_version": 2,
     "solution": true
    }
   },
   "outputs": [],
   "source": [
    "# YOUR CODE HERE"
   ]
  },
  {
   "cell_type": "code",
   "execution_count": null,
   "metadata": {
    "ExecuteTime": {
     "end_time": "2019-04-01T20:21:53.571398Z",
     "start_time": "2019-04-01T20:21:53.060364Z"
    },
    "colab": {},
    "colab_type": "code",
    "id": "uA3pGSyiZzO6",
    "outputId": "46bc7e1d-333c-4fca-80e9-1051ca05c30e"
   },
   "outputs": [],
   "source": [
    "# YOUR CODE HERE"
   ]
  },
  {
   "cell_type": "markdown",
   "metadata": {},
   "source": [
    "А теперь построим ансамбль решающих деревьев."
   ]
  },
  {
   "cell_type": "code",
   "execution_count": null,
   "metadata": {
    "ExecuteTime": {
     "end_time": "2019-04-01T20:21:54.210257Z",
     "start_time": "2019-04-01T20:21:54.028456Z"
    },
    "colab": {},
    "colab_type": "code",
    "id": "yaL-cnxRZzO8"
   },
   "outputs": [],
   "source": [
    "# YOUR CODE HERE"
   ]
  },
  {
   "cell_type": "code",
   "execution_count": null,
   "metadata": {
    "ExecuteTime": {
     "end_time": "2019-04-01T20:21:55.130071Z",
     "start_time": "2019-04-01T20:21:54.654862Z"
    },
    "colab": {},
    "colab_type": "code",
    "id": "M_124XF_ZzO-",
    "outputId": "57d40427-8794-4dbd-ccd9-5d470356014b"
   },
   "outputs": [],
   "source": [
    "# YOUR CODE HERE"
   ]
  },
  {
   "cell_type": "markdown",
   "metadata": {
    "colab_type": "text",
    "id": "yVk1WzLaZzPB",
    "nbgrader": {
     "grade": false,
     "grade_id": "cell-241b7691ab44cbfb",
     "locked": true,
     "schema_version": 2,
     "solution": false
    }
   },
   "source": [
    "#### 2.7. Random Forest.\n",
    "Теперь воспользуемся `sklearn`-реализацией алгоритма Random Forest. \n",
    "\n",
    "* Построим аналогичные графики для него (изменяя число деревьев от 1 до 50). Остальные параметры можно оставить по умолчанию.\n",
    "\n",
    "* Проанализируем полученные результаты. Каким получилось оптимальное число деревьев. Как оно соотносится с оптимальным числом деревьев и линейных моделей в bagging'е из предыдущего пункта?"
   ]
  },
  {
   "cell_type": "code",
   "execution_count": 69,
   "metadata": {
    "ExecuteTime": {
     "end_time": "2021-04-07T17:40:49.974750Z",
     "start_time": "2021-04-07T17:40:49.911160Z"
    },
    "colab": {},
    "colab_type": "code",
    "id": "HuQh5LfXZzPB",
    "nbgrader": {
     "grade": true,
     "grade_id": "cell-888755d0f3d91620",
     "locked": false,
     "points": 15,
     "schema_version": 2,
     "solution": true
    }
   },
   "outputs": [],
   "source": [
    "from sklearn.ensemble import RandomForestClassifier"
   ]
  },
  {
   "cell_type": "code",
   "execution_count": 70,
   "metadata": {
    "ExecuteTime": {
     "end_time": "2021-04-07T17:41:07.992284Z",
     "start_time": "2021-04-07T17:41:07.990096Z"
    },
    "colab": {},
    "colab_type": "code",
    "id": "StrHhn6lZzPE",
    "nbgrader": {
     "grade": true,
     "grade_id": "cell-888755d0f3d91620",
     "locked": false,
     "points": 15,
     "schema_version": 2,
     "solution": true
    },
    "outputId": "b3a4c976-f4bb-48e2-a290-e26e0cb6d9fa"
   },
   "outputs": [],
   "source": [
    "rf = RandomForestClassifier()"
   ]
  },
  {
   "cell_type": "code",
   "execution_count": 71,
   "metadata": {
    "ExecuteTime": {
     "end_time": "2021-04-07T17:41:21.353721Z",
     "start_time": "2021-04-07T17:41:21.195145Z"
    }
   },
   "outputs": [
    {
     "data": {
      "text/plain": [
       "RandomForestClassifier()"
      ]
     },
     "execution_count": 71,
     "metadata": {},
     "output_type": "execute_result"
    }
   ],
   "source": [
    "rf.fit(X_train, y_train)"
   ]
  },
  {
   "cell_type": "code",
   "execution_count": 72,
   "metadata": {
    "ExecuteTime": {
     "end_time": "2021-04-07T17:42:10.367761Z",
     "start_time": "2021-04-07T17:42:10.365570Z"
    }
   },
   "outputs": [],
   "source": [
    "from sklearn.metrics import classification_report"
   ]
  },
  {
   "cell_type": "code",
   "execution_count": 74,
   "metadata": {
    "ExecuteTime": {
     "end_time": "2021-04-07T17:43:00.566963Z",
     "start_time": "2021-04-07T17:43:00.545183Z"
    }
   },
   "outputs": [
    {
     "name": "stdout",
     "output_type": "stream",
     "text": [
      "              precision    recall  f1-score   support\n",
      "\n",
      "         bus       0.95      0.99      0.97        75\n",
      "        opel       0.57      0.43      0.49        81\n",
      "        saab       0.53      0.55      0.54        80\n",
      "         van       0.81      1.00      0.90        61\n",
      "\n",
      "    accuracy                           0.72       297\n",
      "   macro avg       0.72      0.74      0.72       297\n",
      "weighted avg       0.71      0.72      0.71       297\n",
      "\n"
     ]
    }
   ],
   "source": [
    "print(classification_report(y_test, rf.predict(X_test)))"
   ]
  },
  {
   "cell_type": "code",
   "execution_count": 75,
   "metadata": {
    "ExecuteTime": {
     "end_time": "2021-04-07T17:55:50.211452Z",
     "start_time": "2021-04-07T17:53:00.860839Z"
    }
   },
   "outputs": [
    {
     "data": {
      "text/plain": [
       "GridSearchCV(estimator=RandomForestClassifier(),\n",
       "             param_grid={'max_depth': (3, 5, 10), 'min_samples_leaf': (2, 4, 6),\n",
       "                         'n_estimators': (100, 1000, 2000)})"
      ]
     },
     "execution_count": 75,
     "metadata": {},
     "output_type": "execute_result"
    }
   ],
   "source": [
    "rf_cv = GridSearchCV(\n",
    "    RandomForestClassifier(),\n",
    "    {'max_depth': (3, 5, 10), 'n_estimators': (100, 1000, 2000), 'min_samples_leaf': (2, 4, 6)}\n",
    ")\n",
    "rf_cv.fit(X_train, y_train)"
   ]
  },
  {
   "cell_type": "code",
   "execution_count": 76,
   "metadata": {
    "ExecuteTime": {
     "end_time": "2021-04-07T17:56:15.450614Z",
     "start_time": "2021-04-07T17:56:15.428891Z"
    }
   },
   "outputs": [
    {
     "name": "stdout",
     "output_type": "stream",
     "text": [
      "              precision    recall  f1-score   support\n",
      "\n",
      "         bus       0.90      0.97      0.94        75\n",
      "        opel       0.52      0.40      0.45        81\n",
      "        saab       0.47      0.47      0.47        80\n",
      "         van       0.82      1.00      0.90        61\n",
      "\n",
      "    accuracy                           0.69       297\n",
      "   macro avg       0.68      0.71      0.69       297\n",
      "weighted avg       0.67      0.69      0.67       297\n",
      "\n"
     ]
    }
   ],
   "source": [
    "print(classification_report(y_test, rf_cv.predict(X_test)))"
   ]
  },
  {
   "cell_type": "code",
   "execution_count": 77,
   "metadata": {
    "ExecuteTime": {
     "end_time": "2021-04-07T17:56:48.833331Z",
     "start_time": "2021-04-07T17:56:48.566167Z"
    }
   },
   "outputs": [
    {
     "data": {
      "text/plain": [
       "<AxesSubplot:title={'center':'ROC Curves'}, xlabel='False Positive Rate', ylabel='True Positive Rate'>"
      ]
     },
     "execution_count": 77,
     "metadata": {},
     "output_type": "execute_result"
    },
    {
     "data": {
      "image/png": "[encoded data removed]",
      "text/plain": [
       "<Figure size 1008x720 with 1 Axes>"
      ]
     },
     "metadata": {
      "needs_background": "light"
     },
     "output_type": "display_data"
    }
   ],
   "source": [
    "scikitplot.metrics.plot_roc(y_test, rf_cv.predict_proba(X_test), \n",
    "                            figsize=(14, 10))"
   ]
  },
  {
   "cell_type": "code",
   "execution_count": null,
   "metadata": {},
   "outputs": [],
   "source": [
    "print(\"Accuracy score: \", rf.best_score_)"
   ]
  }
 ],
 "metadata": {
  "celltoolbar": "Create Assignment",
  "colab": {
   "name": "week01_Intro",
   "provenance": []
  },
  "kernelspec": {
   "display_name": "Python [conda env:ml-mipt]",
   "language": "python",
   "name": "conda-env-ml-mipt-py"
  },
  "language_info": {
   "codemirror_mode": {
    "name": "ipython",
    "version": 3
   },
   "file_extension": ".py",
   "mimetype": "text/x-python",
   "name": "python",
   "nbconvert_exporter": "python",
   "pygments_lexer": "ipython3",
   "version": "3.8.5"
  },
  "toc": {
   "base_numbering": 1,
   "nav_menu": {},
   "number_sections": false,
   "sideBar": true,
   "skip_h1_title": false,
   "title_cell": "Table of Contents",
   "title_sidebar": "Contents",
   "toc_cell": false,
   "toc_position": {},
   "toc_section_display": true,
   "toc_window_display": true
  },
  "varInspector": {
   "cols": {
    "lenName": 16,
    "lenType": 16,
    "lenVar": 40
   },
   "kernels_config": {
    "python": {
     "delete_cmd_postfix": "",
     "delete_cmd_prefix": "del ",
     "library": "var_list.py",
     "varRefreshCmd": "print(var_dic_list())"
    },
    "r": {
     "delete_cmd_postfix": ") ",
     "delete_cmd_prefix": "rm(",
     "library": "var_list.r",
     "varRefreshCmd": "cat(var_dic_list()) "
    }
   },
   "types_to_exclude": [
    "module",
    "function",
    "builtin_function_or_method",
    "instance",
    "_Feature"
   ],
   "window_display": false
  }
 },
 "nbformat": 4,
 "nbformat_minor": 1
}
