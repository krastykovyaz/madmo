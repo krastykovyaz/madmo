{
  "nbformat": 4,
  "nbformat_minor": 0,
  "metadata": {
    "colab": {
      "name": "hw3_movielens.ipynb",
      "provenance": [],
      "collapsed_sections": []
    },
    "kernelspec": {
      "display_name": "Python [conda env:ml-mipt]",
      "language": "python",
      "name": "conda-env-ml-mipt-py"
    },
    "language_info": {
      "codemirror_mode": {
        "name": "ipython",
        "version": 3
      },
      "file_extension": ".py",
      "mimetype": "text/x-python",
      "name": "python",
      "nbconvert_exporter": "python",
      "pygments_lexer": "ipython3",
      "version": "3.8.5"
    },
    "toc": {
      "base_numbering": 1,
      "nav_menu": {},
      "number_sections": true,
      "sideBar": true,
      "skip_h1_title": false,
      "title_cell": "Table of Contents",
      "title_sidebar": "Contents",
      "toc_cell": false,
      "toc_position": {},
      "toc_section_display": true,
      "toc_window_display": true
    }
  },
  "cells": [
    {
      "cell_type": "markdown",
      "metadata": {
        "id": "aNefBwu1VA7M"
      },
      "source": [
        "# Рекомендательная система на базе датасета **movielens**"
      ]
    },
    {
      "cell_type": "markdown",
      "metadata": {
        "id": "59_iZqNkVA7S"
      },
      "source": [
        "Один из наиболее известных датасетов в мире рекомендательных систем - Movielens 25M, содержащий рейтинги к фильмам, оставленные различными пользователями на одноименном сайте https://movielens.org/.\n",
        "\n",
        "Мы будем использовать мини-версию датасета, содержащую 100 тысяч записей рейтингов фильмов."
      ]
    },
    {
      "cell_type": "markdown",
      "metadata": {
        "id": "7MTzoxulVA7V"
      },
      "source": [
        "## Загрузка данных"
      ]
    },
    {
      "cell_type": "markdown",
      "metadata": {
        "id": "I5fvYqJDVA7X"
      },
      "source": [
        "Для создания алгоритмов рекомендательной системы, будем использовать библиотеку **surprise**."
      ]
    },
    {
      "cell_type": "markdown",
      "metadata": {
        "id": "rt05w2p2VA7Z"
      },
      "source": [
        "Установим её, если она ещё не установлена на компьютер."
      ]
    },
    {
      "cell_type": "code",
      "metadata": {
        "ExecuteTime": {
          "end_time": "2021-05-19T21:44:04.713021Z",
          "start_time": "2021-05-19T21:43:39.695307Z"
        },
        "colab": {
          "base_uri": "https://localhost:8080/"
        },
        "id": "jZ0JToZrVA7c",
        "outputId": "6ffce541-993b-473d-dfea-f44a4264217d"
      },
      "source": [
        "!pip install scikit-surprise"
      ],
      "execution_count": 1,
      "outputs": [
        {
          "output_type": "stream",
          "name": "stdout",
          "text": [
            "Collecting scikit-surprise\n",
            "  Downloading scikit-surprise-1.1.1.tar.gz (11.8 MB)\n",
            "\u001b[K     |████████████████████████████████| 11.8 MB 3.7 MB/s \n",
            "\u001b[?25hRequirement already satisfied: joblib>=0.11 in /usr/local/lib/python3.7/dist-packages (from scikit-surprise) (1.1.0)\n",
            "Requirement already satisfied: numpy>=1.11.2 in /usr/local/lib/python3.7/dist-packages (from scikit-surprise) (1.19.5)\n",
            "Requirement already satisfied: scipy>=1.0.0 in /usr/local/lib/python3.7/dist-packages (from scikit-surprise) (1.4.1)\n",
            "Requirement already satisfied: six>=1.10.0 in /usr/local/lib/python3.7/dist-packages (from scikit-surprise) (1.15.0)\n",
            "Building wheels for collected packages: scikit-surprise\n",
            "  Building wheel for scikit-surprise (setup.py) ... \u001b[?25l\u001b[?25hdone\n",
            "  Created wheel for scikit-surprise: filename=scikit_surprise-1.1.1-cp37-cp37m-linux_x86_64.whl size=1619422 sha256=da13d404a9cbaddb17d02e2df7e17f913032cc0cfef24a49d48d7c9f2ee69a9d\n",
            "  Stored in directory: /root/.cache/pip/wheels/76/44/74/b498c42be47b2406bd27994e16c5188e337c657025ab400c1c\n",
            "Successfully built scikit-surprise\n",
            "Installing collected packages: scikit-surprise\n",
            "Successfully installed scikit-surprise-1.1.1\n"
          ]
        }
      ]
    },
    {
      "cell_type": "code",
      "metadata": {
        "ExecuteTime": {
          "end_time": "2021-05-19T21:44:06.029598Z",
          "start_time": "2021-05-19T21:44:04.717362Z"
        },
        "id": "jpq1v5WTVA7n"
      },
      "source": [
        "from surprise import Dataset"
      ],
      "execution_count": 2,
      "outputs": []
    },
    {
      "cell_type": "markdown",
      "metadata": {
        "id": "78r_pDDhVA7v"
      },
      "source": [
        "Загружаем датасет из **surprise**"
      ]
    },
    {
      "cell_type": "code",
      "metadata": {
        "ExecuteTime": {
          "end_time": "2021-05-19T21:44:54.051477Z",
          "start_time": "2021-05-19T21:44:52.353186Z"
        },
        "id": "1eJDcXYDVA7x",
        "colab": {
          "base_uri": "https://localhost:8080/"
        },
        "outputId": "1e674aae-0f57-4faa-91dd-62086d334ff6"
      },
      "source": [
        "data = Dataset.load_builtin(\"ml-100k\", prompt=False)"
      ],
      "execution_count": 3,
      "outputs": [
        {
          "output_type": "stream",
          "name": "stdout",
          "text": [
            "Trying to download dataset from http://files.grouplens.org/datasets/movielens/ml-100k.zip...\n",
            "Done! Dataset ml-100k has been saved to /root/.surprise_data/ml-100k\n"
          ]
        }
      ]
    },
    {
      "cell_type": "markdown",
      "metadata": {
        "ExecuteTime": {
          "end_time": "2021-05-19T22:12:49.230638Z",
          "start_time": "2021-05-19T22:12:49.225985Z"
        },
        "id": "_HvEZuGPOQd0"
      },
      "source": [
        "**Замечание для любителей настоящих данных**\n",
        "\n",
        "Вы можете попробовать загрузить полную верисю датасета (`'ml-1m'`) и попробовать сделать задание на нём.\n",
        "\n",
        "Но вычисления будут занимать большее количество времени (и требовать некоторого железа).\n",
        "\n",
        "За использование расширенного датасета не будет бонусов в оценке (да и результатах по большей части тоже) - только ваш энтузиазм."
      ]
    },
    {
      "cell_type": "markdown",
      "metadata": {
        "id": "M7FSaRcPVA74"
      },
      "source": [
        "## Визуализация данных"
      ]
    },
    {
      "cell_type": "markdown",
      "metadata": {
        "id": "_xcR-N4kVA76"
      },
      "source": [
        "Для удобной работы с данными загрузим библиотеку **pandas**"
      ]
    },
    {
      "cell_type": "code",
      "metadata": {
        "ExecuteTime": {
          "end_time": "2021-05-19T21:45:10.083388Z",
          "start_time": "2021-05-19T21:45:09.808012Z"
        },
        "id": "IbXPCvMzVA78"
      },
      "source": [
        "import pandas as pd\n",
        "import numpy as np"
      ],
      "execution_count": 4,
      "outputs": []
    },
    {
      "cell_type": "markdown",
      "metadata": {
        "id": "cBXvcnFRVA8J"
      },
      "source": [
        "Преобразуем данные к формату **pandas DataFrame**, для удобной работы с ними:"
      ]
    },
    {
      "cell_type": "code",
      "metadata": {
        "ExecuteTime": {
          "end_time": "2021-05-19T21:45:10.722512Z",
          "start_time": "2021-05-19T21:45:10.679709Z"
        },
        "id": "4c78lO-xVA8L"
      },
      "source": [
        "df = pd.DataFrame(data.raw_ratings, columns=[\"userId\", \"movieId\", \"rating\", \"timestamp\"])"
      ],
      "execution_count": 5,
      "outputs": []
    },
    {
      "cell_type": "code",
      "metadata": {
        "ExecuteTime": {
          "end_time": "2021-05-19T21:45:11.315222Z",
          "start_time": "2021-05-19T21:45:11.296874Z"
        },
        "colab": {
          "base_uri": "https://localhost:8080/",
          "height": 200
        },
        "id": "z8iZfdnZVA8S",
        "outputId": "93574ae3-b4c4-4422-db09-ea18b0036f2c"
      },
      "source": [
        "df.head()"
      ],
      "execution_count": 109,
      "outputs": [
        {
          "output_type": "execute_result",
          "data": {
            "text/html": [
              "<div>\n",
              "<style scoped>\n",
              "    .dataframe tbody tr th:only-of-type {\n",
              "        vertical-align: middle;\n",
              "    }\n",
              "\n",
              "    .dataframe tbody tr th {\n",
              "        vertical-align: top;\n",
              "    }\n",
              "\n",
              "    .dataframe thead th {\n",
              "        text-align: right;\n",
              "    }\n",
              "</style>\n",
              "<table border=\"1\" class=\"dataframe\">\n",
              "  <thead>\n",
              "    <tr style=\"text-align: right;\">\n",
              "      <th></th>\n",
              "      <th>userId</th>\n",
              "      <th>movieId</th>\n",
              "      <th>rating</th>\n",
              "      <th>timestamp</th>\n",
              "    </tr>\n",
              "  </thead>\n",
              "  <tbody>\n",
              "    <tr>\n",
              "      <th>0</th>\n",
              "      <td>196</td>\n",
              "      <td>242</td>\n",
              "      <td>3.0</td>\n",
              "      <td>881250949</td>\n",
              "    </tr>\n",
              "    <tr>\n",
              "      <th>1</th>\n",
              "      <td>186</td>\n",
              "      <td>302</td>\n",
              "      <td>3.0</td>\n",
              "      <td>891717742</td>\n",
              "    </tr>\n",
              "    <tr>\n",
              "      <th>2</th>\n",
              "      <td>22</td>\n",
              "      <td>377</td>\n",
              "      <td>1.0</td>\n",
              "      <td>878887116</td>\n",
              "    </tr>\n",
              "    <tr>\n",
              "      <th>3</th>\n",
              "      <td>244</td>\n",
              "      <td>51</td>\n",
              "      <td>2.0</td>\n",
              "      <td>880606923</td>\n",
              "    </tr>\n",
              "    <tr>\n",
              "      <th>4</th>\n",
              "      <td>166</td>\n",
              "      <td>346</td>\n",
              "      <td>1.0</td>\n",
              "      <td>886397596</td>\n",
              "    </tr>\n",
              "  </tbody>\n",
              "</table>\n",
              "</div>"
            ],
            "text/plain": [
              "  userId movieId  rating  timestamp\n",
              "0    196     242     3.0  881250949\n",
              "1    186     302     3.0  891717742\n",
              "2     22     377     1.0  878887116\n",
              "3    244      51     2.0  880606923\n",
              "4    166     346     1.0  886397596"
            ]
          },
          "metadata": {},
          "execution_count": 109
        }
      ]
    },
    {
      "cell_type": "markdown",
      "metadata": {
        "id": "8lk_aMC6VA8a"
      },
      "source": [
        "*  Колонка **userId** - идентификаторы пользователей сайта movielens;\n",
        "*  Колонка **movieId** - идентификаторы фильмов;\n",
        "*  Колонка **rating** - оценки фильмов пользователями по шкале от 1 до 5;\n",
        "*  Колонка **timestamp** - это время оценки фильма пользователем. Данный формат представления времени показывает, сколько секунд прошло с 1 января 1970 года."
      ]
    },
    {
      "cell_type": "markdown",
      "metadata": {
        "id": "cGXqlWpiVA8c"
      },
      "source": [
        "Мы можем посмотреть, сколько уникальных значений находится в каждой из колонок."
      ]
    },
    {
      "cell_type": "code",
      "metadata": {
        "ExecuteTime": {
          "end_time": "2021-05-19T22:02:35.215890Z",
          "start_time": "2021-05-19T22:02:35.136012Z"
        },
        "colab": {
          "base_uri": "https://localhost:8080/"
        },
        "id": "VwB6SrRHVA8e",
        "outputId": "8da97ca7-50ec-4e5b-a4e2-ac48cc596319"
      },
      "source": [
        "df.apply(\"nunique\")"
      ],
      "execution_count": 7,
      "outputs": [
        {
          "output_type": "execute_result",
          "data": {
            "text/plain": [
              "userId         943\n",
              "movieId       1682\n",
              "rating           5\n",
              "timestamp    49282\n",
              "dtype: int64"
            ]
          },
          "metadata": {},
          "execution_count": 7
        }
      ]
    },
    {
      "cell_type": "markdown",
      "metadata": {
        "id": "gdNUHvGaVA8l"
      },
      "source": [
        "Для корректной работы с графиками в python требуется загрузить специальную библиотеку\n",
        "**matplotlib**, программную библиотеку на языке python для визуализации данных двумерной и трехмерной графикой."
      ]
    },
    {
      "cell_type": "markdown",
      "metadata": {
        "id": "Tmcpr7aiVA8r"
      },
      "source": [
        "Посмотрим наглядно, как часто в датасете встречаются разные оценки:"
      ]
    },
    {
      "cell_type": "code",
      "metadata": {
        "ExecuteTime": {
          "end_time": "2021-05-19T22:02:37.345997Z",
          "start_time": "2021-05-19T22:02:37.184180Z"
        },
        "colab": {
          "base_uri": "https://localhost:8080/",
          "height": 281
        },
        "id": "3XYMil_AVA8s",
        "outputId": "54d00fb5-383c-404c-ad38-3def8d441441"
      },
      "source": [
        "df[\"rating\"].value_counts().sort_index().plot.bar(title=\"Распределение рейтингов\", rot=0);"
      ],
      "execution_count": 8,
      "outputs": [
        {
          "output_type": "display_data",
          "data": {
            "image/png": "[encoded data removed]",
            "text/plain": [
              "<Figure size 432x288 with 1 Axes>"
            ]
          },
          "metadata": {
            "needs_background": "light"
          }
        }
      ]
    },
    {
      "cell_type": "markdown",
      "metadata": {
        "id": "sc4V13ojVA8x"
      },
      "source": [
        "## Разбиение выборки на обучающую и тестовую"
      ]
    },
    {
      "cell_type": "markdown",
      "metadata": {
        "id": "feldOglfVA8z"
      },
      "source": [
        "Библиотека **surprise** высокоуровневая, и позволяет нам разбить данные на обучающую и тестовую выборки всего одной функцией **train_test_split()**"
      ]
    },
    {
      "cell_type": "code",
      "metadata": {
        "ExecuteTime": {
          "end_time": "2021-05-19T22:02:38.425837Z",
          "start_time": "2021-05-19T22:02:38.423431Z"
        },
        "id": "wj01SJESVA80"
      },
      "source": [
        "from surprise.model_selection import train_test_split"
      ],
      "execution_count": 9,
      "outputs": []
    },
    {
      "cell_type": "markdown",
      "metadata": {
        "id": "oapSXAZ2VA84"
      },
      "source": [
        "Функция **train_test_split()** принимает на вход два параметра:\n",
        "*  **data** - данные\n",
        "*  **test_size** - доля тестовой выборки. Укажем 0,25, чтобы тестовая выборка составляла 25% от всей выборки."
      ]
    },
    {
      "cell_type": "code",
      "metadata": {
        "ExecuteTime": {
          "end_time": "2021-05-19T22:02:39.800246Z",
          "start_time": "2021-05-19T22:02:39.639654Z"
        },
        "id": "tL12glA_VA85"
      },
      "source": [
        "trainset, testset = train_test_split(data, test_size=0.25)"
      ],
      "execution_count": 10,
      "outputs": []
    },
    {
      "cell_type": "markdown",
      "metadata": {
        "id": "n5_b5NpTOQd7"
      },
      "source": [
        "# Задание 1\n",
        "\n",
        "Проведите исследование данных (exploratory data analysis, EDA).\n",
        "\n",
        "Выясните:\n",
        "\n",
        "1. Сколько оценок в среднем поставил один человек (и какова выборочная дисперсия этой величины)\n",
        "2. Сколько оценок в среднем имеет один фильм (+дисперсия)\n",
        "\n",
        "Также для каждой из этих величин постройте гистограму (или violin plot) распределения чтобы увидеть картину целиком. Возможно вам понадобится использовать логарифмический масштаб осей (эту настройку можно передать в matplotlib)."
      ]
    },
    {
      "cell_type": "code",
      "metadata": {
        "ExecuteTime": {
          "end_time": "2021-05-19T22:02:40.697202Z",
          "start_time": "2021-05-19T22:02:40.695626Z"
        },
        "colab": {
          "base_uri": "https://localhost:8080/"
        },
        "id": "UCXzW0KlOQd8",
        "outputId": "5429b00e-a633-4027-c8b3-ce771c5f97e2"
      },
      "source": [
        "# Ваш код тут\n",
        "def count_pers(tb):\n",
        "  res = {\n",
        "      'Estimations_mean': tb['rating'].mean(),\n",
        "      'Estimations_std': np.array(tb['rating']).std()\n",
        "  }\n",
        "  return pd.Series(res)\n",
        "\n",
        "df_estimators = df.groupby('userId').apply(count_pers)\n",
        "critic_values = np.array(df_estimators.Estimations_mean)\n",
        "print(\"Сколько оценок в среднем поставил один человек\", critic_values.mean(), \"выборочная дисперсия этой величины\",critic_values.std())\n",
        "def count_films(tb):\n",
        "  res = {\n",
        "      'Estimations_mean': tb['rating'].mean(),\n",
        "      'Estimations_std': np.array(tb['rating']).std()\n",
        "  }\n",
        "  return pd.Series(res)\n",
        "\n",
        "df_estimators = df.groupby('movieId').apply(count_films)\n",
        "movie_values = np.array(df_estimators.Estimations_mean)\n",
        "print(\"Сколько оценок в среднем имеет один фильм\", movie_values.mean(), \"выборочная дисперсия этой величины\",movie_values.std())"
      ],
      "execution_count": 11,
      "outputs": [
        {
          "output_type": "stream",
          "name": "stdout",
          "text": [
            "Сколько оценок в среднем поставил один человек 3.5881911071848007 выборочная дисперсия этой величины 0.44499735963709314\n",
            "Сколько оценок в среднем имеет один фильм 3.076044508325179 выборочная дисперсия этой величины 0.7814291365022871\n"
          ]
        }
      ]
    },
    {
      "cell_type": "code",
      "metadata": {
        "id": "1UbRWlZIinTF"
      },
      "source": [
        "import matplotlib.pyplot as plt\n",
        "\n",
        "\n",
        "def plot_pdf(values: np.ndarray, title: str):\n",
        "    \"\"\"Plots `values` distribution density\"\"\"\n",
        "    plt.figure(figsize=(10, 5))\n",
        "    plt.violinplot(values.flatten(), vert=False, showmedians=True)\n",
        "    plt.xlabel(\"Similarity\")\n",
        "    plt.grid()\n",
        "    plt.title(title)\n",
        "    plt.show()"
      ],
      "execution_count": 33,
      "outputs": []
    },
    {
      "cell_type": "code",
      "metadata": {
        "colab": {
          "base_uri": "https://localhost:8080/",
          "height": 682
        },
        "id": "nNLlRT1cWOSI",
        "outputId": "acb13d41-506b-4c9d-bfe6-e3dde566c0a8"
      },
      "source": [
        "plot_pdf(critic_values, \"Сколько оценок в среднем поставил один человек\")\n",
        "plot_pdf(movie_values, \"Сколько оценок в среднем имеет один фильм\")\n"
      ],
      "execution_count": 37,
      "outputs": [
        {
          "output_type": "display_data",
          "data": {
            "image/png": "[encoded data removed]",
            "text/plain": [
              "<Figure size 720x360 with 1 Axes>"
            ]
          },
          "metadata": {
            "needs_background": "light"
          }
        },
        {
          "output_type": "display_data",
          "data": {
            "image/png": "[encoded data removed]",
            "text/plain": [
              "<Figure size 720x360 with 1 Axes>"
            ]
          },
          "metadata": {
            "needs_background": "light"
          }
        }
      ]
    },
    {
      "cell_type": "code",
      "metadata": {
        "id": "ME3dBc_DWEhl"
      },
      "source": [
        ""
      ],
      "execution_count": null,
      "outputs": []
    },
    {
      "cell_type": "code",
      "metadata": {
        "id": "G_olQv4fWmgO"
      },
      "source": [
        ""
      ],
      "execution_count": 37,
      "outputs": []
    },
    {
      "cell_type": "markdown",
      "metadata": {
        "id": "Pjk90jTfVA89"
      },
      "source": [
        "## Построение простой модели"
      ]
    },
    {
      "cell_type": "code",
      "metadata": {
        "ExecuteTime": {
          "end_time": "2021-05-19T22:02:41.561498Z",
          "start_time": "2021-05-19T22:02:41.559739Z"
        },
        "id": "R4bUU2_iVA8-"
      },
      "source": [
        "from surprise import SVD, KNNBasic, accuracy"
      ],
      "execution_count": 12,
      "outputs": []
    },
    {
      "cell_type": "markdown",
      "metadata": {
        "id": "wIrqEcYHVA9C"
      },
      "source": [
        "Инициализируем алгоритм. Алгоритм SVD - один из самых распространенных методов матричной факторизации (представления матрицы в виде произведения нескольких матриц). Такое представление позволяет анализировать похожие матрицы и раскладывать их на так называемые \"компоненты\". А так же, восстанавливая матрицы их этих компонент - заполнять недостающие значения (в нашем случае - оценки). Почитать можно здесь: http://www.albertauyeung.com/post/python-matrix-factorization/"
      ]
    },
    {
      "cell_type": "code",
      "metadata": {
        "ExecuteTime": {
          "end_time": "2021-05-19T22:02:42.425602Z",
          "start_time": "2021-05-19T22:02:42.423778Z"
        },
        "id": "U-C8PSgmVA9D"
      },
      "source": [
        "algo = SVD()"
      ],
      "execution_count": 13,
      "outputs": []
    },
    {
      "cell_type": "markdown",
      "metadata": {
        "id": "T46Qt-efVA9G"
      },
      "source": [
        "Тренируем на тренировочной выборке алгоритм."
      ]
    },
    {
      "cell_type": "code",
      "metadata": {
        "ExecuteTime": {
          "end_time": "2021-05-19T22:02:46.743669Z",
          "start_time": "2021-05-19T22:02:43.351791Z"
        },
        "id": "023_UmhzVA9I",
        "colab": {
          "base_uri": "https://localhost:8080/"
        },
        "outputId": "659a6af4-01de-471b-ab0e-2a521e338894"
      },
      "source": [
        "algo.fit(trainset)"
      ],
      "execution_count": 14,
      "outputs": [
        {
          "output_type": "execute_result",
          "data": {
            "text/plain": [
              "<surprise.prediction_algorithms.matrix_factorization.SVD at 0x7fb4995d6e50>"
            ]
          },
          "metadata": {},
          "execution_count": 14
        }
      ]
    },
    {
      "cell_type": "markdown",
      "metadata": {
        "id": "PLr4X8_3VA9M"
      },
      "source": [
        "Делаем предсказание на тестовой выборке."
      ]
    },
    {
      "cell_type": "code",
      "metadata": {
        "ExecuteTime": {
          "end_time": "2021-05-19T22:02:46.889187Z",
          "start_time": "2021-05-19T22:02:46.745178Z"
        },
        "id": "bgtICWuYVA9N"
      },
      "source": [
        "predictions = algo.test(testset)"
      ],
      "execution_count": 51,
      "outputs": []
    },
    {
      "cell_type": "code",
      "metadata": {
        "ExecuteTime": {
          "end_time": "2021-05-19T22:02:46.935936Z",
          "start_time": "2021-05-19T22:02:46.891085Z"
        },
        "colab": {
          "base_uri": "https://localhost:8080/"
        },
        "id": "Vl2LGS6R_w5Y",
        "outputId": "97991115-a675-4a87-c7ff-97801e0d8323"
      },
      "source": [
        "testset"
      ],
      "execution_count": 52,
      "outputs": [
        {
          "output_type": "execute_result",
          "data": {
            "text/plain": [
              "[('98', '745', 3.0),\n",
              " ('496', '10', 5.0),\n",
              " ('301', '123', 4.0),\n",
              " ('932', '135', 5.0),\n",
              " ('18', '729', 3.0),\n",
              " ('484', '313', 5.0),\n",
              " ('280', '140', 4.0),\n",
              " ('326', '196', 4.0),\n",
              " ('221', '204', 4.0),\n",
              " ('569', '924', 3.0),\n",
              " ('299', '154', 4.0),\n",
              " ('916', '451', 3.0),\n",
              " ('210', '243', 2.0),\n",
              " ('83', '631', 2.0),\n",
              " ('438', '252', 4.0),\n",
              " ('717', '250', 1.0),\n",
              " ('489', '310', 4.0),\n",
              " ('936', '678', 3.0),\n",
              " ('342', '514', 5.0),\n",
              " ('474', '584', 5.0),\n",
              " ('151', '705', 5.0),\n",
              " ('323', '333', 4.0),\n",
              " ('13', '423', 5.0),\n",
              " ('934', '403', 4.0),\n",
              " ('293', '637', 3.0),\n",
              " ('537', '349', 1.0),\n",
              " ('902', '328', 3.0),\n",
              " ('858', '181', 2.0),\n",
              " ('305', '179', 1.0),\n",
              " ('514', '735', 4.0),\n",
              " ('82', '597', 3.0),\n",
              " ('63', '1007', 5.0),\n",
              " ('524', '402', 2.0),\n",
              " ('535', '171', 3.0),\n",
              " ('318', '809', 4.0),\n",
              " ('397', '181', 4.0),\n",
              " ('416', '803', 3.0),\n",
              " ('863', '352', 1.0),\n",
              " ('239', '497', 4.0),\n",
              " ('863', '315', 5.0),\n",
              " ('938', '259', 2.0),\n",
              " ('738', '42', 2.0),\n",
              " ('169', '300', 5.0),\n",
              " ('804', '554', 2.0),\n",
              " ('474', '1134', 3.0),\n",
              " ('457', '294', 2.0),\n",
              " ('803', '990', 2.0),\n",
              " ('748', '237', 4.0),\n",
              " ('711', '488', 4.0),\n",
              " ('397', '332', 2.0),\n",
              " ('216', '150', 5.0),\n",
              " ('880', '1030', 2.0),\n",
              " ('68', '458', 1.0),\n",
              " ('506', '177', 5.0),\n",
              " ('308', '284', 4.0),\n",
              " ('178', '597', 4.0),\n",
              " ('885', '135', 2.0),\n",
              " ('308', '597', 3.0),\n",
              " ('297', '7', 4.0),\n",
              " ('708', '336', 2.0),\n",
              " ('11', '435', 4.0),\n",
              " ('2', '278', 3.0),\n",
              " ('405', '57', 1.0),\n",
              " ('26', '1011', 3.0),\n",
              " ('245', '756', 3.0),\n",
              " ('373', '162', 3.0),\n",
              " ('358', '132', 5.0),\n",
              " ('833', '7', 3.0),\n",
              " ('370', '42', 3.0),\n",
              " ('104', '748', 2.0),\n",
              " ('246', '185', 5.0),\n",
              " ('200', '38', 3.0),\n",
              " ('788', '665', 2.0),\n",
              " ('343', '286', 4.0),\n",
              " ('529', '319', 4.0),\n",
              " ('262', '747', 4.0),\n",
              " ('595', '948', 3.0),\n",
              " ('347', '202', 4.0),\n",
              " ('77', '15', 2.0),\n",
              " ('174', '571', 1.0),\n",
              " ('625', '514', 3.0),\n",
              " ('342', '488', 5.0),\n",
              " ('365', '316', 4.0),\n",
              " ('764', '294', 3.0),\n",
              " ('149', '333', 1.0),\n",
              " ('846', '693', 5.0),\n",
              " ('453', '229', 2.0),\n",
              " ('393', '402', 3.0),\n",
              " ('308', '822', 4.0),\n",
              " ('447', '15', 1.0),\n",
              " ('796', '751', 5.0),\n",
              " ('881', '180', 5.0),\n",
              " ('783', '333', 4.0),\n",
              " ('803', '271', 2.0),\n",
              " ('504', '183', 3.0),\n",
              " ('243', '317', 5.0),\n",
              " ('189', '815', 3.0),\n",
              " ('514', '511', 3.0),\n",
              " ('590', '111', 3.0),\n",
              " ('255', '569', 1.0),\n",
              " ('10', '371', 4.0),\n",
              " ('693', '79', 4.0),\n",
              " ('474', '48', 4.0),\n",
              " ('131', '744', 4.0),\n",
              " ('486', '127', 5.0),\n",
              " ('655', '1475', 3.0),\n",
              " ('746', '281', 3.0),\n",
              " ('201', '458', 4.0),\n",
              " ('757', '4', 5.0),\n",
              " ('328', '601', 4.0),\n",
              " ('393', '836', 4.0),\n",
              " ('7', '416', 5.0),\n",
              " ('87', '274', 4.0),\n",
              " ('675', '1653', 5.0),\n",
              " ('677', '289', 1.0),\n",
              " ('896', '824', 1.0),\n",
              " ('381', '724', 3.0),\n",
              " ('69', '591', 3.0),\n",
              " ('350', '190', 4.0),\n",
              " ('317', '678', 2.0),\n",
              " ('230', '607', 3.0),\n",
              " ('322', '150', 4.0),\n",
              " ('305', '315', 5.0),\n",
              " ('174', '240', 1.0),\n",
              " ('391', '200', 5.0),\n",
              " ('435', '679', 3.0),\n",
              " ('424', '288', 1.0),\n",
              " ('916', '756', 3.0),\n",
              " ('267', '172', 5.0),\n",
              " ('684', '742', 4.0),\n",
              " ('315', '305', 5.0),\n",
              " ('481', '238', 4.0),\n",
              " ('493', '260', 1.0),\n",
              " ('932', '238', 3.0),\n",
              " ('758', '616', 4.0),\n",
              " ('280', '697', 5.0),\n",
              " ('84', '1040', 3.0),\n",
              " ('713', '362', 1.0),\n",
              " ('425', '252', 2.0),\n",
              " ('70', '217', 4.0),\n",
              " ('889', '67', 2.0),\n",
              " ('85', '187', 5.0),\n",
              " ('379', '577', 4.0),\n",
              " ('534', '508', 4.0),\n",
              " ('538', '56', 4.0),\n",
              " ('295', '318', 5.0),\n",
              " ('435', '763', 5.0),\n",
              " ('216', '56', 5.0),\n",
              " ('373', '31', 3.0),\n",
              " ('938', '823', 4.0),\n",
              " ('880', '328', 4.0),\n",
              " ('293', '29', 1.0),\n",
              " ('373', '328', 4.0),\n",
              " ('454', '234', 3.0),\n",
              " ('417', '804', 3.0),\n",
              " ('716', '22', 5.0),\n",
              " ('227', '276', 4.0),\n",
              " ('112', '888', 4.0),\n",
              " ('416', '225', 1.0),\n",
              " ('450', '566', 4.0),\n",
              " ('815', '50', 5.0),\n",
              " ('297', '135', 4.0),\n",
              " ('56', '229', 3.0),\n",
              " ('207', '197', 4.0),\n",
              " ('370', '257', 5.0),\n",
              " ('184', '218', 3.0),\n",
              " ('201', '89', 3.0),\n",
              " ('42', '227', 4.0),\n",
              " ('587', '876', 2.0),\n",
              " ('584', '230', 4.0),\n",
              " ('698', '435', 3.0),\n",
              " ('158', '123', 3.0),\n",
              " ('541', '625', 4.0),\n",
              " ('833', '217', 2.0),\n",
              " ('293', '81', 4.0),\n",
              " ('382', '357', 4.0),\n",
              " ('917', '628', 5.0),\n",
              " ('481', '313', 4.0),\n",
              " ('197', '228', 4.0),\n",
              " ('925', '561', 3.0),\n",
              " ('194', '143', 3.0),\n",
              " ('537', '39', 2.0),\n",
              " ('691', '294', 4.0),\n",
              " ('642', '249', 5.0),\n",
              " ('741', '475', 3.0),\n",
              " ('398', '185', 5.0),\n",
              " ('250', '485', 4.0),\n",
              " ('327', '90', 3.0),\n",
              " ('567', '506', 5.0),\n",
              " ('587', '304', 4.0),\n",
              " ('943', '274', 3.0),\n",
              " ('435', '953', 3.0),\n",
              " ('268', '333', 4.0),\n",
              " ('184', '458', 3.0),\n",
              " ('872', '597', 4.0),\n",
              " ('601', '921', 5.0),\n",
              " ('758', '181', 4.0),\n",
              " ('173', '258', 4.0),\n",
              " ('757', '69', 3.0),\n",
              " ('645', '172', 4.0),\n",
              " ('445', '881', 1.0),\n",
              " ('504', '238', 3.0),\n",
              " ('268', '630', 4.0),\n",
              " ('939', '508', 5.0),\n",
              " ('396', '823', 2.0),\n",
              " ('151', '664', 5.0),\n",
              " ('426', '490', 4.0),\n",
              " ('416', '392', 5.0),\n",
              " ('713', '1656', 2.0),\n",
              " ('612', '127', 2.0),\n",
              " ('553', '525', 4.0),\n",
              " ('537', '896', 3.0),\n",
              " ('38', '95', 5.0),\n",
              " ('344', '487', 5.0),\n",
              " ('588', '423', 3.0),\n",
              " ('300', '294', 3.0),\n",
              " ('883', '204', 4.0),\n",
              " ('233', '196', 5.0),\n",
              " ('383', '268', 5.0),\n",
              " ('90', '613', 4.0),\n",
              " ('64', '527', 4.0),\n",
              " ('262', '82', 3.0),\n",
              " ('650', '849', 2.0),\n",
              " ('713', '302', 4.0),\n",
              " ('750', '331', 4.0),\n",
              " ('927', '240', 3.0),\n",
              " ('347', '405', 4.0),\n",
              " ('703', '288', 4.0),\n",
              " ('355', '310', 4.0),\n",
              " ('16', '770', 3.0),\n",
              " ('868', '208', 3.0),\n",
              " ('174', '412', 1.0),\n",
              " ('429', '95', 3.0),\n",
              " ('328', '9', 4.0),\n",
              " ('565', '166', 4.0),\n",
              " ('905', '591', 4.0),\n",
              " ('475', '302', 3.0),\n",
              " ('743', '181', 3.0),\n",
              " ('881', '186', 3.0),\n",
              " ('835', '15', 5.0),\n",
              " ('524', '151', 1.0),\n",
              " ('761', '245', 5.0),\n",
              " ('76', '172', 5.0),\n",
              " ('796', '183', 5.0),\n",
              " ('864', '717', 3.0),\n",
              " ('489', '678', 4.0),\n",
              " ('470', '222', 3.0),\n",
              " ('389', '132', 5.0),\n",
              " ('647', '73', 5.0),\n",
              " ('99', '28', 3.0),\n",
              " ('145', '25', 2.0),\n",
              " ('615', '527', 4.0),\n",
              " ('394', '101', 4.0),\n",
              " ('747', '174', 5.0),\n",
              " ('880', '403', 3.0),\n",
              " ('144', '223', 4.0),\n",
              " ('865', '71', 1.0),\n",
              " ('873', '348', 3.0),\n",
              " ('907', '248', 5.0),\n",
              " ('759', '300', 5.0),\n",
              " ('514', '11', 4.0),\n",
              " ('796', '429', 4.0),\n",
              " ('870', '1074', 2.0),\n",
              " ('436', '747', 5.0),\n",
              " ('306', '116', 5.0),\n",
              " ('712', '402', 4.0),\n",
              " ('897', '660', 4.0),\n",
              " ('336', '238', 3.0),\n",
              " ('617', '288', 1.0),\n",
              " ('637', '282', 3.0),\n",
              " ('417', '109', 2.0),\n",
              " ('710', '479', 5.0),\n",
              " ('883', '882', 4.0),\n",
              " ('160', '832', 1.0),\n",
              " ('526', '678', 1.0),\n",
              " ('344', '694', 5.0),\n",
              " ('416', '143', 5.0),\n",
              " ('91', '22', 5.0),\n",
              " ('318', '174', 4.0),\n",
              " ('535', '923', 4.0),\n",
              " ('214', '175', 5.0),\n",
              " ('770', '937', 4.0),\n",
              " ('875', '32', 5.0),\n",
              " ('815', '659', 5.0),\n",
              " ('534', '825', 4.0),\n",
              " ('622', '156', 5.0),\n",
              " ('432', '282', 5.0),\n",
              " ('269', '660', 1.0),\n",
              " ('442', '168', 4.0),\n",
              " ('185', '223', 4.0),\n",
              " ('683', '511', 5.0),\n",
              " ('630', '172', 3.0),\n",
              " ('292', '194', 4.0),\n",
              " ('830', '181', 5.0),\n",
              " ('707', '116', 5.0),\n",
              " ('924', '1478', 4.0),\n",
              " ('764', '276', 3.0),\n",
              " ('396', '1', 4.0),\n",
              " ('268', '4', 4.0),\n",
              " ('312', '513', 5.0),\n",
              " ('10', '527', 4.0),\n",
              " ('541', '676', 3.0),\n",
              " ('109', '70', 4.0),\n",
              " ('387', '243', 1.0),\n",
              " ('618', '755', 2.0),\n",
              " ('846', '381', 4.0),\n",
              " ('286', '1316', 5.0),\n",
              " ('123', '185', 4.0),\n",
              " ('5', '439', 1.0),\n",
              " ('833', '152', 2.0),\n",
              " ('218', '659', 4.0),\n",
              " ('592', '93', 4.0),\n",
              " ('407', '28', 4.0),\n",
              " ('936', '904', 5.0),\n",
              " ('95', '506', 3.0),\n",
              " ('233', '521', 5.0),\n",
              " ('908', '185', 4.0),\n",
              " ('715', '70', 3.0),\n",
              " ('562', '118', 3.0),\n",
              " ('326', '228', 4.0),\n",
              " ('381', '378', 4.0),\n",
              " ('792', '111', 3.0),\n",
              " ('213', '31', 4.0),\n",
              " ('851', '717', 3.0),\n",
              " ('816', '332', 4.0),\n",
              " ('311', '318', 5.0),\n",
              " ('506', '607', 4.0),\n",
              " ('213', '175', 4.0),\n",
              " ('253', '333', 2.0),\n",
              " ('627', '195', 4.0),\n",
              " ('704', '523', 5.0),\n",
              " ('360', '100', 5.0),\n",
              " ('323', '289', 2.0),\n",
              " ('505', '245', 4.0),\n",
              " ('152', '49', 5.0),\n",
              " ('707', '1068', 4.0),\n",
              " ('608', '318', 4.0),\n",
              " ('279', '96', 4.0),\n",
              " ('864', '642', 3.0),\n",
              " ('332', '53', 3.0),\n",
              " ('117', '298', 5.0),\n",
              " ('807', '140', 3.0),\n",
              " ('399', '433', 3.0),\n",
              " ('580', '329', 3.0),\n",
              " ('891', '409', 4.0),\n",
              " ('497', '809', 3.0),\n",
              " ('374', '423', 3.0),\n",
              " ('365', '1011', 3.0),\n",
              " ('189', '313', 2.0),\n",
              " ('834', '284', 4.0),\n",
              " ('622', '217', 4.0),\n",
              " ('533', '135', 3.0),\n",
              " ('693', '378', 2.0),\n",
              " ('343', '64', 5.0),\n",
              " ('323', '268', 4.0),\n",
              " ('320', '627', 4.0),\n",
              " ('450', '865', 4.0),\n",
              " ('821', '281', 3.0),\n",
              " ('269', '1148', 4.0),\n",
              " ('847', '609', 2.0),\n",
              " ('387', '746', 1.0),\n",
              " ('683', '472', 3.0),\n",
              " ('583', '425', 5.0),\n",
              " ('388', '307', 4.0),\n",
              " ('766', '53', 4.0),\n",
              " ('256', '288', 5.0),\n",
              " ('801', '245', 3.0),\n",
              " ('62', '774', 1.0),\n",
              " ('289', '254', 1.0),\n",
              " ('916', '433', 3.0),\n",
              " ('109', '1161', 3.0),\n",
              " ('541', '418', 5.0),\n",
              " ('303', '1258', 2.0),\n",
              " ('288', '190', 1.0),\n",
              " ('472', '672', 4.0),\n",
              " ('382', '1534', 4.0),\n",
              " ('397', '197', 5.0),\n",
              " ('504', '72', 4.0),\n",
              " ('56', '91', 4.0),\n",
              " ('442', '64', 5.0),\n",
              " ('318', '140', 4.0),\n",
              " ('916', '117', 2.0),\n",
              " ('746', '403', 4.0),\n",
              " ('804', '498', 5.0),\n",
              " ('846', '391', 3.0),\n",
              " ('458', '1048', 4.0),\n",
              " ('798', '83', 4.0),\n",
              " ('269', '761', 2.0),\n",
              " ('389', '820', 3.0),\n",
              " ('450', '662', 4.0),\n",
              " ('461', '255', 2.0),\n",
              " ('407', '710', 4.0),\n",
              " ('487', '216', 4.0),\n",
              " ('699', '405', 3.0),\n",
              " ('214', '32', 4.0),\n",
              " ('82', '25', 2.0),\n",
              " ('634', '678', 2.0),\n",
              " ('638', '185', 5.0),\n",
              " ('125', '864', 3.0),\n",
              " ('11', '726', 3.0),\n",
              " ('198', '636', 3.0),\n",
              " ('59', '969', 3.0),\n",
              " ('622', '833', 4.0),\n",
              " ('542', '100', 4.0),\n",
              " ('393', '597', 3.0),\n",
              " ('650', '272', 4.0),\n",
              " ('913', '176', 5.0),\n",
              " ('545', '69', 4.0),\n",
              " ('682', '399', 4.0),\n",
              " ('884', '100', 5.0),\n",
              " ('887', '655', 1.0),\n",
              " ('747', '64', 5.0),\n",
              " ('13', '511', 5.0),\n",
              " ('186', '203', 5.0),\n",
              " ('807', '496', 5.0),\n",
              " ('821', '126', 5.0),\n",
              " ('357', '473', 3.0),\n",
              " ('577', '545', 3.0),\n",
              " ('620', '422', 1.0),\n",
              " ('13', '857', 3.0),\n",
              " ('291', '156', 5.0),\n",
              " ('863', '683', 1.0),\n",
              " ('887', '128', 5.0),\n",
              " ('452', '213', 4.0),\n",
              " ('489', '351', 5.0),\n",
              " ('567', '608', 4.0),\n",
              " ('589', '892', 4.0),\n",
              " ('523', '408', 5.0),\n",
              " ('198', '127', 5.0),\n",
              " ('416', '564', 4.0),\n",
              " ('561', '751', 3.0),\n",
              " ('423', '100', 5.0),\n",
              " ('183', '212', 4.0),\n",
              " ('665', '1', 4.0),\n",
              " ('276', '269', 4.0),\n",
              " ('307', '427', 3.0),\n",
              " ('592', '895', 3.0),\n",
              " ('749', '180', 4.0),\n",
              " ('141', '471', 4.0),\n",
              " ('883', '153', 5.0),\n",
              " ('533', '120', 1.0),\n",
              " ('620', '946', 4.0),\n",
              " ('102', '577', 3.0),\n",
              " ('460', '321', 3.0),\n",
              " ('92', '271', 2.0),\n",
              " ('535', '193', 4.0),\n",
              " ('559', '153', 3.0),\n",
              " ('648', '96', 5.0),\n",
              " ('883', '694', 5.0),\n",
              " ('145', '452', 3.0),\n",
              " ('413', '250', 3.0),\n",
              " ('782', '886', 3.0),\n",
              " ('380', '109', 2.0),\n",
              " ('774', '511', 3.0),\n",
              " ('423', '508', 4.0),\n",
              " ('653', '152', 2.0),\n",
              " ('839', '258', 4.0),\n",
              " ('880', '63', 3.0),\n",
              " ('159', '871', 4.0),\n",
              " ('868', '710', 3.0),\n",
              " ('291', '8', 4.0),\n",
              " ('896', '562', 2.0),\n",
              " ('456', '294', 1.0),\n",
              " ('452', '186', 1.0),\n",
              " ('331', '634', 3.0),\n",
              " ('619', '295', 4.0),\n",
              " ('59', '1110', 4.0),\n",
              " ('102', '176', 3.0),\n",
              " ('130', '272', 5.0),\n",
              " ('711', '755', 3.0),\n",
              " ('655', '902', 2.0),\n",
              " ('57', '288', 4.0),\n",
              " ('205', '748', 4.0),\n",
              " ('399', '946', 3.0),\n",
              " ('610', '66', 3.0),\n",
              " ('116', '355', 2.0),\n",
              " ('688', '682', 5.0),\n",
              " ('427', '322', 3.0),\n",
              " ('624', '845', 3.0),\n",
              " ('814', '441', 2.0),\n",
              " ('919', '687', 1.0),\n",
              " ('891', '15', 4.0),\n",
              " ('269', '365', 2.0),\n",
              " ('318', '315', 5.0),\n",
              " ('268', '562', 4.0),\n",
              " ('506', '663', 4.0),\n",
              " ('7', '260', 1.0),\n",
              " ('497', '111', 4.0),\n",
              " ('533', '742', 4.0),\n",
              " ('766', '747', 5.0),\n",
              " ('221', '108', 3.0),\n",
              " ('13', '570', 5.0),\n",
              " ('937', '508', 1.0),\n",
              " ('730', '301', 1.0),\n",
              " ('931', '258', 3.0),\n",
              " ('934', '315', 4.0),\n",
              " ('328', '432', 1.0),\n",
              " ('416', '866', 4.0),\n",
              " ('868', '739', 2.0),\n",
              " ('334', '1074', 2.0),\n",
              " ('439', '1328', 4.0),\n",
              " ('269', '176', 2.0),\n",
              " ('345', '742', 4.0),\n",
              " ('78', '93', 4.0),\n",
              " ('895', '283', 4.0),\n",
              " ('89', '151', 5.0),\n",
              " ('619', '597', 4.0),\n",
              " ('115', '181', 4.0),\n",
              " ('214', '693', 3.0),\n",
              " ('382', '151', 4.0),\n",
              " ('385', '98', 4.0),\n",
              " ('329', '185', 3.0),\n",
              " ('293', '518', 5.0),\n",
              " ('738', '930', 3.0),\n",
              " ('103', '250', 4.0),\n",
              " ('846', '110', 3.0),\n",
              " ('416', '754', 5.0),\n",
              " ('164', '1016', 3.0),\n",
              " ('883', '971', 3.0),\n",
              " ('831', '326', 4.0),\n",
              " ('394', '184', 3.0),\n",
              " ('276', '552', 3.0),\n",
              " ('59', '550', 5.0),\n",
              " ('52', '427', 5.0),\n",
              " ('7', '405', 3.0),\n",
              " ('207', '158', 3.0),\n",
              " ('689', '298', 4.0),\n",
              " ('244', '1045', 5.0),\n",
              " ('297', '156', 4.0),\n",
              " ('149', '345', 4.0),\n",
              " ('437', '1134', 4.0),\n",
              " ('692', '168', 2.0),\n",
              " ('28', '859', 3.0),\n",
              " ('737', '196', 3.0),\n",
              " ('716', '404', 4.0),\n",
              " ('374', '181', 3.0),\n",
              " ('264', '200', 5.0),\n",
              " ('936', '282', 2.0),\n",
              " ('7', '639', 5.0),\n",
              " ('308', '1047', 3.0),\n",
              " ('279', '1224', 3.0),\n",
              " ('747', '1', 5.0),\n",
              " ('608', '8', 2.0),\n",
              " ('213', '125', 5.0),\n",
              " ('692', '100', 4.0),\n",
              " ('474', '418', 3.0),\n",
              " ('804', '948', 1.0),\n",
              " ('655', '124', 3.0),\n",
              " ('898', '343', 3.0),\n",
              " ('363', '770', 4.0),\n",
              " ('916', '170', 4.0),\n",
              " ('222', '623', 2.0),\n",
              " ('684', '161', 3.0),\n",
              " ('346', '79', 5.0),\n",
              " ('782', '288', 4.0),\n",
              " ('727', '405', 3.0),\n",
              " ('43', '143', 4.0),\n",
              " ('398', '429', 4.0),\n",
              " ('267', '810', 3.0),\n",
              " ('291', '829', 2.0),\n",
              " ('644', '117', 4.0),\n",
              " ('924', '742', 3.0),\n",
              " ('188', '259', 3.0),\n",
              " ('454', '496', 4.0),\n",
              " ('724', '895', 4.0),\n",
              " ('368', '569', 3.0),\n",
              " ('749', '686', 4.0),\n",
              " ('524', '1454', 3.0),\n",
              " ('280', '135', 4.0),\n",
              " ('18', '485', 5.0),\n",
              " ('60', '208', 5.0),\n",
              " ('48', '136', 4.0),\n",
              " ('656', '322', 1.0),\n",
              " ('123', '480', 3.0),\n",
              " ('399', '1137', 4.0),\n",
              " ('878', '22', 2.0),\n",
              " ('883', '234', 4.0),\n",
              " ('271', '276', 3.0),\n",
              " ('627', '581', 3.0),\n",
              " ('761', '1157', 5.0),\n",
              " ('473', '129', 4.0),\n",
              " ('870', '425', 4.0),\n",
              " ('334', '902', 4.0),\n",
              " ('305', '97', 4.0),\n",
              " ('44', '717', 3.0),\n",
              " ('466', '174', 5.0),\n",
              " ('49', '204', 1.0),\n",
              " ('361', '83', 3.0),\n",
              " ('363', '87', 3.0),\n",
              " ('921', '147', 3.0),\n",
              " ('493', '1088', 2.0),\n",
              " ('181', '1057', 2.0),\n",
              " ('94', '1028', 2.0),\n",
              " ('460', '289', 4.0),\n",
              " ('604', '672', 1.0),\n",
              " ('813', '342', 1.0),\n",
              " ('399', '401', 3.0),\n",
              " ('256', '274', 5.0),\n",
              " ('648', '1041', 3.0),\n",
              " ('457', '758', 2.0),\n",
              " ('303', '762', 4.0),\n",
              " ('798', '258', 4.0),\n",
              " ('391', '318', 4.0),\n",
              " ('795', '429', 3.0),\n",
              " ('194', '234', 3.0),\n",
              " ('158', '144', 4.0),\n",
              " ('95', '405', 3.0),\n",
              " ('268', '268', 5.0),\n",
              " ('642', '73', 4.0),\n",
              " ('399', '143', 5.0),\n",
              " ('390', '742', 4.0),\n",
              " ('763', '153', 4.0),\n",
              " ('712', '82', 5.0),\n",
              " ('733', '283', 3.0),\n",
              " ('553', '238', 5.0),\n",
              " ('617', '648', 3.0),\n",
              " ('630', '9', 2.0),\n",
              " ('506', '229', 4.0),\n",
              " ('521', '156', 4.0),\n",
              " ('536', '1118', 2.0),\n",
              " ('919', '304', 4.0),\n",
              " ('70', '496', 4.0),\n",
              " ('653', '571', 1.0),\n",
              " ('221', '327', 4.0),\n",
              " ('80', '514', 3.0),\n",
              " ('214', '191', 4.0),\n",
              " ('804', '154', 3.0),\n",
              " ('374', '458', 5.0),\n",
              " ('336', '1437', 2.0),\n",
              " ('378', '15', 4.0),\n",
              " ('313', '58', 3.0),\n",
              " ('736', '532', 4.0),\n",
              " ('664', '525', 4.0),\n",
              " ('24', '421', 5.0),\n",
              " ('23', '133', 4.0),\n",
              " ('721', '527', 5.0),\n",
              " ('575', '427', 4.0),\n",
              " ('650', '662', 3.0),\n",
              " ('932', '495', 5.0),\n",
              " ('398', '227', 2.0),\n",
              " ('781', '134', 5.0),\n",
              " ('445', '1051', 1.0),\n",
              " ('673', '12', 4.0),\n",
              " ('495', '55', 2.0),\n",
              " ('364', '288', 4.0),\n",
              " ('590', '14', 5.0),\n",
              " ('670', '945', 4.0),\n",
              " ('910', '127', 5.0),\n",
              " ('767', '183', 4.0),\n",
              " ('112', '331', 4.0),\n",
              " ('658', '178', 5.0),\n",
              " ('201', '667', 2.0),\n",
              " ('510', '876', 2.0),\n",
              " ('551', '468', 5.0),\n",
              " ('846', '161', 4.0),\n",
              " ('124', '174', 3.0),\n",
              " ('633', '82', 4.0),\n",
              " ('782', '1160', 2.0),\n",
              " ('286', '423', 4.0),\n",
              " ('441', '338', 4.0),\n",
              " ('546', '222', 4.0),\n",
              " ('828', '170', 3.0),\n",
              " ('698', '89', 4.0),\n",
              " ('346', '186', 3.0),\n",
              " ('41', '96', 4.0),\n",
              " ('303', '125', 2.0),\n",
              " ('31', '611', 4.0),\n",
              " ('429', '92', 4.0),\n",
              " ('360', '744', 4.0),\n",
              " ('452', '554', 3.0),\n",
              " ('180', '785', 4.0),\n",
              " ('608', '690', 4.0),\n",
              " ('627', '566', 3.0),\n",
              " ('378', '182', 4.0),\n",
              " ('60', '173', 4.0),\n",
              " ('253', '433', 3.0),\n",
              " ('472', '796', 4.0),\n",
              " ('804', '720', 3.0),\n",
              " ('339', '174', 4.0),\n",
              " ('122', '239', 4.0),\n",
              " ('311', '403', 4.0),\n",
              " ('347', '470', 5.0),\n",
              " ('56', '403', 4.0),\n",
              " ('484', '235', 2.0),\n",
              " ('924', '605', 3.0),\n",
              " ('896', '429', 5.0),\n",
              " ('92', '963', 5.0),\n",
              " ('23', '172', 4.0),\n",
              " ('805', '866', 1.0),\n",
              " ('493', '423', 2.0),\n",
              " ('587', '895', 4.0),\n",
              " ('489', '288', 4.0),\n",
              " ('440', '690', 4.0),\n",
              " ('405', '392', 5.0),\n",
              " ('55', '678', 3.0),\n",
              " ('764', '222', 4.0),\n",
              " ('494', '603', 3.0),\n",
              " ('13', '185', 3.0),\n",
              " ('572', '13', 4.0),\n",
              " ('694', '178', 4.0),\n",
              " ('922', '433', 4.0),\n",
              " ('342', '248', 3.0),\n",
              " ('330', '94', 4.0),\n",
              " ('713', '690', 1.0),\n",
              " ('653', '550', 3.0),\n",
              " ('393', '724', 3.0),\n",
              " ('405', '622', 1.0),\n",
              " ('932', '183', 4.0),\n",
              " ('60', '228', 4.0),\n",
              " ('116', '326', 2.0),\n",
              " ('104', '283', 4.0),\n",
              " ('182', '257', 3.0),\n",
              " ('629', '333', 4.0),\n",
              " ('397', '324', 2.0),\n",
              " ('517', '283', 4.0),\n",
              " ('544', '325', 1.0),\n",
              " ('833', '38', 1.0),\n",
              " ('790', '50', 4.0),\n",
              " ('405', '842', 5.0),\n",
              " ('524', '42', 3.0),\n",
              " ('429', '195', 4.0),\n",
              " ('183', '96', 3.0),\n",
              " ('295', '42', 3.0),\n",
              " ('587', '880', 3.0),\n",
              " ('624', '1016', 3.0),\n",
              " ('442', '986', 1.0),\n",
              " ('145', '750', 4.0),\n",
              " ('222', '7', 5.0),\n",
              " ('6', '498', 4.0),\n",
              " ('859', '368', 3.0),\n",
              " ('258', '258', 2.0),\n",
              " ('197', '1222', 3.0),\n",
              " ('842', '288', 3.0),\n",
              " ('532', '364', 3.0),\n",
              " ('224', '26', 3.0),\n",
              " ('886', '10', 3.0),\n",
              " ('452', '86', 4.0),\n",
              " ('896', '420', 4.0),\n",
              " ('833', '357', 4.0),\n",
              " ('796', '1217', 3.0),\n",
              " ('167', '136', 4.0),\n",
              " ('85', '289', 3.0),\n",
              " ('622', '9', 4.0),\n",
              " ('889', '597', 3.0),\n",
              " ('178', '658', 5.0),\n",
              " ('745', '14', 3.0),\n",
              " ('591', '172', 3.0),\n",
              " ('59', '404', 3.0),\n",
              " ('385', '1536', 5.0),\n",
              " ('551', '1621', 1.0),\n",
              " ('548', '300', 5.0),\n",
              " ('385', '216', 2.0),\n",
              " ('200', '742', 4.0),\n",
              " ('790', '90', 2.0),\n",
              " ('653', '728', 2.0),\n",
              " ('385', '443', 3.0),\n",
              " ('401', '604', 4.0),\n",
              " ('189', '14', 5.0),\n",
              " ('232', '1149', 5.0),\n",
              " ('450', '71', 3.0),\n",
              " ('708', '887', 2.0),\n",
              " ('275', '746', 4.0),\n",
              " ('299', '288', 3.0),\n",
              " ('60', '474', 5.0),\n",
              " ('23', '472', 2.0),\n",
              " ('778', '219', 3.0),\n",
              " ('815', '418', 4.0),\n",
              " ('543', '603', 5.0),\n",
              " ('664', '450', 3.0),\n",
              " ('181', '129', 2.0),\n",
              " ('496', '181', 5.0),\n",
              " ('741', '54', 3.0),\n",
              " ('886', '231', 2.0),\n",
              " ('514', '47', 4.0),\n",
              " ('462', '330', 3.0),\n",
              " ('399', '366', 3.0),\n",
              " ('659', '172', 3.0),\n",
              " ('817', '124', 4.0),\n",
              " ('598', '243', 2.0),\n",
              " ('293', '174', 5.0),\n",
              " ('533', '582', 3.0),\n",
              " ('286', '419', 5.0),\n",
              " ('399', '975', 2.0),\n",
              " ('533', '19', 3.0),\n",
              " ('187', '214', 4.0),\n",
              " ('385', '168', 3.0),\n",
              " ('119', '917', 4.0),\n",
              " ('458', '293', 5.0),\n",
              " ('891', '237', 5.0),\n",
              " ('13', '199', 5.0),\n",
              " ('138', '209', 4.0),\n",
              " ('506', '132', 4.0),\n",
              " ('206', '690', 2.0),\n",
              " ('663', '183', 4.0),\n",
              " ('314', '1139', 5.0),\n",
              " ('286', '425', 2.0),\n",
              " ('790', '1215', 1.0),\n",
              " ('783', '292', 4.0),\n",
              " ('301', '299', 3.0),\n",
              " ('114', '204', 3.0),\n",
              " ('59', '746', 5.0),\n",
              " ('489', '750', 5.0),\n",
              " ('420', '179', 5.0),\n",
              " ('303', '956', 4.0),\n",
              " ('332', '815', 4.0),\n",
              " ('593', '276', 1.0),\n",
              " ('591', '662', 3.0),\n",
              " ('437', '97', 3.0),\n",
              " ('139', '460', 3.0),\n",
              " ('416', '273', 4.0),\n",
              " ('271', '265', 5.0),\n",
              " ('711', '172', 5.0),\n",
              " ('181', '840', 1.0),\n",
              " ('397', '480', 5.0),\n",
              " ('835', '485', 5.0),\n",
              " ('785', '56', 4.0),\n",
              " ('308', '537', 4.0),\n",
              " ('417', '748', 4.0),\n",
              " ('269', '72', 2.0),\n",
              " ('290', '423', 5.0),\n",
              " ('194', '235', 2.0),\n",
              " ('387', '196', 2.0),\n",
              " ('738', '164', 5.0),\n",
              " ('841', '286', 5.0),\n",
              " ('661', '89', 5.0),\n",
              " ('450', '491', 3.0),\n",
              " ('472', '79', 5.0),\n",
              " ('883', '90', 3.0),\n",
              " ('927', '401', 2.0),\n",
              " ('452', '660', 4.0),\n",
              " ('10', '185', 5.0),\n",
              " ('125', '67', 5.0),\n",
              " ('537', '191', 4.0),\n",
              " ('23', '230', 4.0),\n",
              " ('158', '226', 3.0),\n",
              " ('514', '680', 1.0),\n",
              " ('13', '232', 3.0),\n",
              " ('668', '538', 5.0),\n",
              " ('810', '339', 5.0),\n",
              " ('43', '312', 4.0),\n",
              " ('290', '926', 3.0),\n",
              " ('924', '129', 4.0),\n",
              " ('466', '232', 4.0),\n",
              " ('256', '975', 3.0),\n",
              " ('773', '475', 3.0),\n",
              " ('640', '304', 4.0),\n",
              " ('840', '183', 5.0),\n",
              " ('718', '1047', 3.0),\n",
              " ('187', '69', 4.0),\n",
              " ('603', '210', 4.0),\n",
              " ('325', '240', 1.0),\n",
              " ('84', '286', 5.0),\n",
              " ('590', '100', 5.0),\n",
              " ('58', '497', 2.0),\n",
              " ('932', '529', 4.0),\n",
              " ('451', '269', 2.0),\n",
              " ('901', '89', 3.0),\n",
              " ('659', '1297', 2.0),\n",
              " ('176', '751', 1.0),\n",
              " ('90', '611', 5.0),\n",
              " ('609', '877', 5.0),\n",
              " ('606', '100', 5.0),\n",
              " ('633', '183', 4.0),\n",
              " ('463', '950', 3.0),\n",
              " ('328', '77', 4.0),\n",
              " ('508', '215', 3.0),\n",
              " ('709', '379', 3.0),\n",
              " ('99', '258', 5.0),\n",
              " ('605', '269', 4.0),\n",
              " ('96', '56', 5.0),\n",
              " ('588', '282', 5.0),\n",
              " ('44', '240', 4.0),\n",
              " ('666', '202', 5.0),\n",
              " ('804', '172', 4.0),\n",
              " ('460', '276', 5.0),\n",
              " ('938', '763', 4.0),\n",
              " ('425', '32', 3.0),\n",
              " ('294', '475', 5.0),\n",
              " ('603', '1483', 5.0),\n",
              " ('880', '1210', 4.0),\n",
              " ('450', '495', 4.0),\n",
              " ('684', '435', 3.0),\n",
              " ('130', '472', 4.0),\n",
              " ('44', '102', 2.0),\n",
              " ('295', '1039', 4.0),\n",
              " ('314', '106', 2.0),\n",
              " ('474', '520', 5.0),\n",
              " ('363', '11', 5.0),\n",
              " ('130', '565', 3.0),\n",
              " ('868', '403', 2.0),\n",
              " ('207', '70', 3.0),\n",
              " ('295', '427', 4.0),\n",
              " ('7', '495', 5.0),\n",
              " ('537', '321', 3.0),\n",
              " ('484', '97', 5.0),\n",
              " ('13', '401', 1.0),\n",
              " ('294', '331', 4.0),\n",
              " ('760', '125', 4.0),\n",
              " ('287', '1', 5.0),\n",
              " ('437', '419', 5.0),\n",
              " ('489', '898', 3.0),\n",
              " ('429', '755', 3.0),\n",
              " ('923', '928', 4.0),\n",
              " ('544', '328', 3.0),\n",
              " ('682', '294', 3.0),\n",
              " ('60', '357', 4.0),\n",
              " ('585', '582', 3.0),\n",
              " ('144', '135', 5.0),\n",
              " ('276', '595', 2.0),\n",
              " ('269', '120', 1.0),\n",
              " ('883', '286', 3.0),\n",
              " ('454', '972', 2.0),\n",
              " ('496', '1473', 3.0),\n",
              " ('535', '645', 4.0),\n",
              " ('776', '181', 4.0),\n",
              " ('566', '405', 5.0),\n",
              " ('472', '385', 5.0),\n",
              " ('151', '28', 4.0),\n",
              " ('345', '5', 3.0),\n",
              " ('642', '596', 5.0),\n",
              " ('592', '1226', 4.0),\n",
              " ('280', '230', 3.0),\n",
              " ('780', '22', 4.0),\n",
              " ('592', '546', 4.0),\n",
              " ('234', '177', 3.0),\n",
              " ('291', '240', 4.0),\n",
              " ('815', '183', 5.0),\n",
              " ('398', '519', 4.0),\n",
              " ('279', '992', 4.0),\n",
              " ('492', '521', 5.0),\n",
              " ('95', '226', 4.0),\n",
              " ('567', '318', 2.0),\n",
              " ('351', '879', 5.0),\n",
              " ('807', '173', 3.0),\n",
              " ('561', '596', 2.0),\n",
              " ('561', '318', 3.0),\n",
              " ('849', '207', 5.0),\n",
              " ('524', '950', 4.0),\n",
              " ('472', '358', 5.0),\n",
              " ('854', '528', 4.0),\n",
              " ('532', '818', 2.0),\n",
              " ('532', '268', 4.0),\n",
              " ('328', '1015', 3.0),\n",
              " ('257', '324', 5.0),\n",
              " ('604', '444', 2.0),\n",
              " ('90', '879', 3.0),\n",
              " ('64', '153', 3.0),\n",
              " ('2', '255', 4.0),\n",
              " ('387', '79', 4.0),\n",
              " ('85', '8', 4.0),\n",
              " ('653', '381', 2.0),\n",
              " ('723', '286', 3.0),\n",
              " ('763', '730', 5.0),\n",
              " ('608', '196', 5.0),\n",
              " ('761', '283', 4.0),\n",
              " ('37', '172', 4.0),\n",
              " ('758', '898', 3.0),\n",
              " ('125', '479', 4.0),\n",
              " ('319', '750', 3.0),\n",
              " ('660', '431', 4.0),\n",
              " ('487', '405', 4.0),\n",
              " ('524', '554', 4.0),\n",
              " ('393', '1014', 3.0),\n",
              " ('128', '387', 2.0),\n",
              " ('621', '276', 4.0),\n",
              " ('708', '764', 4.0),\n",
              " ('73', '433', 4.0),\n",
              " ('197', '311', 4.0),\n",
              " ('416', '327', 4.0),\n",
              " ('417', '420', 4.0),\n",
              " ('168', '411', 1.0),\n",
              " ('138', '483', 5.0),\n",
              " ('417', '79', 3.0),\n",
              " ('474', '705', 3.0),\n",
              " ('811', '258', 5.0),\n",
              " ('774', '4', 2.0),\n",
              " ('11', '744', 4.0),\n",
              " ('655', '458', 3.0),\n",
              " ('234', '651', 4.0),\n",
              " ('159', '1037', 2.0),\n",
              " ('496', '480', 3.0),\n",
              " ('618', '313', 4.0),\n",
              " ('6', '294', 2.0),\n",
              " ('308', '70', 4.0),\n",
              " ('378', '95', 4.0),\n",
              " ('287', '845', 5.0),\n",
              " ('454', '482', 3.0),\n",
              " ('234', '863', 5.0),\n",
              " ('712', '215', 3.0),\n",
              " ('13', '172', 5.0),\n",
              " ('298', '546', 3.0),\n",
              " ('709', '452', 3.0),\n",
              " ('249', '294', 3.0),\n",
              " ('318', '286', 3.0),\n",
              " ('7', '428', 5.0),\n",
              " ('833', '249', 1.0),\n",
              " ('291', '121', 2.0),\n",
              " ('242', '275', 5.0),\n",
              " ('919', '112', 3.0),\n",
              " ('84', '25', 3.0),\n",
              " ...]"
            ]
          },
          "metadata": {},
          "execution_count": 52
        }
      ]
    },
    {
      "cell_type": "code",
      "metadata": {
        "ExecuteTime": {
          "end_time": "2021-05-19T22:02:47.649261Z",
          "start_time": "2021-05-19T22:02:47.631815Z"
        },
        "colab": {
          "base_uri": "https://localhost:8080/"
        },
        "id": "rvvw4w3aVA9R",
        "outputId": "80d007b1-f475-46b9-f364-5d46732c5beb"
      },
      "source": [
        "accuracy.rmse(predictions);"
      ],
      "execution_count": 17,
      "outputs": [
        {
          "output_type": "stream",
          "name": "stdout",
          "text": [
            "RMSE: 0.9446\n"
          ]
        }
      ]
    },
    {
      "cell_type": "markdown",
      "metadata": {
        "id": "gxA9DhnrVA9W"
      },
      "source": [
        "## Кросс-валидация"
      ]
    },
    {
      "cell_type": "markdown",
      "metadata": {
        "id": "3nfQSI8gVA9X"
      },
      "source": [
        "Обучая любой алгоритм машинного обучения мы, фактически, \"подгоняем\" модель под данные, которые ей подаём. Но, если подгонять слишком сильно, то модель переобучится. То есть модель начнёт запоминать ответы вместо того, чтобы выявлять закономерности. \n",
        "\n",
        "На графиках ниже точки тренировочной выборки:\n",
        "*  слева - недообученная модель (большая ошибка на тренировочной выборке; большая ошибка на тестовой выборке)\n",
        "*  посередине - хорошо обученная модель (маленькая ошибка на тренировочной выборке; маленькая ошибка на тестовой выборке)\n",
        "*  справа - переобученная модель (очень маленькая или нулевая ошибка на тренировочной выборке; большая ошибка на тестовой выборке)"
      ]
    },
    {
      "cell_type": "markdown",
      "metadata": {
        "id": "7sdQG7kTVA9Y"
      },
      "source": [
        "<p align=\"center\">\n",
        "  <img src=\"https://drive.google.com/uc?id=1Eg4Xg4o-lhzrgqNNmNQCtB1RxNJmnmWx\" alt=\"Drawing\" style=\"width: 700px;\" width=\"700\"/>\n",
        "</p>"
      ]
    },
    {
      "cell_type": "markdown",
      "metadata": {
        "id": "mYNhrqsNVA9Z"
      },
      "source": [
        "Таким образом, обучая модель, мы всегда уменьшаем ошибку на тренировочной выборке. Вместе с ошибкой на тренировочной выборке, падает и ошибка на тестовой. Но после какого-то момента, модель начинает переобучатся, и ошибка на тестовой выборке начинает расти, в то время, как ошибка на тренировочной выборке продолжает падать. "
      ]
    },
    {
      "cell_type": "markdown",
      "metadata": {
        "id": "Xmuhn5RUVA9Z"
      },
      "source": [
        "<p align=\"center\">\n",
        "  <img src=\"https://drive.google.com/uc?id=1mvU_jJIe07tAoX82qODcpmTBctx0ReuT\" alt=\"Drawing\" style=\"width: 700px;\" width=\"700\"/>\n",
        "</p>"
      ]
    },
    {
      "cell_type": "markdown",
      "metadata": {
        "id": "k-m8IjEkVA9a"
      },
      "source": [
        "Может получится ситуация, когда мы видим маленькую ошибку нашей модели, и думаем, что она хорошая, но на самом деле она просто переобучилась, и на новых данных покажет плохой результат.\n",
        "\n",
        "Чтобы избежать такой ситуации можно использовать отложенную выборку. То есть мы разбиваем наши данные на **тренировочную** выборку, **тестовую** выборку и **отложенную** выборку. Соответственно, обучаем модель на тренировочной, в ходе обучения проверяем результат на тестовой выборке, а в конце обучения, чтобы оценить качество модели, ошибку считаем на отложенной выборке."
      ]
    },
    {
      "cell_type": "markdown",
      "metadata": {
        "id": "6qQjDxYpVA9c"
      },
      "source": [
        "При таком подходе в обучении модели участвует только тренировочная выборка. Тестовую и отложенную мы используем только для проверки. Если у нас мало данных, отложенная выборка - непозволительная роскошь. \n",
        "\n",
        "Другой популярный подход это **кросс-валидация** или скользящий контроль. Суть метода заключается в том, что мы дераем не одно разбиение датесета, а несколько разбиений таким образом, чтобы все данные использовались и в обучении и для проверки. Такие разбиения называются **фолдами**. \n",
        "\n",
        "Преимущества такого подхожа в том, что мы используем все данные для обучения. Также это позволяет оценить устойчивость модели. Если ошибки полученные на разных фолдах сильно отличаются, что модель неустойчива.\n",
        "Недостаток метода в том, что нам нужно обучать не одну модель, а несколько (столько, сколько мы выбрали фолдов).\n",
        "\n",
        "На практике часто выбирают 5 фолдов."
      ]
    },
    {
      "cell_type": "markdown",
      "metadata": {
        "id": "ZrMKa--nVA9d"
      },
      "source": [
        "<p align=\"center\">\n",
        "  <img src=\"https://drive.google.com/uc?id=1C9eHgCi30X08XaSScmjqIOT3ayBtBiFw\" alt=\"Drawing\" style=\"width: 500px;\" width=\"300\"/>\n",
        "</p>"
      ]
    },
    {
      "cell_type": "code",
      "metadata": {
        "id": "3Nm_zw-BVA9e"
      },
      "source": [
        "from surprise.model_selection import cross_validate"
      ],
      "execution_count": 19,
      "outputs": []
    },
    {
      "cell_type": "markdown",
      "metadata": {
        "id": "VEPy4jGKVA9h"
      },
      "source": [
        "Используем функцию **cross_validate** из модуля **model_selection** библиотеки **surprise**.\n",
        "\n",
        "Функция принимает на вход:\n",
        "*  algo - алгоритм, который будем обучать.\n",
        "*  data - исходные данные. Обратите внимание, что данные передаём не разбитые на выборки.\n",
        "*  measures - метрики ошибок по которым мы хотим сравнивать модели. Мы передаём среднеквадратичную ошибку и среднюю ошибку.\n",
        "* cv - количество фолдов.\n",
        "*  verbose - параметр указывающий хотим ли мы увидеть подробный результат выполнения функции."
      ]
    },
    {
      "cell_type": "code",
      "metadata": {
        "colab": {
          "base_uri": "https://localhost:8080/"
        },
        "id": "0dzKI1AmVA9i",
        "outputId": "dc553b87-d5bc-4c9d-8e49-10fe87658197"
      },
      "source": [
        "algo = SVD()\n",
        "cross_validate(algo, data, measures=[\"RMSE\", \"MAE\"], cv=5, verbose=True)"
      ],
      "execution_count": 20,
      "outputs": [
        {
          "output_type": "stream",
          "name": "stdout",
          "text": [
            "Evaluating RMSE, MAE of algorithm SVD on 5 split(s).\n",
            "\n",
            "                  Fold 1  Fold 2  Fold 3  Fold 4  Fold 5  Mean    Std     \n",
            "RMSE (testset)    0.9332  0.9365  0.9284  0.9398  0.9431  0.9362  0.0051  \n",
            "MAE (testset)     0.7387  0.7361  0.7328  0.7398  0.7435  0.7382  0.0036  \n",
            "Fit time          4.82    4.78    4.82    4.78    4.80    4.80    0.02    \n",
            "Test time         0.17    0.29    0.17    0.26    0.28    0.23    0.05    \n"
          ]
        },
        {
          "output_type": "execute_result",
          "data": {
            "text/plain": [
              "{'fit_time': (4.818059921264648,\n",
              "  4.779477119445801,\n",
              "  4.8242902755737305,\n",
              "  4.780812740325928,\n",
              "  4.802828073501587),\n",
              " 'test_mae': array([0.7387244 , 0.73608483, 0.73278861, 0.73979112, 0.74350961]),\n",
              " 'test_rmse': array([0.93316063, 0.93646481, 0.92840548, 0.93983396, 0.94312725]),\n",
              " 'test_time': (0.17313027381896973,\n",
              "  0.2908289432525635,\n",
              "  0.17102503776550293,\n",
              "  0.2593667507171631,\n",
              "  0.27565526962280273)}"
            ]
          },
          "metadata": {},
          "execution_count": 20
        }
      ]
    },
    {
      "cell_type": "markdown",
      "metadata": {
        "id": "D1ICfHrkVA9l"
      },
      "source": [
        "В результате получаем значения ошибок на каждом из фолдов, а также их среднее и стандартное отклонение (СО). Маленькое СО, как в нашем случае, говорит об устойчивости модели.\n",
        "\n",
        "Дополнительно мы видим время тренировки и время предсказания модели на каждом из фолдов."
      ]
    },
    {
      "cell_type": "markdown",
      "metadata": {
        "id": "qgBGv8BZVA9m"
      },
      "source": [
        "## Поиск по сетке (Grid search)"
      ]
    },
    {
      "cell_type": "markdown",
      "metadata": {
        "id": "j4L5ffx8VA9n"
      },
      "source": [
        "Теперь, когда у нас есть надёжный способ оценивать качество модели, мы можем перейти к подбору гиперпараметров модели, т.е. параметров, которые нужно указывать вручную, потому что нельзя обучить во время тренировки модели.\n",
        "\n",
        "Метод поиска по сетке очень прост. Мы передаём варианты каждого из параметров, который мы хотим перебрать, а функция перебирает все возможные варианты переданных параметров. Например, на картинке ниже перебираются параметры \"регуляризация\" и \"скорость обучения\"."
      ]
    },
    {
      "cell_type": "markdown",
      "metadata": {
        "id": "NfWrGyLhVA9s"
      },
      "source": [
        "<p align=\"center\">\n",
        "  <img src=\"https://drive.google.com/uc?id=1xs9z_Zo1A2QinErKYEB-bp6eGnLWodbO\" alt=\"Drawing\" style=\"width: 700px;\" width=\"700\"/>\n",
        "</p>"
      ]
    },
    {
      "cell_type": "markdown",
      "metadata": {
        "id": "XmXbwVhnOQeB"
      },
      "source": [
        "# Задание 2\n",
        "\n",
        "## Часть 1\n",
        "\n",
        "Оптимизируйте следующие параметры алгоритма SVD:\n",
        "\n",
        "* n_epochs - количество эпох обучения\n",
        "* lr_all - скорость обучения\n",
        "* reg_all - регуляризация\n",
        "\n",
        "Более детальное описание алгоритма смотри в [документации](https://surprise.readthedocs.io/en/stable/matrix_factorization.html#surprise.prediction_algorithms.matrix_factorization.SVD)\n",
        "\n",
        "P.S. не нужно делать слишком большую сетку перебора - если время расчёта отнимает больше 10 мин, то это уже очень много (для базового датасета)."
      ]
    },
    {
      "cell_type": "code",
      "metadata": {
        "id": "7g8NQTNrVA9t"
      },
      "source": [
        "from surprise.model_selection import GridSearchCV"
      ],
      "execution_count": 21,
      "outputs": []
    },
    {
      "cell_type": "markdown",
      "metadata": {
        "id": "hvEIIGGeVA92"
      },
      "source": [
        "Для перебора по сетке используем функцию **GridSearchCV**. \n",
        "На вход подаём:\n",
        "* алгоритм.\n",
        "* параметры, которые хотим перебрать.\n",
        "* метрики ошибок.\n",
        "* количество фолдов для кросс-валидации.\n",
        "\n",
        "Обратите внимание, что функция выполняет кросс-валидация автоматически."
      ]
    },
    {
      "cell_type": "code",
      "metadata": {
        "id": "tUo_Y70UVA-B",
        "colab": {
          "base_uri": "https://localhost:8080/"
        },
        "outputId": "e7c212e6-bd01-4755-dfaf-a2ab7f257eaa"
      },
      "source": [
        "# Ваш код тут\n",
        "param_grid = {'n_epochs': [5, 10], 'lr_all': [0.002, 0.005],\n",
        "              'reg_all': [0.4, 0.6]}\n",
        "algo = SVD\n",
        "gs = GridSearchCV(algo, param_grid, measures=[\"rmse\", \"mae\"], cv=5, refit=True)\n",
        "\n",
        "gs.fit(data)\n",
        "best_params = gs.best_params[\"rmse\"]\n",
        "\n",
        "print(\"RMSE: \\t\", gs.best_score[\"rmse\"])\n",
        "print(\"MAE: \\t\", gs.best_score[\"mae\"])\n",
        "print(\"params: \\t\", gs.best_params[\"rmse\"])"
      ],
      "execution_count": 22,
      "outputs": [
        {
          "output_type": "stream",
          "name": "stdout",
          "text": [
            "RMSE: \t 0.961563207541176\n",
            "MAE: \t 0.7705427112666001\n",
            "params: \t {'n_epochs': 10, 'lr_all': 0.005, 'reg_all': 0.4}\n"
          ]
        }
      ]
    },
    {
      "cell_type": "code",
      "metadata": {
        "colab": {
          "base_uri": "https://localhost:8080/"
        },
        "id": "k75Lcfk5hs_y",
        "outputId": "9cd4e6a6-9ec4-446f-cfb6-f6269b1db7d4"
      },
      "source": [
        "algo = SVD(n_epochs = best_params['n_epochs'], lr_all = best_params['lr_all'], reg_all = best_params['reg_all'])\n",
        "algo.fit(trainset)\n",
        "algo.predict(100, 500, verbose=True)"
      ],
      "execution_count": 33,
      "outputs": [
        {
          "output_type": "stream",
          "name": "stdout",
          "text": [
            "user: 100        item: 500        r_ui = None   est = 3.53   {'was_impossible': False}\n"
          ]
        },
        {
          "output_type": "execute_result",
          "data": {
            "text/plain": [
              "Prediction(uid=100, iid=500, r_ui=None, est=3.5304, details={'was_impossible': False})"
            ]
          },
          "metadata": {},
          "execution_count": 33
        }
      ]
    },
    {
      "cell_type": "code",
      "metadata": {
        "colab": {
          "base_uri": "https://localhost:8080/"
        },
        "id": "U64MUzJGObU7",
        "outputId": "0b415206-00a0-4378-cdd7-08a492101d9d"
      },
      "source": [
        "user = 100500\n",
        "item = 100500\n",
        "gs.predict(user, item)"
      ],
      "execution_count": 31,
      "outputs": [
        {
          "output_type": "execute_result",
          "data": {
            "text/plain": [
              "Prediction(uid=100500, iid=100500, r_ui=None, est=3.52986, details={'was_impossible': False})"
            ]
          },
          "metadata": {},
          "execution_count": 31
        }
      ]
    },
    {
      "cell_type": "markdown",
      "metadata": {
        "id": "8EC7onOCOQeC"
      },
      "source": [
        "## Часть 2\n",
        "\n",
        "Выберите другую модель из scikit surprise для предсказания рекомендаций (полный список смотри в [документации](https://surprise.readthedocs.io/en/stable/prediction_algorithms_package.html)).\\\n",
        "И настройте её параметры с помощью поиска по сетке.\n",
        "\n",
        "Сравните результаты с предыдущей моделью."
      ]
    },
    {
      "cell_type": "code",
      "metadata": {
        "colab": {
          "base_uri": "https://localhost:8080/"
        },
        "id": "ddLHzOq6gply",
        "outputId": "dbd9ccad-1c71-4ebf-d653-9bf18a7d712a"
      },
      "source": [
        "param_grid = {'n_epochs': [5, 10], 'lr_all': [0.002, 0.005],\n",
        "              'reg_all': [0.4, 0.6]}\n",
        "algo = KNNBasic\n",
        "gs = GridSearchCV(algo, param_grid, measures=[\"rmse\", \"mae\"], cv=5, refit=True)\n",
        "\n",
        "gs.fit(data)\n",
        "\n",
        "print(\"RMSE: \\t\", gs.best_score[\"rmse\"])\n",
        "print(\"MAE: \\t\", gs.best_score[\"mae\"])\n",
        "print(\"params: \\t\", gs.best_params[\"rmse\"])"
      ],
      "execution_count": 34,
      "outputs": [
        {
          "output_type": "stream",
          "name": "stdout",
          "text": [
            "Computing the msd similarity matrix...\n",
            "Done computing similarity matrix.\n",
            "Computing the msd similarity matrix...\n",
            "Done computing similarity matrix.\n",
            "Computing the msd similarity matrix...\n",
            "Done computing similarity matrix.\n",
            "Computing the msd similarity matrix...\n",
            "Done computing similarity matrix.\n",
            "Computing the msd similarity matrix...\n",
            "Done computing similarity matrix.\n",
            "Computing the msd similarity matrix...\n",
            "Done computing similarity matrix.\n",
            "Computing the msd similarity matrix...\n",
            "Done computing similarity matrix.\n",
            "Computing the msd similarity matrix...\n",
            "Done computing similarity matrix.\n",
            "Computing the msd similarity matrix...\n",
            "Done computing similarity matrix.\n",
            "Computing the msd similarity matrix...\n",
            "Done computing similarity matrix.\n",
            "Computing the msd similarity matrix...\n",
            "Done computing similarity matrix.\n",
            "Computing the msd similarity matrix...\n",
            "Done computing similarity matrix.\n",
            "Computing the msd similarity matrix...\n",
            "Done computing similarity matrix.\n",
            "Computing the msd similarity matrix...\n",
            "Done computing similarity matrix.\n",
            "Computing the msd similarity matrix...\n",
            "Done computing similarity matrix.\n",
            "Computing the msd similarity matrix...\n",
            "Done computing similarity matrix.\n",
            "Computing the msd similarity matrix...\n",
            "Done computing similarity matrix.\n",
            "Computing the msd similarity matrix...\n",
            "Done computing similarity matrix.\n",
            "Computing the msd similarity matrix...\n",
            "Done computing similarity matrix.\n",
            "Computing the msd similarity matrix...\n",
            "Done computing similarity matrix.\n",
            "Computing the msd similarity matrix...\n",
            "Done computing similarity matrix.\n",
            "Computing the msd similarity matrix...\n",
            "Done computing similarity matrix.\n",
            "Computing the msd similarity matrix...\n",
            "Done computing similarity matrix.\n",
            "Computing the msd similarity matrix...\n",
            "Done computing similarity matrix.\n",
            "Computing the msd similarity matrix...\n",
            "Done computing similarity matrix.\n",
            "Computing the msd similarity matrix...\n",
            "Done computing similarity matrix.\n",
            "Computing the msd similarity matrix...\n",
            "Done computing similarity matrix.\n",
            "Computing the msd similarity matrix...\n",
            "Done computing similarity matrix.\n",
            "Computing the msd similarity matrix...\n",
            "Done computing similarity matrix.\n",
            "Computing the msd similarity matrix...\n",
            "Done computing similarity matrix.\n",
            "Computing the msd similarity matrix...\n",
            "Done computing similarity matrix.\n",
            "Computing the msd similarity matrix...\n",
            "Done computing similarity matrix.\n",
            "Computing the msd similarity matrix...\n",
            "Done computing similarity matrix.\n",
            "Computing the msd similarity matrix...\n",
            "Done computing similarity matrix.\n",
            "Computing the msd similarity matrix...\n",
            "Done computing similarity matrix.\n",
            "Computing the msd similarity matrix...\n",
            "Done computing similarity matrix.\n",
            "Computing the msd similarity matrix...\n",
            "Done computing similarity matrix.\n",
            "Computing the msd similarity matrix...\n",
            "Done computing similarity matrix.\n",
            "Computing the msd similarity matrix...\n",
            "Done computing similarity matrix.\n",
            "Computing the msd similarity matrix...\n",
            "Done computing similarity matrix.\n",
            "Computing the msd similarity matrix...\n",
            "Done computing similarity matrix.\n",
            "RMSE: \t 0.9778648104845381\n",
            "MAE: \t 0.7723469835638685\n",
            "params: \t {'n_epochs': 5, 'lr_all': 0.002, 'reg_all': 0.4}\n"
          ]
        }
      ]
    },
    {
      "cell_type": "code",
      "metadata": {
        "colab": {
          "base_uri": "https://localhost:8080/"
        },
        "id": "R78AE0txhqdl",
        "outputId": "ab0edda2-8239-4d46-dd86-c4f484b8ff81"
      },
      "source": [
        "algo = SVD(n_epochs = best_params['n_epochs'], lr_all = best_params['lr_all'], reg_all = best_params['reg_all'])\n",
        "algo.fit(trainset)\n",
        "algo.predict(100, 500, verbose=True)"
      ],
      "execution_count": 35,
      "outputs": [
        {
          "output_type": "stream",
          "name": "stdout",
          "text": [
            "user: 100        item: 500        r_ui = None   est = 3.53   {'was_impossible': False}\n"
          ]
        },
        {
          "output_type": "execute_result",
          "data": {
            "text/plain": [
              "Prediction(uid=100, iid=500, r_ui=None, est=3.5304, details={'was_impossible': False})"
            ]
          },
          "metadata": {},
          "execution_count": 35
        }
      ]
    },
    {
      "cell_type": "code",
      "metadata": {
        "colab": {
          "base_uri": "https://localhost:8080/"
        },
        "id": "1EP3F0kVSqdv",
        "outputId": "615036dc-d8d1-4671-f4cf-ccd5398cb346"
      },
      "source": [
        "from surprise.prediction_algorithms.knns import KNNBasic\n",
        "\n",
        "sim_options = {'name': 'cosine',\n",
        "               'user_based': False, \n",
        "               'measures': [\"rmse\", \"mae\"],\n",
        "               }\n",
        "algo_knn_basic = KNNBasic(sim_options=sim_options)\n",
        "predictions = algo_knn_basic.fit(trainset).test(testset)\n",
        "print(accuracy.mae(predictions), accuracy.rmse(predictions))"
      ],
      "execution_count": 89,
      "outputs": [
        {
          "output_type": "stream",
          "name": "stdout",
          "text": [
            "Computing the cosine similarity matrix...\n",
            "Done computing similarity matrix.\n",
            "MAE:  0.8142\n",
            "RMSE: 1.0291\n",
            "0.8142020672279752 1.0291372592253227\n"
          ]
        }
      ]
    },
    {
      "cell_type": "code",
      "metadata": {
        "ExecuteTime": {
          "end_time": "2021-05-19T22:04:44.054734Z",
          "start_time": "2021-05-19T22:04:44.053080Z"
        },
        "colab": {
          "base_uri": "https://localhost:8080/",
          "height": 408
        },
        "id": "mpQyOXG_OQeC",
        "outputId": "7f1dacdf-70a3-4037-a14a-3d45f63c8c49"
      },
      "source": [
        "# Ваш код тут\n",
        "pd.DataFrame(predictions, columns=['user_id', 'item_id', 'eval', 'predict_eval', 'details'])"
      ],
      "execution_count": 90,
      "outputs": [
        {
          "output_type": "execute_result",
          "data": {
            "text/html": [
              "<div>\n",
              "<style scoped>\n",
              "    .dataframe tbody tr th:only-of-type {\n",
              "        vertical-align: middle;\n",
              "    }\n",
              "\n",
              "    .dataframe tbody tr th {\n",
              "        vertical-align: top;\n",
              "    }\n",
              "\n",
              "    .dataframe thead th {\n",
              "        text-align: right;\n",
              "    }\n",
              "</style>\n",
              "<table border=\"1\" class=\"dataframe\">\n",
              "  <thead>\n",
              "    <tr style=\"text-align: right;\">\n",
              "      <th></th>\n",
              "      <th>user_id</th>\n",
              "      <th>item_id</th>\n",
              "      <th>eval</th>\n",
              "      <th>predict_eval</th>\n",
              "      <th>details</th>\n",
              "    </tr>\n",
              "  </thead>\n",
              "  <tbody>\n",
              "    <tr>\n",
              "      <th>0</th>\n",
              "      <td>279</td>\n",
              "      <td>1497</td>\n",
              "      <td>2.0</td>\n",
              "      <td>3.175000</td>\n",
              "      <td>{'actual_k': 40, 'was_impossible': False}</td>\n",
              "    </tr>\n",
              "    <tr>\n",
              "      <th>1</th>\n",
              "      <td>295</td>\n",
              "      <td>570</td>\n",
              "      <td>3.0</td>\n",
              "      <td>4.373722</td>\n",
              "      <td>{'actual_k': 40, 'was_impossible': False}</td>\n",
              "    </tr>\n",
              "    <tr>\n",
              "      <th>2</th>\n",
              "      <td>42</td>\n",
              "      <td>1044</td>\n",
              "      <td>4.0</td>\n",
              "      <td>3.571158</td>\n",
              "      <td>{'actual_k': 40, 'was_impossible': False}</td>\n",
              "    </tr>\n",
              "    <tr>\n",
              "      <th>3</th>\n",
              "      <td>537</td>\n",
              "      <td>88</td>\n",
              "      <td>2.0</td>\n",
              "      <td>2.749962</td>\n",
              "      <td>{'actual_k': 40, 'was_impossible': False}</td>\n",
              "    </tr>\n",
              "    <tr>\n",
              "      <th>4</th>\n",
              "      <td>222</td>\n",
              "      <td>450</td>\n",
              "      <td>3.0</td>\n",
              "      <td>2.197249</td>\n",
              "      <td>{'actual_k': 40, 'was_impossible': False}</td>\n",
              "    </tr>\n",
              "    <tr>\n",
              "      <th>...</th>\n",
              "      <td>...</td>\n",
              "      <td>...</td>\n",
              "      <td>...</td>\n",
              "      <td>...</td>\n",
              "      <td>...</td>\n",
              "    </tr>\n",
              "    <tr>\n",
              "      <th>24995</th>\n",
              "      <td>466</td>\n",
              "      <td>127</td>\n",
              "      <td>3.0</td>\n",
              "      <td>3.824878</td>\n",
              "      <td>{'actual_k': 40, 'was_impossible': False}</td>\n",
              "    </tr>\n",
              "    <tr>\n",
              "      <th>24996</th>\n",
              "      <td>13</td>\n",
              "      <td>793</td>\n",
              "      <td>5.0</td>\n",
              "      <td>3.200000</td>\n",
              "      <td>{'actual_k': 40, 'was_impossible': False}</td>\n",
              "    </tr>\n",
              "    <tr>\n",
              "      <th>24997</th>\n",
              "      <td>636</td>\n",
              "      <td>25</td>\n",
              "      <td>5.0</td>\n",
              "      <td>4.339302</td>\n",
              "      <td>{'actual_k': 12, 'was_impossible': False}</td>\n",
              "    </tr>\n",
              "    <tr>\n",
              "      <th>24998</th>\n",
              "      <td>195</td>\n",
              "      <td>469</td>\n",
              "      <td>3.0</td>\n",
              "      <td>3.492844</td>\n",
              "      <td>{'actual_k': 40, 'was_impossible': False}</td>\n",
              "    </tr>\n",
              "    <tr>\n",
              "      <th>24999</th>\n",
              "      <td>529</td>\n",
              "      <td>340</td>\n",
              "      <td>1.0</td>\n",
              "      <td>3.632403</td>\n",
              "      <td>{'actual_k': 35, 'was_impossible': False}</td>\n",
              "    </tr>\n",
              "  </tbody>\n",
              "</table>\n",
              "<p>25000 rows × 5 columns</p>\n",
              "</div>"
            ],
            "text/plain": [
              "      user_id item_id  ...  predict_eval                                    details\n",
              "0         279    1497  ...      3.175000  {'actual_k': 40, 'was_impossible': False}\n",
              "1         295     570  ...      4.373722  {'actual_k': 40, 'was_impossible': False}\n",
              "2          42    1044  ...      3.571158  {'actual_k': 40, 'was_impossible': False}\n",
              "3         537      88  ...      2.749962  {'actual_k': 40, 'was_impossible': False}\n",
              "4         222     450  ...      2.197249  {'actual_k': 40, 'was_impossible': False}\n",
              "...       ...     ...  ...           ...                                        ...\n",
              "24995     466     127  ...      3.824878  {'actual_k': 40, 'was_impossible': False}\n",
              "24996      13     793  ...      3.200000  {'actual_k': 40, 'was_impossible': False}\n",
              "24997     636      25  ...      4.339302  {'actual_k': 12, 'was_impossible': False}\n",
              "24998     195     469  ...      3.492844  {'actual_k': 40, 'was_impossible': False}\n",
              "24999     529     340  ...      3.632403  {'actual_k': 35, 'was_impossible': False}\n",
              "\n",
              "[25000 rows x 5 columns]"
            ]
          },
          "metadata": {},
          "execution_count": 90
        }
      ]
    },
    {
      "cell_type": "markdown",
      "metadata": {
        "id": "gnVoIdb2OQeC"
      },
      "source": [
        "# Задание 3\n",
        "\n",
        "С помощью натренированной модели (любой из предыдущих) постройте по 3 рекомендации для каждого клиента из тестовой выборки.\n",
        "\n",
        "Проанализируйте полученные результаты: сколько раз был порекомендован каждый фильм? Каково распределение этих частот? (постройте гистограму)"
      ]
    },
    {
      "cell_type": "code",
      "metadata": {
        "colab": {
          "base_uri": "https://localhost:8080/"
        },
        "id": "k6ghcCEGjw9r",
        "outputId": "7197a6d4-9304-499e-a47d-ee68db23c5bb"
      },
      "source": [
        "three_predict = []\n",
        "for user, item_1, val_1 in testset:\n",
        "  favor_film = []\n",
        "  for user, item, val in testset:\n",
        "    tmp = list(gs.predict(user, item))\n",
        "    answer = (val, tmp[1])\n",
        "    # print(answer)\n",
        "    favor_film.append(answer)\n",
        "  print(sorted(favor_film)[:3])\n",
        "  break\n",
        "    # three_predict.append()\n",
        "\n",
        "\n"
      ],
      "execution_count": 78,
      "outputs": [
        {
          "output_type": "stream",
          "name": "stdout",
          "text": [
            "[(1.0, '1'), (1.0, '1'), (1.0, '10')]\n"
          ]
        }
      ]
    },
    {
      "cell_type": "code",
      "metadata": {
        "id": "QZAbunv8OQeC"
      },
      "source": [
        "# Ваш код тут\n",
        "predictions = []\n",
        "for user, item, val in testset:\n",
        "  tmp = list(gs.predict(user, item))\n",
        "  tmp[2] = val\n",
        "  predictions.append(tmp)\n",
        "\n",
        "\n",
        "  \n",
        "result = pd.DataFrame(predictions, columns=['user_id', 'item_id', 'eval', 'predict_eval', 'details'])\n",
        "result.drop(columns = {'details'}, inplace = True)\n",
        "result['erro'] = abs(result['eval'] - result['predict_eval'])\n",
        "\n",
        "\n",
        "\n",
        "\n"
      ],
      "execution_count": null,
      "outputs": []
    },
    {
      "cell_type": "code",
      "metadata": {
        "colab": {
          "base_uri": "https://localhost:8080/",
          "height": 408
        },
        "id": "WNxVITtZJW3B",
        "outputId": "ec7f3323-9f73-47cd-8e1d-500f99ee0f55"
      },
      "source": [
        "result"
      ],
      "execution_count": 146,
      "outputs": [
        {
          "output_type": "execute_result",
          "data": {
            "text/html": [
              "<div>\n",
              "<style scoped>\n",
              "    .dataframe tbody tr th:only-of-type {\n",
              "        vertical-align: middle;\n",
              "    }\n",
              "\n",
              "    .dataframe tbody tr th {\n",
              "        vertical-align: top;\n",
              "    }\n",
              "\n",
              "    .dataframe thead th {\n",
              "        text-align: right;\n",
              "    }\n",
              "</style>\n",
              "<table border=\"1\" class=\"dataframe\">\n",
              "  <thead>\n",
              "    <tr style=\"text-align: right;\">\n",
              "      <th></th>\n",
              "      <th>user_id</th>\n",
              "      <th>item_id</th>\n",
              "      <th>eval</th>\n",
              "      <th>predict_eval</th>\n",
              "      <th>erro</th>\n",
              "    </tr>\n",
              "  </thead>\n",
              "  <tbody>\n",
              "    <tr>\n",
              "      <th>0</th>\n",
              "      <td>98</td>\n",
              "      <td>745</td>\n",
              "      <td>3.0</td>\n",
              "      <td>3.783858</td>\n",
              "      <td>0.783858</td>\n",
              "    </tr>\n",
              "    <tr>\n",
              "      <th>1</th>\n",
              "      <td>496</td>\n",
              "      <td>10</td>\n",
              "      <td>5.0</td>\n",
              "      <td>4.040904</td>\n",
              "      <td>0.959096</td>\n",
              "    </tr>\n",
              "    <tr>\n",
              "      <th>2</th>\n",
              "      <td>301</td>\n",
              "      <td>123</td>\n",
              "      <td>4.0</td>\n",
              "      <td>3.336214</td>\n",
              "      <td>0.663786</td>\n",
              "    </tr>\n",
              "    <tr>\n",
              "      <th>3</th>\n",
              "      <td>932</td>\n",
              "      <td>135</td>\n",
              "      <td>5.0</td>\n",
              "      <td>4.524362</td>\n",
              "      <td>0.475638</td>\n",
              "    </tr>\n",
              "    <tr>\n",
              "      <th>4</th>\n",
              "      <td>18</td>\n",
              "      <td>729</td>\n",
              "      <td>3.0</td>\n",
              "      <td>3.590114</td>\n",
              "      <td>0.590114</td>\n",
              "    </tr>\n",
              "    <tr>\n",
              "      <th>...</th>\n",
              "      <td>...</td>\n",
              "      <td>...</td>\n",
              "      <td>...</td>\n",
              "      <td>...</td>\n",
              "      <td>...</td>\n",
              "    </tr>\n",
              "    <tr>\n",
              "      <th>24995</th>\n",
              "      <td>883</td>\n",
              "      <td>873</td>\n",
              "      <td>3.0</td>\n",
              "      <td>2.910168</td>\n",
              "      <td>0.089832</td>\n",
              "    </tr>\n",
              "    <tr>\n",
              "      <th>24996</th>\n",
              "      <td>321</td>\n",
              "      <td>56</td>\n",
              "      <td>4.0</td>\n",
              "      <td>3.940097</td>\n",
              "      <td>0.059903</td>\n",
              "    </tr>\n",
              "    <tr>\n",
              "      <th>24997</th>\n",
              "      <td>497</td>\n",
              "      <td>177</td>\n",
              "      <td>4.0</td>\n",
              "      <td>3.873073</td>\n",
              "      <td>0.126927</td>\n",
              "    </tr>\n",
              "    <tr>\n",
              "      <th>24998</th>\n",
              "      <td>699</td>\n",
              "      <td>880</td>\n",
              "      <td>3.0</td>\n",
              "      <td>3.386576</td>\n",
              "      <td>0.386576</td>\n",
              "    </tr>\n",
              "    <tr>\n",
              "      <th>24999</th>\n",
              "      <td>655</td>\n",
              "      <td>865</td>\n",
              "      <td>4.0</td>\n",
              "      <td>3.532945</td>\n",
              "      <td>0.467055</td>\n",
              "    </tr>\n",
              "  </tbody>\n",
              "</table>\n",
              "<p>25000 rows × 5 columns</p>\n",
              "</div>"
            ],
            "text/plain": [
              "      user_id item_id  eval  predict_eval      erro\n",
              "0          98     745   3.0      3.783858  0.783858\n",
              "1         496      10   5.0      4.040904  0.959096\n",
              "2         301     123   4.0      3.336214  0.663786\n",
              "3         932     135   5.0      4.524362  0.475638\n",
              "4          18     729   3.0      3.590114  0.590114\n",
              "...       ...     ...   ...           ...       ...\n",
              "24995     883     873   3.0      2.910168  0.089832\n",
              "24996     321      56   4.0      3.940097  0.059903\n",
              "24997     497     177   4.0      3.873073  0.126927\n",
              "24998     699     880   3.0      3.386576  0.386576\n",
              "24999     655     865   4.0      3.532945  0.467055\n",
              "\n",
              "[25000 rows x 5 columns]"
            ]
          },
          "metadata": {},
          "execution_count": 146
        }
      ]
    },
    {
      "cell_type": "code",
      "metadata": {
        "colab": {
          "base_uri": "https://localhost:8080/",
          "height": 425
        },
        "id": "JT3lqrzRx8WE",
        "outputId": "f78b7e30-bdef-4b62-a0ff-e07de1e8f1ea"
      },
      "source": [
        "# 1 approach\n",
        "from tqdm import tqdm\n",
        "recomend_dict = {}\n",
        "for user in tqdm(list(result['user_id'])):\n",
        "  filt = result['user_id'] == user\n",
        "  tmp = result[filt].copy()\n",
        "  tmp.sort_values(by='predict_eval', inplace=True)\n",
        "  recomend_dict[user] = []\n",
        "  for i in range(3):\n",
        "    if i < len(tmp['item_id']):\n",
        "      recomend_dict[user].append(list(tmp['item_id'])[i])\n",
        "    else:\n",
        "      recomend_dict[user].append(None)\n",
        "  \n",
        "\n",
        "pd.DataFrame(recomend_dict).T\n"
      ],
      "execution_count": 170,
      "outputs": [
        {
          "output_type": "stream",
          "name": "stderr",
          "text": [
            "100%|██████████| 25000/25000 [01:24<00:00, 295.66it/s]\n"
          ]
        },
        {
          "output_type": "execute_result",
          "data": {
            "text/html": [
              "<div>\n",
              "<style scoped>\n",
              "    .dataframe tbody tr th:only-of-type {\n",
              "        vertical-align: middle;\n",
              "    }\n",
              "\n",
              "    .dataframe tbody tr th {\n",
              "        vertical-align: top;\n",
              "    }\n",
              "\n",
              "    .dataframe thead th {\n",
              "        text-align: right;\n",
              "    }\n",
              "</style>\n",
              "<table border=\"1\" class=\"dataframe\">\n",
              "  <thead>\n",
              "    <tr style=\"text-align: right;\">\n",
              "      <th></th>\n",
              "      <th>0</th>\n",
              "      <th>1</th>\n",
              "      <th>2</th>\n",
              "    </tr>\n",
              "  </thead>\n",
              "  <tbody>\n",
              "    <tr>\n",
              "      <th>98</th>\n",
              "      <td>988</td>\n",
              "      <td>168</td>\n",
              "      <td>502</td>\n",
              "    </tr>\n",
              "    <tr>\n",
              "      <th>496</th>\n",
              "      <td>743</td>\n",
              "      <td>1139</td>\n",
              "      <td>1157</td>\n",
              "    </tr>\n",
              "    <tr>\n",
              "      <th>301</th>\n",
              "      <td>1230</td>\n",
              "      <td>1052</td>\n",
              "      <td>1013</td>\n",
              "    </tr>\n",
              "    <tr>\n",
              "      <th>932</th>\n",
              "      <td>1139</td>\n",
              "      <td>541</td>\n",
              "      <td>560</td>\n",
              "    </tr>\n",
              "    <tr>\n",
              "      <th>18</th>\n",
              "      <td>476</td>\n",
              "      <td>94</td>\n",
              "      <td>716</td>\n",
              "    </tr>\n",
              "    <tr>\n",
              "      <th>...</th>\n",
              "      <td>...</td>\n",
              "      <td>...</td>\n",
              "      <td>...</td>\n",
              "    </tr>\n",
              "    <tr>\n",
              "      <th>888</th>\n",
              "      <td>644</td>\n",
              "      <td>None</td>\n",
              "      <td>None</td>\n",
              "    </tr>\n",
              "    <tr>\n",
              "      <th>651</th>\n",
              "      <td>690</td>\n",
              "      <td>327</td>\n",
              "      <td>None</td>\n",
              "    </tr>\n",
              "    <tr>\n",
              "      <th>228</th>\n",
              "      <td>327</td>\n",
              "      <td>650</td>\n",
              "      <td>204</td>\n",
              "    </tr>\n",
              "    <tr>\n",
              "      <th>706</th>\n",
              "      <td>25</td>\n",
              "      <td>258</td>\n",
              "      <td>181</td>\n",
              "    </tr>\n",
              "    <tr>\n",
              "      <th>762</th>\n",
              "      <td>934</td>\n",
              "      <td>None</td>\n",
              "      <td>None</td>\n",
              "    </tr>\n",
              "  </tbody>\n",
              "</table>\n",
              "<p>943 rows × 3 columns</p>\n",
              "</div>"
            ],
            "text/plain": [
              "        0     1     2\n",
              "98    988   168   502\n",
              "496   743  1139  1157\n",
              "301  1230  1052  1013\n",
              "932  1139   541   560\n",
              "18    476    94   716\n",
              "..    ...   ...   ...\n",
              "888   644  None  None\n",
              "651   690   327  None\n",
              "228   327   650   204\n",
              "706    25   258   181\n",
              "762   934  None  None\n",
              "\n",
              "[943 rows x 3 columns]"
            ]
          },
          "metadata": {},
          "execution_count": 170
        }
      ]
    },
    {
      "cell_type": "code",
      "metadata": {
        "colab": {
          "base_uri": "https://localhost:8080/"
        },
        "id": "UPis6FygKykN",
        "outputId": "3e86b175-814a-4940-f3af-cc18e7dd05ba"
      },
      "source": [
        "df_recomendation = pd.DataFrame(recomend_dict).T.rename(columns={0:'1_film',1:'2_film',2:'3_film'})\n",
        "films= []\n",
        "for col in df_recomendations.columns:\n",
        "  films.extend(df_recomendations[col])\n",
        "\n",
        "# top 10 films\n",
        "pd.Series(films).value_counts()[:10]"
      ],
      "execution_count": 167,
      "outputs": [
        {
          "output_type": "execute_result",
          "data": {
            "text/plain": [
              "112                   944\n",
              "110                   944\n",
              "34                    944\n",
              "2.430840551164029     943\n",
              "2.4128730805700864    943\n",
              "2.2523091512810964    943\n",
              "801                     1\n",
              "91                      1\n",
              "427                     1\n",
              "35                      1\n",
              "dtype: int64"
            ]
          },
          "metadata": {},
          "execution_count": 167
        }
      ]
    },
    {
      "cell_type": "code",
      "metadata": {
        "id": "xiajCbP1q7_N"
      },
      "source": [
        "# 2 approach\n",
        "def first_3(table):\n",
        "  table.sort_values(by=['predict_eval'], inplace=True)\n",
        "  res = {}\n",
        "  columns= []\n",
        "  for i in range(len(table)):\n",
        "    if i == 3:\n",
        "      break\n",
        "    res[f'item_id_{i}'] = list(table['item_id'])[i]\n",
        "    res[f'predict_eval_{i}'] = list(table['predict_eval'])[i]\n",
        "    columns.append(f'predict_eval_{i}')\n",
        "    columns.append(f'item_id_{i}')\n",
        "  return pd.Series(res, index=columns)\n",
        "  \n",
        "df_recomendations = result.groupby(['user_id']).apply(first_3).reset_index()\n"
      ],
      "execution_count": 168,
      "outputs": []
    },
    {
      "cell_type": "code",
      "metadata": {
        "colab": {
          "base_uri": "https://localhost:8080/",
          "height": 350
        },
        "id": "rxVvyPRo39El",
        "outputId": "fbbe0be1-df39-4e69-c5da-0731805833c5"
      },
      "source": [
        "import matplotlib.pyplot as plt\n",
        "\n",
        "\n",
        "def plot_pdf(values: np.ndarray, title: str):\n",
        "    \"\"\"Plots `values` distribution density\"\"\"\n",
        "    plt.figure(figsize=(10, 5))\n",
        "    plt.violinplot(values.flatten(), vert=False, showmedians=True)\n",
        "    plt.xlabel(\"Similarity\")\n",
        "    plt.grid()\n",
        "    plt.title(title)\n",
        "    plt.show()\n",
        "\n",
        "plot_pdf(np.array(films).astype(np.float), 'Movies destribution')"
      ],
      "execution_count": 173,
      "outputs": [
        {
          "output_type": "display_data",
          "data": {
            "image/png": "[encoded data removed]",
            "text/plain": [
              "<Figure size 720x360 with 1 Axes>"
            ]
          },
          "metadata": {
            "needs_background": "light"
          }
        }
      ]
    },
    {
      "cell_type": "markdown",
      "metadata": {
        "id": "IUEF2tDuOQeC"
      },
      "source": [
        "# Задание 4 * (Дополнительное)\n",
        "\n",
        "В оригинальных данных есть поле `timestamp` (см. момент загрузки данных).\n",
        "\n",
        "Используя оптимальный вариант модели (и её гиперпараметров), найденный выше, проведите кросс-валидацию в стиле временного ряда (см. [документацию sklearn](https://scikit-learn.org/stable/modules/cross_validation.html#time-series-split)). Достаточно использовать 5 частей. Иными словами, нужно раделить выборку на равные части, каждая из которых будет соответствовать последовательным временным промежуткам.\n",
        "\n",
        "![](https://scikit-learn.org/stable/_images/sphx_glr_plot_cv_indices_010.png)\n",
        "\n",
        "Нашли ли вы отличия с предыдущей валидацией?"
      ]
    },
    {
      "cell_type": "code",
      "metadata": {
        "id": "cCrHamo1OQeC"
      },
      "source": [
        "# Ваш код тут"
      ],
      "execution_count": null,
      "outputs": []
    }
  ]
}