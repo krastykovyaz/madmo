{
  "nbformat": 4,
  "nbformat_minor": 0,
  "metadata": {
    "accelerator": "GPU",
    "colab": {
      "name": "madmo_07_cnn_for_texts.ipynb",
      "provenance": []
    },
    "kernelspec": {
      "display_name": "Python [conda env:ml-mipt]",
      "language": "python",
      "name": "conda-env-ml-mipt-py"
    },
    "language_info": {
      "codemirror_mode": {
        "name": "ipython",
        "version": 3
      },
      "file_extension": ".py",
      "mimetype": "text/x-python",
      "name": "python",
      "nbconvert_exporter": "python",
      "pygments_lexer": "ipython3",
      "version": "3.8.5"
    },
    "toc": {
      "base_numbering": 1,
      "nav_menu": {},
      "number_sections": true,
      "sideBar": true,
      "skip_h1_title": false,
      "title_cell": "Table of Contents",
      "title_sidebar": "Contents",
      "toc_cell": false,
      "toc_position": {},
      "toc_section_display": true,
      "toc_window_display": true
    }
  },
  "cells": [
    {
      "cell_type": "markdown",
      "metadata": {
        "id": "13pL--6rycN3"
      },
      "source": [
        "## day 07: Dealing with texts using CNN\n",
        "\n",
        "Today we're gonna apply the newly learned tools for the task of predicting job salary.\n",
        "\n",
        "![](https://storage.googleapis.com/kaggle-competitions/kaggle/3342/media/salary%20prediction%20engine%20v2.png)"
      ]
    },
    {
      "cell_type": "code",
      "metadata": {
        "ExecuteTime": {
          "end_time": "2021-11-17T21:23:43.975162Z",
          "start_time": "2021-11-17T21:23:43.711013Z"
        },
        "id": "P8zS7m-gycN5"
      },
      "source": [
        "import matplotlib.pyplot as plt\n",
        "import numpy as np\n",
        "import pandas as pd"
      ],
      "execution_count": 1,
      "outputs": []
    },
    {
      "cell_type": "markdown",
      "metadata": {
        "id": "34x92vWQycN_"
      },
      "source": [
        "### About the challenge\n",
        "\n",
        "[Competition page](https://www.kaggle.com/c/job-salary-prediction/data) stays that we need to predict salary based on Title, Descriptiton and some categorical features.\n",
        "\n",
        "Let's download the data\\\n",
        "(you could do it manually [from here](https://gin.g-node.org/v-goncharenko/ml-mipt/src/master/data) or [here](https://yadi.sk/d/vVEOWPFY3NruT7) or [here](https://www.dropbox.com/s/5msc5ix7ndyba10/Train_rev1.csv.tar.gz) or from competition directly)."
      ]
    },
    {
      "cell_type": "code",
      "metadata": {
        "ExecuteTime": {
          "end_time": "2021-11-17T21:23:44.500542Z",
          "start_time": "2021-11-17T21:23:44.264758Z"
        },
        "colab": {
          "base_uri": "https://localhost:8080/"
        },
        "id": "vwN72gd4ycOA",
        "outputId": "d34bc5ca-52d4-4d25-ac4a-40117b99faeb"
      },
      "source": [
        "!wget -nc https://gin.g-node.org/v-goncharenko/ml-mipt/raw/476d7064d45ab80d98cdc4c42a4c4167b068c420/data/Train_rev1.csv.zip\n",
        "!unzip -u Train_rev1.csv.zip"
      ],
      "execution_count": 2,
      "outputs": [
        {
          "output_type": "stream",
          "name": "stdout",
          "text": [
            "--2021-11-20 19:47:34--  https://gin.g-node.org/v-goncharenko/ml-mipt/raw/476d7064d45ab80d98cdc4c42a4c4167b068c420/data/Train_rev1.csv.zip\n",
            "Resolving gin.g-node.org (gin.g-node.org)... 141.84.41.219\n",
            "Connecting to gin.g-node.org (gin.g-node.org)|141.84.41.219|:443... connected.\n",
            "HTTP request sent, awaiting response... 200 OK\n",
            "Length: 125331437 (120M) [application/zip]\n",
            "Saving to: ‘Train_rev1.csv.zip’\n",
            "\n",
            "Train_rev1.csv.zip  100%[===================>] 119.52M   507KB/s    in 4m 16s  \n",
            "\n",
            "2021-11-20 19:51:53 (479 KB/s) - ‘Train_rev1.csv.zip’ saved [125331437/125331437]\n",
            "\n",
            "Archive:  Train_rev1.csv.zip\n",
            "  inflating: Train_rev1.csv          \n"
          ]
        }
      ]
    },
    {
      "cell_type": "code",
      "metadata": {
        "ExecuteTime": {
          "end_time": "2021-11-17T21:23:47.911603Z",
          "start_time": "2021-11-17T21:23:45.117318Z"
        },
        "colab": {
          "base_uri": "https://localhost:8080/"
        },
        "id": "RJhucM8OLbie",
        "outputId": "154076b1-31db-4419-a33b-8f2564e3eb75"
      },
      "source": [
        "data = pd.read_csv(\"Train_rev1.csv\")\n",
        "data.shape"
      ],
      "execution_count": 3,
      "outputs": [
        {
          "output_type": "execute_result",
          "data": {
            "text/plain": [
              "(244768, 12)"
            ]
          },
          "metadata": {},
          "execution_count": 3
        }
      ]
    },
    {
      "cell_type": "code",
      "metadata": {
        "ExecuteTime": {
          "end_time": "2021-11-17T21:23:47.922562Z",
          "start_time": "2021-11-17T21:23:47.912606Z"
        },
        "colab": {
          "base_uri": "https://localhost:8080/",
          "height": 496
        },
        "id": "VywknUz5Lbie",
        "outputId": "050c8964-d5c6-470b-b76b-99ad30da82a2"
      },
      "source": [
        "data.head()"
      ],
      "execution_count": 4,
      "outputs": [
        {
          "output_type": "execute_result",
          "data": {
            "text/html": [
              "<div>\n",
              "<style scoped>\n",
              "    .dataframe tbody tr th:only-of-type {\n",
              "        vertical-align: middle;\n",
              "    }\n",
              "\n",
              "    .dataframe tbody tr th {\n",
              "        vertical-align: top;\n",
              "    }\n",
              "\n",
              "    .dataframe thead th {\n",
              "        text-align: right;\n",
              "    }\n",
              "</style>\n",
              "<table border=\"1\" class=\"dataframe\">\n",
              "  <thead>\n",
              "    <tr style=\"text-align: right;\">\n",
              "      <th></th>\n",
              "      <th>Id</th>\n",
              "      <th>Title</th>\n",
              "      <th>FullDescription</th>\n",
              "      <th>LocationRaw</th>\n",
              "      <th>LocationNormalized</th>\n",
              "      <th>ContractType</th>\n",
              "      <th>ContractTime</th>\n",
              "      <th>Company</th>\n",
              "      <th>Category</th>\n",
              "      <th>SalaryRaw</th>\n",
              "      <th>SalaryNormalized</th>\n",
              "      <th>SourceName</th>\n",
              "    </tr>\n",
              "  </thead>\n",
              "  <tbody>\n",
              "    <tr>\n",
              "      <th>0</th>\n",
              "      <td>12612628</td>\n",
              "      <td>Engineering Systems Analyst</td>\n",
              "      <td>Engineering Systems Analyst Dorking Surrey Sal...</td>\n",
              "      <td>Dorking, Surrey, Surrey</td>\n",
              "      <td>Dorking</td>\n",
              "      <td>NaN</td>\n",
              "      <td>permanent</td>\n",
              "      <td>Gregory Martin International</td>\n",
              "      <td>Engineering Jobs</td>\n",
              "      <td>20000 - 30000/annum 20-30K</td>\n",
              "      <td>25000</td>\n",
              "      <td>cv-library.co.uk</td>\n",
              "    </tr>\n",
              "    <tr>\n",
              "      <th>1</th>\n",
              "      <td>12612830</td>\n",
              "      <td>Stress Engineer Glasgow</td>\n",
              "      <td>Stress Engineer Glasgow Salary **** to **** We...</td>\n",
              "      <td>Glasgow, Scotland, Scotland</td>\n",
              "      <td>Glasgow</td>\n",
              "      <td>NaN</td>\n",
              "      <td>permanent</td>\n",
              "      <td>Gregory Martin International</td>\n",
              "      <td>Engineering Jobs</td>\n",
              "      <td>25000 - 35000/annum 25-35K</td>\n",
              "      <td>30000</td>\n",
              "      <td>cv-library.co.uk</td>\n",
              "    </tr>\n",
              "    <tr>\n",
              "      <th>2</th>\n",
              "      <td>12612844</td>\n",
              "      <td>Modelling and simulation analyst</td>\n",
              "      <td>Mathematical Modeller / Simulation Analyst / O...</td>\n",
              "      <td>Hampshire, South East, South East</td>\n",
              "      <td>Hampshire</td>\n",
              "      <td>NaN</td>\n",
              "      <td>permanent</td>\n",
              "      <td>Gregory Martin International</td>\n",
              "      <td>Engineering Jobs</td>\n",
              "      <td>20000 - 40000/annum 20-40K</td>\n",
              "      <td>30000</td>\n",
              "      <td>cv-library.co.uk</td>\n",
              "    </tr>\n",
              "    <tr>\n",
              "      <th>3</th>\n",
              "      <td>12613049</td>\n",
              "      <td>Engineering Systems Analyst / Mathematical Mod...</td>\n",
              "      <td>Engineering Systems Analyst / Mathematical Mod...</td>\n",
              "      <td>Surrey, South East, South East</td>\n",
              "      <td>Surrey</td>\n",
              "      <td>NaN</td>\n",
              "      <td>permanent</td>\n",
              "      <td>Gregory Martin International</td>\n",
              "      <td>Engineering Jobs</td>\n",
              "      <td>25000 - 30000/annum 25K-30K negotiable</td>\n",
              "      <td>27500</td>\n",
              "      <td>cv-library.co.uk</td>\n",
              "    </tr>\n",
              "    <tr>\n",
              "      <th>4</th>\n",
              "      <td>12613647</td>\n",
              "      <td>Pioneer, Miser Engineering Systems Analyst</td>\n",
              "      <td>Pioneer, Miser  Engineering Systems Analyst Do...</td>\n",
              "      <td>Surrey, South East, South East</td>\n",
              "      <td>Surrey</td>\n",
              "      <td>NaN</td>\n",
              "      <td>permanent</td>\n",
              "      <td>Gregory Martin International</td>\n",
              "      <td>Engineering Jobs</td>\n",
              "      <td>20000 - 30000/annum 20-30K</td>\n",
              "      <td>25000</td>\n",
              "      <td>cv-library.co.uk</td>\n",
              "    </tr>\n",
              "  </tbody>\n",
              "</table>\n",
              "</div>"
            ],
            "text/plain": [
              "         Id  ...        SourceName\n",
              "0  12612628  ...  cv-library.co.uk\n",
              "1  12612830  ...  cv-library.co.uk\n",
              "2  12612844  ...  cv-library.co.uk\n",
              "3  12613049  ...  cv-library.co.uk\n",
              "4  12613647  ...  cv-library.co.uk\n",
              "\n",
              "[5 rows x 12 columns]"
            ]
          },
          "metadata": {},
          "execution_count": 4
        }
      ]
    },
    {
      "cell_type": "markdown",
      "metadata": {
        "id": "z7kznuJfycOH"
      },
      "source": [
        "One problem with salary prediction is that it's oddly distributed: there are many people who are paid standard salaries and a few that get tons o money. The distribution is fat-tailed on the right side, which is inconvenient for MSE minimization.\n",
        "\n",
        "There are several techniques to combat this: using a different loss function, predicting log-target instead of raw target or even replacing targets with their percentiles among all salaries in the training set. We gonna use logarithm for now.\n",
        "\n",
        "_You can read more [in the official description](https://www.kaggle.com/c/job-salary-prediction#description)._"
      ]
    },
    {
      "cell_type": "code",
      "metadata": {
        "ExecuteTime": {
          "end_time": "2021-11-17T21:23:48.148592Z",
          "start_time": "2021-11-17T21:23:47.923673Z"
        },
        "colab": {
          "base_uri": "https://localhost:8080/",
          "height": 585
        },
        "id": "UuuKIKfrycOH",
        "outputId": "d4313dbc-5b25-4151-d508-6d7544d66a3b"
      },
      "source": [
        "data[\"Log1pSalary\"] = np.log1p(data[\"SalaryNormalized\"])\n",
        "\n",
        "fig, axes = plt.subplots(1, 2, sharey=True, figsize=(15, 8), tight_layout=True)\n",
        "\n",
        "axes[0].hist(data[\"SalaryNormalized\"], bins=20)\n",
        "axes[0].set_title(\"Original salary\")\n",
        "axes[0].grid()\n",
        "\n",
        "axes[1].hist(data[\"Log1pSalary\"], bins=20)\n",
        "axes[1].set_title(\"Logarithmed salary\")\n",
        "axes[1].grid()\n",
        "\n",
        "plt.show()\n",
        "# видим, что данные имют ненормальное распределение. Данные > 0\n",
        "# можно поделить на вариацию и уменьшить на дисперсию"
      ],
      "execution_count": 5,
      "outputs": [
        {
          "output_type": "display_data",
          "data": {
            "image/png": "[encoded data removed]",
            "text/plain": [
              "<Figure size 1080x576 with 2 Axes>"
            ]
          },
          "metadata": {
            "needs_background": "light"
          }
        }
      ]
    },
    {
      "cell_type": "markdown",
      "metadata": {
        "id": "Fcu-qmHRycOK"
      },
      "source": [
        "Our task is to predict one number, __Log1pSalary__.\n",
        "\n",
        "To do so, our model can access a number of features:\n",
        "* Free text: __`Title`__ and  __`FullDescription`__\n",
        "* Categorical: __`Category`__, __`Company`__, __`LocationNormalized`__, __`ContractType`__, and __`ContractTime`__."
      ]
    },
    {
      "cell_type": "code",
      "metadata": {
        "ExecuteTime": {
          "end_time": "2021-11-17T21:23:48.208931Z",
          "start_time": "2021-11-17T21:23:48.149644Z"
        },
        "colab": {
          "base_uri": "https://localhost:8080/",
          "height": 315
        },
        "id": "p9vyA_erycOK",
        "outputId": "2943c1e5-8db1-49cc-a01c-01d50cbdcc7d"
      },
      "source": [
        "text_columns = [\"Title\", \"FullDescription\"]\n",
        "categorical_columns = [\"Category\", \"Company\", \"LocationNormalized\", \"ContractType\", \"ContractTime\"]\n",
        "target_column = \"Log1pSalary\"\n",
        "\n",
        "# cast missing values to string \"Unknown\"\n",
        "data[categorical_columns] = data[categorical_columns].fillna(\"Unknown\")\n",
        "\n",
        "data.sample(3)"
      ],
      "execution_count": 6,
      "outputs": [
        {
          "output_type": "execute_result",
          "data": {
            "text/html": [
              "<div>\n",
              "<style scoped>\n",
              "    .dataframe tbody tr th:only-of-type {\n",
              "        vertical-align: middle;\n",
              "    }\n",
              "\n",
              "    .dataframe tbody tr th {\n",
              "        vertical-align: top;\n",
              "    }\n",
              "\n",
              "    .dataframe thead th {\n",
              "        text-align: right;\n",
              "    }\n",
              "</style>\n",
              "<table border=\"1\" class=\"dataframe\">\n",
              "  <thead>\n",
              "    <tr style=\"text-align: right;\">\n",
              "      <th></th>\n",
              "      <th>Id</th>\n",
              "      <th>Title</th>\n",
              "      <th>FullDescription</th>\n",
              "      <th>LocationRaw</th>\n",
              "      <th>LocationNormalized</th>\n",
              "      <th>ContractType</th>\n",
              "      <th>ContractTime</th>\n",
              "      <th>Company</th>\n",
              "      <th>Category</th>\n",
              "      <th>SalaryRaw</th>\n",
              "      <th>SalaryNormalized</th>\n",
              "      <th>SourceName</th>\n",
              "      <th>Log1pSalary</th>\n",
              "    </tr>\n",
              "  </thead>\n",
              "  <tbody>\n",
              "    <tr>\n",
              "      <th>140684</th>\n",
              "      <td>70577642</td>\n",
              "      <td>BMS Biochemistry</td>\n",
              "      <td>Our Client is looking for a BMS for a busy Bio...</td>\n",
              "      <td>West Midlands</td>\n",
              "      <td>West Midlands</td>\n",
              "      <td>Unknown</td>\n",
              "      <td>contract</td>\n",
              "      <td>Atlantis Medical</td>\n",
              "      <td>Healthcare &amp; Nursing Jobs</td>\n",
              "      <td>23 - 25/hour</td>\n",
              "      <td>46080</td>\n",
              "      <td>cv-library.co.uk</td>\n",
              "      <td>10.738156</td>\n",
              "    </tr>\n",
              "    <tr>\n",
              "      <th>217107</th>\n",
              "      <td>72249589</td>\n",
              "      <td>WEBSITE DESIGN PROGRAMMING  PART FINISHED PROJ...</td>\n",
              "      <td>CASTING STAR is a social networking portal for...</td>\n",
              "      <td>UK</td>\n",
              "      <td>UK</td>\n",
              "      <td>Unknown</td>\n",
              "      <td>Unknown</td>\n",
              "      <td>Unknown</td>\n",
              "      <td>Part time Jobs</td>\n",
              "      <td>$5,000 - $10,000</td>\n",
              "      <td>7500</td>\n",
              "      <td>Elance</td>\n",
              "      <td>8.922792</td>\n",
              "    </tr>\n",
              "    <tr>\n",
              "      <th>30089</th>\n",
              "      <td>68061488</td>\n",
              "      <td>Innovation Coordinator</td>\n",
              "      <td>This is an exciting opportunity for a highly o...</td>\n",
              "      <td>Reading, Berkshire</td>\n",
              "      <td>Reading</td>\n",
              "      <td>Unknown</td>\n",
              "      <td>permanent</td>\n",
              "      <td>The Guide Dogs for the Blind Association</td>\n",
              "      <td>Charity &amp; Voluntary Jobs</td>\n",
              "      <td>19,538 to 20,688 per annum</td>\n",
              "      <td>20113</td>\n",
              "      <td>charityjob.co.uk</td>\n",
              "      <td>9.909171</td>\n",
              "    </tr>\n",
              "  </tbody>\n",
              "</table>\n",
              "</div>"
            ],
            "text/plain": [
              "              Id  ... Log1pSalary\n",
              "140684  70577642  ...   10.738156\n",
              "217107  72249589  ...    8.922792\n",
              "30089   68061488  ...    9.909171\n",
              "\n",
              "[3 rows x 13 columns]"
            ]
          },
          "metadata": {},
          "execution_count": 6
        }
      ]
    },
    {
      "cell_type": "markdown",
      "metadata": {
        "id": "IUdclucmycON"
      },
      "source": [
        "### Preprocessing text data\n",
        "\n",
        "Just like last week, applying NLP to a problem begins from tokenization: splitting raw text into sequences of tokens (words, punctuation, etc).\n",
        "\n",
        "__Your task__ is to lowercase and tokenize all texts under `Title` and `FullDescription` columns. Store the tokenized data as a __space-separated__ string of tokens for performance reasons.\n",
        "\n",
        "It's okay to use nltk tokenizers. Assertions were designed for WordPunctTokenizer, slight deviations are okay."
      ]
    },
    {
      "cell_type": "code",
      "metadata": {
        "ExecuteTime": {
          "end_time": "2021-11-17T21:23:48.213007Z",
          "start_time": "2021-11-17T21:23:48.209869Z"
        },
        "colab": {
          "base_uri": "https://localhost:8080/"
        },
        "id": "YzeOxD_aycOO",
        "outputId": "1e57387d-5b4d-477e-b68e-7445a719df3f"
      },
      "source": [
        "# Raw data\n",
        "data[\"FullDescription\"][2::100000]"
      ],
      "execution_count": 7,
      "outputs": [
        {
          "output_type": "execute_result",
          "data": {
            "text/plain": [
              "2         Mathematical Modeller / Simulation Analyst / O...\n",
              "100002    A successful and high achieving specialist sch...\n",
              "200002    Web Designer  HTML, CSS, JavaScript, Photoshop...\n",
              "Name: FullDescription, dtype: object"
            ]
          },
          "metadata": {},
          "execution_count": 7
        }
      ]
    },
    {
      "cell_type": "code",
      "metadata": {
        "ExecuteTime": {
          "end_time": "2021-11-17T21:24:02.769224Z",
          "start_time": "2021-11-17T21:23:48.213733Z"
        },
        "id": "RUWkpd7PycOQ"
      },
      "source": [
        "import nltk\n",
        "\n",
        "\n",
        "tokenizer = nltk.tokenize.WordPunctTokenizer()\n",
        "\n",
        "\n",
        "def normalize(text):\n",
        "    text = str(text).lower()\n",
        "    tokens = tokenizer.tokenize(text)\n",
        "    return \" \".join(tokens)\n",
        "\n",
        "\n",
        "data[text_columns] = data[text_columns].applymap(normalize)"
      ],
      "execution_count": 8,
      "outputs": []
    },
    {
      "cell_type": "markdown",
      "metadata": {
        "id": "o3pQdHihycOT"
      },
      "source": [
        "Now we can assume that our text is a space-separated list of tokens:"
      ]
    },
    {
      "cell_type": "code",
      "metadata": {
        "ExecuteTime": {
          "end_time": "2021-11-17T21:24:02.776056Z",
          "start_time": "2021-11-17T21:24:02.773414Z"
        },
        "colab": {
          "base_uri": "https://localhost:8080/"
        },
        "id": "Gs-6lnS_ycOU",
        "outputId": "e2ec2372-db82-4778-f387-c18cc7eac23a"
      },
      "source": [
        "# Tokenized data\n",
        "print(data[\"FullDescription\"][2::100000])"
      ],
      "execution_count": 9,
      "outputs": [
        {
          "output_type": "stream",
          "name": "stdout",
          "text": [
            "2         mathematical modeller / simulation analyst / o...\n",
            "100002    a successful and high achieving specialist sch...\n",
            "200002    web designer html , css , javascript , photosh...\n",
            "Name: FullDescription, dtype: object\n"
          ]
        }
      ]
    },
    {
      "cell_type": "markdown",
      "metadata": {
        "id": "ouE3L2hyycOX"
      },
      "source": [
        "Not all words are equally useful. Some of them are typos or rare words that are only present a few times. \n",
        "\n",
        "Let's count how many times is each word present in the data so that we can build a \"white list\" of known words."
      ]
    },
    {
      "cell_type": "code",
      "metadata": {
        "ExecuteTime": {
          "end_time": "2021-11-17T21:24:02.784077Z",
          "start_time": "2021-11-17T21:24:02.777028Z"
        },
        "id": "gyBHRz_zLbii"
      },
      "source": [
        "from collections import Counter"
      ],
      "execution_count": 10,
      "outputs": []
    },
    {
      "cell_type": "code",
      "metadata": {
        "ExecuteTime": {
          "end_time": "2021-11-17T08:25:05.899206Z",
          "start_time": "2021-11-17T08:25:05.893736Z"
        },
        "colab": {
          "base_uri": "https://localhost:8080/",
          "height": 130
        },
        "id": "iC7hBwwjycOX",
        "outputId": "8c751f5a-59b2-4392-9c3b-d2d7cc458f5a"
      },
      "source": [
        "Count how many times does each token occur in both \"Title\" and \"FullDescription\" in total\\\n",
        "build a dictionary { token -> it's count }"
      ],
      "execution_count": 11,
      "outputs": [
        {
          "output_type": "error",
          "ename": "SyntaxError",
          "evalue": "ignored",
          "traceback": [
            "\u001b[0;36m  File \u001b[0;32m\"<ipython-input-11-6776d2e8a87a>\"\u001b[0;36m, line \u001b[0;32m1\u001b[0m\n\u001b[0;31m    Count how many times does each token occur in both \"Title\" and \"FullDescription\" in totalbuild a dictionary { token -> it's count }\u001b[0m\n\u001b[0m            ^\u001b[0m\n\u001b[0;31mSyntaxError\u001b[0m\u001b[0;31m:\u001b[0m invalid syntax\n"
          ]
        }
      ]
    },
    {
      "cell_type": "code",
      "metadata": {
        "ExecuteTime": {
          "end_time": "2021-11-17T21:24:25.491884Z",
          "start_time": "2021-11-17T21:24:02.785049Z"
        },
        "colab": {
          "base_uri": "https://localhost:8080/"
        },
        "id": "nWialL60Lbii",
        "outputId": "559d0568-0741-4bf0-c2c0-52105bb3c8f4"
      },
      "source": [
        "%%time\n",
        "token_counts = Counter()\n",
        "\n",
        "for _, row in data[text_columns].iterrows():\n",
        "    for text in row:\n",
        "        token_counts.update(text.split(\" \"))"
      ],
      "execution_count": 12,
      "outputs": [
        {
          "output_type": "stream",
          "name": "stdout",
          "text": [
            "CPU times: user 47.6 s, sys: 174 ms, total: 47.8 s\n",
            "Wall time: 47.8 s\n"
          ]
        }
      ]
    },
    {
      "cell_type": "code",
      "metadata": {
        "ExecuteTime": {
          "end_time": "2021-11-17T21:24:33.178109Z",
          "start_time": "2021-11-17T21:24:25.492880Z"
        },
        "colab": {
          "base_uri": "https://localhost:8080/"
        },
        "id": "zhb0OEEnLbij",
        "outputId": "2c9add16-4a94-4f56-8e7b-1c5c5cf23b45"
      },
      "source": [
        "%%time\n",
        "token_counts2 = Counter()\n",
        "\n",
        "for row in data[text_columns].values.flatten():\n",
        "    token_counts2.update(row.split())"
      ],
      "execution_count": 13,
      "outputs": [
        {
          "output_type": "stream",
          "name": "stdout",
          "text": [
            "CPU times: user 15.7 s, sys: 85.6 ms, total: 15.8 s\n",
            "Wall time: 15.8 s\n"
          ]
        }
      ]
    },
    {
      "cell_type": "code",
      "metadata": {
        "ExecuteTime": {
          "end_time": "2021-11-17T21:24:33.193376Z",
          "start_time": "2021-11-17T21:24:33.179018Z"
        },
        "colab": {
          "base_uri": "https://localhost:8080/"
        },
        "id": "qQTzMyVVLbij",
        "outputId": "04e837cb-f18e-41cd-947e-e73cc8c7abdf"
      },
      "source": [
        "token_counts == token_counts2"
      ],
      "execution_count": 14,
      "outputs": [
        {
          "output_type": "execute_result",
          "data": {
            "text/plain": [
              "True"
            ]
          },
          "metadata": {},
          "execution_count": 14
        }
      ]
    },
    {
      "cell_type": "markdown",
      "metadata": {
        "id": "0kylAyrcLbij"
      },
      "source": [
        "**Note:** `pandas` is extra slow compared to numpy (23 vs 8 seconds) - use with caution"
      ]
    },
    {
      "cell_type": "code",
      "metadata": {
        "ExecuteTime": {
          "end_time": "2021-11-17T21:24:33.288137Z",
          "start_time": "2021-11-17T21:24:33.194339Z"
        },
        "colab": {
          "base_uri": "https://localhost:8080/"
        },
        "id": "GiOWbc15ycOb",
        "outputId": "51f2ed31-ef96-44e3-cd93-1398fd7e487d"
      },
      "source": [
        "print(\"Total unique tokens :\", len(token_counts))\n",
        "print(\"\\n\".join(map(str, token_counts.most_common(n=5))))\n",
        "print(\"...\")\n",
        "print(\"\\n\".join(map(str, token_counts.most_common()[-3:])))"
      ],
      "execution_count": 15,
      "outputs": [
        {
          "output_type": "stream",
          "name": "stdout",
          "text": [
            "Total unique tokens : 202704\n",
            "('and', 2657388)\n",
            "('.', 2523216)\n",
            "(',', 2318606)\n",
            "('the', 2080994)\n",
            "('to', 2019884)\n",
            "...\n",
            "('stephanietraveltraderecruitmnt', 1)\n",
            "('ruabon', 1)\n",
            "('lowehays', 1)\n"
          ]
        }
      ]
    },
    {
      "cell_type": "code",
      "metadata": {
        "ExecuteTime": {
          "end_time": "2021-11-17T21:24:34.873232Z",
          "start_time": "2021-11-17T21:24:33.289047Z"
        },
        "colab": {
          "base_uri": "https://localhost:8080/",
          "height": 458
        },
        "id": "utEz7jpOLbik",
        "outputId": "db91f37b-5db3-41be-c0fc-b87884a2d236"
      },
      "source": [
        "print(\"We plot only first less frequent 10000!!! (which is much less than all words count ~ 200k)\")\n",
        "\n",
        "token_counts_list = list(token_counts.values())\n",
        "\n",
        "fig, axes = plt.subplots(1, 2, figsize=(15, 6), tight_layout=True)\n",
        "\n",
        "axes[0].hist(token_counts_list, range=[0, 10 ** 4], bins=50)\n",
        "axes[0].set_title(\"Usage frequency\")\n",
        "axes[0].set_xlabel(\"Word counts\")\n",
        "axes[0].grid()\n",
        "\n",
        "axes[1].hist(token_counts_list, range=[0, 10 ** 4], bins=50, log=True)\n",
        "axes[1].set_title(\"Logarithmed Usage frequency\")\n",
        "axes[0].set_xlabel(\"Word counts\")\n",
        "axes[1].grid()\n",
        "\n",
        "plt.show()"
      ],
      "execution_count": 16,
      "outputs": [
        {
          "output_type": "stream",
          "name": "stdout",
          "text": [
            "We plot only first less frequent 10000!!! (which is much less than all words count ~ 200k)\n"
          ]
        },
        {
          "output_type": "display_data",
          "data": {
            "image/png": "[encoded data removed]",
            "text/plain": [
              "<Figure size 1080x432 with 2 Axes>"
            ]
          },
          "metadata": {
            "needs_background": "light"
          }
        }
      ]
    },
    {
      "cell_type": "markdown",
      "metadata": {
        "id": "znuXxeghycOh"
      },
      "source": [
        "Now filter tokens a list of all tokens that occur at least 10 times."
      ]
    },
    {
      "cell_type": "code",
      "metadata": {
        "ExecuteTime": {
          "end_time": "2021-11-17T21:24:34.885862Z",
          "start_time": "2021-11-17T21:24:34.874338Z"
        },
        "id": "SeNFBWx5ycOh"
      },
      "source": [
        "min_count = 10\n",
        "\n",
        "# tokens from token_counts keys that had at least min_count occurrences throughout the dataset\n",
        "tokens = [token for token, counts in token_counts.items() if counts >= min_count]"
      ],
      "execution_count": 17,
      "outputs": []
    },
    {
      "cell_type": "code",
      "metadata": {
        "ExecuteTime": {
          "end_time": "2021-11-17T21:24:34.901531Z",
          "start_time": "2021-11-17T21:24:34.887562Z"
        },
        "colab": {
          "base_uri": "https://localhost:8080/"
        },
        "id": "RATIRyPKycOk",
        "outputId": "e39d8938-d075-44e2-9907-01e73538ff6b"
      },
      "source": [
        "# Add a special tokens for unknown and empty words\n",
        "UNK, PAD = \"UNK\", \"PAD\"\n",
        "tokens = [UNK, PAD] + sorted(tokens)\n",
        "print(\"Vocabulary size:\", len(tokens))"
      ],
      "execution_count": 18,
      "outputs": [
        {
          "output_type": "stream",
          "name": "stdout",
          "text": [
            "Vocabulary size: 34158\n"
          ]
        }
      ]
    },
    {
      "cell_type": "markdown",
      "metadata": {
        "id": "cqEsgbjZycOo"
      },
      "source": [
        "Build an inverse token index: a dictionary from token(string) to it's index in `tokens` (int)"
      ]
    },
    {
      "cell_type": "code",
      "metadata": {
        "ExecuteTime": {
          "end_time": "2021-11-17T21:24:34.909141Z",
          "start_time": "2021-11-17T21:24:34.902604Z"
        },
        "id": "L60lo1l_ycOq"
      },
      "source": [
        "token_to_id = {token: idx for idx, token in enumerate(tokens)}"
      ],
      "execution_count": 19,
      "outputs": []
    },
    {
      "cell_type": "markdown",
      "metadata": {
        "id": "cmJAkq3gycOv"
      },
      "source": [
        "And finally, let's use the vocabulary you've built to map text lines into neural network-digestible matrices."
      ]
    },
    {
      "cell_type": "code",
      "metadata": {
        "ExecuteTime": {
          "end_time": "2021-11-17T21:24:34.912890Z",
          "start_time": "2021-11-17T21:24:34.909930Z"
        },
        "id": "YMSn5oLNLbil"
      },
      "source": [
        "from typing import Optional"
      ],
      "execution_count": 20,
      "outputs": []
    },
    {
      "cell_type": "code",
      "metadata": {
        "ExecuteTime": {
          "end_time": "2021-11-17T21:24:34.916981Z",
          "start_time": "2021-11-17T21:24:34.913666Z"
        },
        "id": "JEsLeBjVycOw"
      },
      "source": [
        "UNK_IX, PAD_IX = token_to_id[UNK], token_to_id[PAD]\n",
        "\n",
        "\n",
        "def as_matrix(sequences, max_len: Optional[int] = None):\n",
        "    \"\"\"Convert a list of tokens into a matrix with padding\"\"\"\n",
        "    if isinstance(sequences[0], str):\n",
        "        sequences = list(map(str.split, sequences))\n",
        "\n",
        "    if max_len is None:\n",
        "        max_len = max(map(len, sequences))\n",
        "\n",
        "    matrix = np.full((len(sequences), max_len), np.int32(PAD_IX))\n",
        "\n",
        "    for i, seq in enumerate(sequences):\n",
        "        row_ix = [token_to_id.get(word, UNK_IX) for word in seq[:max_len]]\n",
        "        matrix[i, : len(row_ix)] = row_ix\n",
        "\n",
        "    return matrix"
      ],
      "execution_count": 21,
      "outputs": []
    },
    {
      "cell_type": "code",
      "metadata": {
        "ExecuteTime": {
          "end_time": "2021-11-17T21:24:34.922729Z",
          "start_time": "2021-11-17T21:24:34.917706Z"
        },
        "id": "JiBlPkdKycOy"
      },
      "source": [
        "print(\"Lines:\")\n",
        "print(\"\\n\".join(data[\"Title\"][::100000].values), end=\"\\n\\n\")\n",
        "\n",
        "print(\"Matrix:\")\n",
        "print(as_matrix(data[\"Title\"][::100000]))"
      ],
      "execution_count": null,
      "outputs": []
    },
    {
      "cell_type": "markdown",
      "metadata": {
        "id": "nGOdZ3-dycO4"
      },
      "source": [
        "Now let's  encode the categirical data we have.\n",
        "\n",
        "As usual, we shall use one-hot encoding for simplicity. Kudos if you implement more advanced encodings: tf-idf, pseudo-time-series, etc."
      ]
    },
    {
      "cell_type": "code",
      "metadata": {
        "ExecuteTime": {
          "end_time": "2021-11-17T21:24:38.888101Z",
          "start_time": "2021-11-17T21:24:34.923651Z"
        },
        "colab": {
          "base_uri": "https://localhost:8080/"
        },
        "id": "DpOlBp7ZycO6",
        "outputId": "5bd16312-7da2-4425-a0f7-c5032cc363d9"
      },
      "source": [
        "from sklearn.feature_extraction import DictVectorizer\n",
        "\n",
        "\n",
        "# we only consider top-1k most frequent companies to minimize memory usage\n",
        "top_companies, top_counts = zip(*Counter(data[\"Company\"]).most_common(1000))\n",
        "recognized_companies = set(top_companies)\n",
        "data[\"Company\"] = data[\"Company\"].apply(\n",
        "    lambda comp: comp if comp in recognized_companies else \"Other\"\n",
        ")\n",
        "\n",
        "categorical_vectorizer = DictVectorizer(dtype=np.float32, sparse=False)\n",
        "categorical_vectorizer.fit(data[categorical_columns].apply(dict, axis=1))"
      ],
      "execution_count": 22,
      "outputs": [
        {
          "output_type": "execute_result",
          "data": {
            "text/plain": [
              "DictVectorizer(dtype=<class 'numpy.float32'>, sparse=False)"
            ]
          },
          "metadata": {},
          "execution_count": 22
        }
      ]
    },
    {
      "cell_type": "markdown",
      "metadata": {
        "id": "yk4jmtAYycO8"
      },
      "source": [
        "### The deep learning part\n",
        "\n",
        "Once we've learned to tokenize the data, let's design a machine learning experiment.\n",
        "\n",
        "As before, we won't focus too much on validation, opting for a simple train-test split.\n",
        "\n",
        "__To be completely rigorous,__ we've comitted a small crime here: we used the whole data for tokenization and vocabulary building. A more strict way would be to do that part on training set only. You may want to do that and measure the magnitude of changes."
      ]
    },
    {
      "cell_type": "code",
      "metadata": {
        "ExecuteTime": {
          "end_time": "2021-11-17T21:24:38.949648Z",
          "start_time": "2021-11-17T21:24:38.889010Z"
        },
        "colab": {
          "base_uri": "https://localhost:8080/"
        },
        "id": "TngLcWA0ycO_",
        "outputId": "8489324a-fb66-4931-c150-aee439373325"
      },
      "source": [
        "from sklearn.model_selection import train_test_split\n",
        "\n",
        "\n",
        "data_train, data_val = train_test_split(data, test_size=0.2, random_state=42)\n",
        "data_train.index = range(len(data_train))\n",
        "data_val.index = range(len(data_val))\n",
        "\n",
        "print(\"Train size = \", len(data_train))\n",
        "print(\"Validation size = \", len(data_val))"
      ],
      "execution_count": 23,
      "outputs": [
        {
          "output_type": "stream",
          "name": "stdout",
          "text": [
            "Train size =  195814\n",
            "Validation size =  48954\n"
          ]
        }
      ]
    },
    {
      "cell_type": "code",
      "metadata": {
        "ExecuteTime": {
          "end_time": "2021-11-17T21:24:38.954194Z",
          "start_time": "2021-11-17T21:24:38.950697Z"
        },
        "id": "2PXuKgOSycPB"
      },
      "source": [
        "# закрытие части данных и предсказание\n",
        "# плохо работает когда мало данных и когда много данных\n",
        "def apply_word_dropout(matrix, keep_prop, replace_with=UNK_IX, pad_ix=PAD_IX):\n",
        "    dropout_mask = np.random.choice(2, np.shape(matrix), p=[keep_prop, 1 - keep_prop])\n",
        "    dropout_mask &= matrix != pad_ix\n",
        "    return np.choose(dropout_mask, [matrix, np.full_like(matrix, replace_with)])\n",
        "\n",
        "\n",
        "def make_batch(data, max_len: Optional[int] = None, word_dropout: float = 0.0):\n",
        "    \"\"\"\n",
        "    Creates a keras-friendly dict from the batch data.\n",
        "    :param word_dropout: replaces token index with UNK_IX with this probability\n",
        "    :returns: a dict with {'title' : int64[batch, title_max_len]\n",
        "    \"\"\"\n",
        "    batch = {}\n",
        "    batch[\"Title\"] = as_matrix(data[\"Title\"].values, max_len)\n",
        "    batch[\"FullDescription\"] = as_matrix(data[\"FullDescription\"].values, max_len)\n",
        "    batch[\"Categorical\"] = categorical_vectorizer.transform(\n",
        "        data[categorical_columns].apply(dict, axis=1)\n",
        "    )\n",
        "\n",
        "    if word_dropout != 0:\n",
        "        batch[\"FullDescription\"] = apply_word_dropout(batch[\"FullDescription\"], 1.0 - word_dropout)\n",
        "\n",
        "    if target_column in data.columns:\n",
        "        batch[target_column] = data[target_column].values\n",
        "\n",
        "    return batch"
      ],
      "execution_count": 24,
      "outputs": []
    },
    {
      "cell_type": "code",
      "metadata": {
        "ExecuteTime": {
          "end_time": "2021-11-17T21:24:38.962060Z",
          "start_time": "2021-11-17T21:24:38.955187Z"
        },
        "colab": {
          "base_uri": "https://localhost:8080/"
        },
        "id": "I6LpEQf0ycPD",
        "outputId": "323d3eb3-a54f-45c8-e6c2-29eb44417543"
      },
      "source": [
        "batch = make_batch(data_train[:3], max_len=10)\n",
        "batch"
      ],
      "execution_count": 25,
      "outputs": [
        {
          "output_type": "execute_result",
          "data": {
            "text/plain": [
              "{'Categorical': array([[0., 0., 0., ..., 0., 0., 0.],\n",
              "        [0., 0., 0., ..., 0., 0., 0.],\n",
              "        [0., 0., 0., ..., 0., 0., 0.]], dtype=float32),\n",
              " 'FullDescription': array([[27645, 29893, 33674, 32939,   982, 27645, 29893, 33674, 16451,\n",
              "         32939],\n",
              "        [29239,   197, 19175, 20042, 15554, 23162,  4051, 25511,   907,\n",
              "            82],\n",
              "        [30746, 21956, 20601,  6409, 16451,  8165, 27493,   982, 30412,\n",
              "         17746]], dtype=int32),\n",
              " 'Log1pSalary': array([ 9.71153981, 10.46313191, 10.71443999]),\n",
              " 'Title': array([[27645, 29893, 33674,     1,     1,     1,     1,     1,     1,\n",
              "             1],\n",
              "        [29239,   197, 19175, 20042, 15554, 23162,  4051,     1,     1,\n",
              "             1],\n",
              "        [10609, 30412, 17746,    33,  8705, 29157,    65,     1,     1,\n",
              "             1]], dtype=int32)}"
            ]
          },
          "metadata": {},
          "execution_count": 25
        }
      ]
    },
    {
      "cell_type": "markdown",
      "metadata": {
        "id": "0eI5h9UMycPF"
      },
      "source": [
        "#### Architecture\n",
        "\n",
        "Our main model consists of three branches:\n",
        "* Title encoder\n",
        "* Description encoder\n",
        "* Categorical features encoder\n",
        "\n",
        "We will then feed all 3 branches into one common network that predicts salary.\n",
        "\n",
        "<img src=\"https://github.com/yandexdataschool/nlp_course/raw/master/resources/w2_conv_arch.png\" width=600px>\n",
        "\n",
        "This clearly doesn't fit into PyTorch __Sequential__ interface. To build such a network, one will have to use [__PyTorch nn.Module API__](https://pytorch.org/docs/stable/nn.html#torch.nn.Module)."
      ]
    },
    {
      "cell_type": "markdown",
      "metadata": {
        "id": "Vbqy0WMgLbin"
      },
      "source": [
        "But to start with let's build the simple model using only the part of the data. Let's create the baseline solution using only the description part (so it should definetely fit into the Sequential model)."
      ]
    },
    {
      "cell_type": "code",
      "metadata": {
        "ExecuteTime": {
          "end_time": "2021-11-17T21:24:43.368803Z",
          "start_time": "2021-11-17T21:24:43.018182Z"
        },
        "id": "hljlkHdkLbin"
      },
      "source": [
        "import torch\n",
        "from torch import nn"
      ],
      "execution_count": 26,
      "outputs": []
    },
    {
      "cell_type": "code",
      "metadata": {
        "ExecuteTime": {
          "end_time": "2021-11-17T21:27:23.786481Z",
          "start_time": "2021-11-17T21:27:23.736661Z"
        },
        "colab": {
          "base_uri": "https://localhost:8080/"
        },
        "id": "U_qiLHG_Lbin",
        "outputId": "9b9c109e-af6c-4dc6-f716-d41406992669"
      },
      "source": [
        "device = torch.device(\"cuda\") if torch.cuda.is_available() else torch.device(\"cpu\")\n",
        "device"
      ],
      "execution_count": 27,
      "outputs": [
        {
          "output_type": "execute_result",
          "data": {
            "text/plain": [
              "device(type='cuda')"
            ]
          },
          "metadata": {},
          "execution_count": 27
        }
      ]
    },
    {
      "cell_type": "code",
      "metadata": {
        "ExecuteTime": {
          "end_time": "2021-11-17T21:24:45.471745Z",
          "start_time": "2021-11-17T21:24:45.466417Z"
        },
        "id": "7xVguXmLLbin"
      },
      "source": [
        "# You will need these to make it simple\n",
        "\n",
        "\n",
        "class Reorder(nn.Module):\n",
        "    \"\"\"Reorders dimensions so\"\"\"\n",
        "\n",
        "    def forward(self, input):\n",
        "        return input.permute((0, 2, 1))"
      ],
      "execution_count": 28,
      "outputs": []
    },
    {
      "cell_type": "markdown",
      "metadata": {
        "id": "3irux9oNLbio"
      },
      "source": [
        "To generate minibatches we will use simple pyton generator."
      ]
    },
    {
      "cell_type": "code",
      "metadata": {
        "ExecuteTime": {
          "end_time": "2021-11-17T21:25:09.056200Z",
          "start_time": "2021-11-17T21:25:09.050385Z"
        },
        "id": "VRGPYg3QLbio"
      },
      "source": [
        "def iterate_batches(\n",
        "    data, batch_size: int = 256, shuffle: bool = True, cycle: bool = False, **kwargs\n",
        "):\n",
        "    \"\"\"Iterates batches of data in random order\"\"\"\n",
        "    while True:\n",
        "        indices = np.arange(len(data))\n",
        "        if shuffle:\n",
        "            indices = np.random.permutation(indices)\n",
        "\n",
        "        for start in range(0, len(indices), batch_size):\n",
        "            batch = make_batch(data.iloc[indices[start : start + batch_size]], **kwargs)\n",
        "            target = batch.pop(target_column)\n",
        "            yield batch, target\n",
        "\n",
        "        if not cycle:\n",
        "            break"
      ],
      "execution_count": 29,
      "outputs": []
    },
    {
      "cell_type": "code",
      "metadata": {
        "ExecuteTime": {
          "end_time": "2021-11-17T21:25:10.596365Z",
          "start_time": "2021-11-17T21:25:10.587319Z"
        },
        "id": "IMYW__IjLbio"
      },
      "source": [
        "iterator = iterate_batches(data_train, 3)\n",
        "batch, target = next(iterator)"
      ],
      "execution_count": 30,
      "outputs": []
    },
    {
      "cell_type": "code",
      "metadata": {
        "ExecuteTime": {
          "end_time": "2021-11-17T21:25:11.111694Z",
          "start_time": "2021-11-17T21:25:11.106792Z"
        },
        "id": "ZHbreKljLbio"
      },
      "source": [
        "# Here is some startup code:\n",
        "n_tokens = len(tokens)\n",
        "n_cat_features = len(categorical_vectorizer.vocabulary_)\n",
        "hid_size = 64\n",
        "n_maximums = 2"
      ],
      "execution_count": 31,
      "outputs": []
    },
    {
      "cell_type": "code",
      "metadata": {
        "ExecuteTime": {
          "end_time": "2021-11-17T21:26:34.586288Z",
          "start_time": "2021-11-17T21:26:34.579891Z"
        },
        "id": "cjdHy_RxLbio"
      },
      "source": [
        "class TextCnnModel(nn.Sequential):\n",
        "    def __init__(self, n_tokens: int, hid_size: int, n_maximums: int, out_dim: int):\n",
        "        super().__init__(\n",
        "            nn.Embedding(num_embeddings=n_tokens, embedding_dim=hid_size),\n",
        "            Reorder(),\n",
        "            nn.Conv1d(in_channels=hid_size, out_channels=hid_size * 2, kernel_size=2),\n",
        "            nn.ReLU(),\n",
        "            nn.Conv1d(\n",
        "                in_channels=hid_size * 2,\n",
        "                out_channels=hid_size * 2,\n",
        "                kernel_size=3,\n",
        "            ),\n",
        "            nn.BatchNorm1d(hid_size * 2),\n",
        "            nn.ReLU(),\n",
        "            nn.AdaptiveMaxPool1d(n_maximums),\n",
        "            nn.Flatten(),\n",
        "            nn.Linear(hid_size * 2 * n_maximums, out_dim),\n",
        "        )"
      ],
      "execution_count": 32,
      "outputs": []
    },
    {
      "cell_type": "code",
      "metadata": {
        "ExecuteTime": {
          "end_time": "2021-11-17T21:26:34.829994Z",
          "start_time": "2021-11-17T21:26:34.807091Z"
        },
        "id": "b3ADmTLfLbip"
      },
      "source": [
        "simple_model = TextCnnModel(n_tokens, hid_size, n_maximums, 1)"
      ],
      "execution_count": 33,
      "outputs": []
    },
    {
      "cell_type": "markdown",
      "metadata": {
        "id": "dFxIuX5rLbip"
      },
      "source": [
        "__Remember!__ We are working with regression problem and predicting only one number."
      ]
    },
    {
      "cell_type": "code",
      "metadata": {
        "ExecuteTime": {
          "end_time": "2021-11-17T21:26:50.694149Z",
          "start_time": "2021-11-17T21:26:50.680549Z"
        },
        "colab": {
          "base_uri": "https://localhost:8080/"
        },
        "id": "m8Ie4NVVLbip",
        "outputId": "180a1ac2-3c6d-4191-bec5-6d51fe4449ad"
      },
      "source": [
        "# Try this to check your model. `torch.long` tensors are required for nn.Embedding layers.\n",
        "input_tensor = torch.tensor(batch[\"FullDescription\"], dtype=torch.long)\n",
        "out = simple_model(input_tensor)\n",
        "out.shape"
      ],
      "execution_count": 34,
      "outputs": [
        {
          "output_type": "execute_result",
          "data": {
            "text/plain": [
              "torch.Size([3, 1])"
            ]
          },
          "metadata": {},
          "execution_count": 34
        }
      ]
    },
    {
      "cell_type": "code",
      "metadata": {
        "ExecuteTime": {
          "end_time": "2021-11-17T21:26:51.737525Z",
          "start_time": "2021-11-17T21:26:51.728057Z"
        },
        "colab": {
          "base_uri": "https://localhost:8080/"
        },
        "id": "AE3-WbjxLbip",
        "outputId": "4f75b69d-ad98-4209-e673-7f69d25d448b"
      },
      "source": [
        "out.view(3, -1).shape"
      ],
      "execution_count": 35,
      "outputs": [
        {
          "output_type": "execute_result",
          "data": {
            "text/plain": [
              "torch.Size([3, 1])"
            ]
          },
          "metadata": {},
          "execution_count": 35
        }
      ]
    },
    {
      "cell_type": "code",
      "metadata": {
        "ExecuteTime": {
          "end_time": "2021-11-16T17:54:43.661268Z",
          "start_time": "2021-11-16T17:54:43.655499Z"
        },
        "id": "6RPz8KLQLbip"
      },
      "source": [
        "# without the reorder operation\n",
        "# batch_size, seq_len, n_features\n",
        "# equal to\n",
        "# N, L, C_{\\text{in}}\n",
        "# and we want\n",
        "# (N, C_{\\text{in}}, L)\n",
        "out.shape"
      ],
      "execution_count": null,
      "outputs": []
    },
    {
      "cell_type": "code",
      "metadata": {
        "ExecuteTime": {
          "end_time": "2021-11-16T17:54:48.338655Z",
          "start_time": "2021-11-16T17:54:45.448498Z"
        },
        "colab": {
          "base_uri": "https://localhost:8080/"
        },
        "id": "OYuatKDLLbip",
        "outputId": "9ed90836-1892-47fb-a67d-dd090dd4034f"
      },
      "source": [
        "simple_model.to(device)"
      ],
      "execution_count": 36,
      "outputs": [
        {
          "output_type": "execute_result",
          "data": {
            "text/plain": [
              "TextCnnModel(\n",
              "  (0): Embedding(34158, 64)\n",
              "  (1): Reorder()\n",
              "  (2): Conv1d(64, 128, kernel_size=(2,), stride=(1,))\n",
              "  (3): ReLU()\n",
              "  (4): Conv1d(128, 128, kernel_size=(3,), stride=(1,))\n",
              "  (5): BatchNorm1d(128, eps=1e-05, momentum=0.1, affine=True, track_running_stats=True)\n",
              "  (6): ReLU()\n",
              "  (7): AdaptiveMaxPool1d(output_size=2)\n",
              "  (8): Flatten(start_dim=1, end_dim=-1)\n",
              "  (9): Linear(in_features=256, out_features=1, bias=True)\n",
              ")"
            ]
          },
          "metadata": {},
          "execution_count": 36
        }
      ]
    },
    {
      "cell_type": "markdown",
      "metadata": {
        "id": "-oeqVQolLbiq"
      },
      "source": [
        "And now simple training pipeline:"
      ]
    },
    {
      "cell_type": "code",
      "metadata": {
        "ExecuteTime": {
          "end_time": "2021-11-16T17:55:50.701094Z",
          "start_time": "2021-11-16T17:54:48.342397Z"
        },
        "id": "4aU-88BcLbiq"
      },
      "source": [
        "from IPython.display import clear_output"
      ],
      "execution_count": 37,
      "outputs": []
    },
    {
      "cell_type": "code",
      "metadata": {
        "ExecuteTime": {
          "end_time": "2021-11-16T17:55:50.701094Z",
          "start_time": "2021-11-16T17:54:48.342397Z"
        },
        "colab": {
          "base_uri": "https://localhost:8080/",
          "height": 375
        },
        "id": "lKyvAMXCLbiq",
        "outputId": "8df600f0-8348-47af-8413-7ffa834d3df1"
      },
      "source": [
        "epochs = 1\n",
        "\n",
        "model = simple_model\n",
        "opt = torch.optim.Adam(model.parameters())\n",
        "loss_func = nn.MSELoss()\n",
        "\n",
        "history = []\n",
        "for epoch_num in range(epochs):\n",
        "    for idx, (batch, target) in enumerate(iterate_batches(data_train)):\n",
        "        # Preprocessing the batch data and target\n",
        "        batch = torch.tensor(batch[\"FullDescription\"], dtype=torch.long).to(device)\n",
        "        target = torch.tensor(target).to(device)\n",
        "\n",
        "        predictions = model(batch)\n",
        "        predictions = predictions.view(predictions.size(0))\n",
        "\n",
        "        loss = loss_func(predictions, target)  # <YOUR CODE HERE>\n",
        "\n",
        "        # train with backprop\n",
        "        loss.backward()\n",
        "        opt.step()\n",
        "        opt.zero_grad()\n",
        "\n",
        "        history.append(loss.item())\n",
        "        if (idx + 1) % 10 == 0:\n",
        "            clear_output(True)\n",
        "            plt.plot(history, label=\"loss\")\n",
        "            plt.legend()\n",
        "            plt.show()"
      ],
      "execution_count": 38,
      "outputs": [
        {
          "output_type": "error",
          "ename": "RuntimeError",
          "evalue": "ignored",
          "traceback": [
            "\u001b[0;31m---------------------------------------------------------------------------\u001b[0m",
            "\u001b[0;31mRuntimeError\u001b[0m                              Traceback (most recent call last)",
            "\u001b[0;32m<ipython-input-38-48a27c189f56>\u001b[0m in \u001b[0;36m<module>\u001b[0;34m()\u001b[0m\n\u001b[1;32m     18\u001b[0m \u001b[0;34m\u001b[0m\u001b[0m\n\u001b[1;32m     19\u001b[0m         \u001b[0;31m# train with backprop\u001b[0m\u001b[0;34m\u001b[0m\u001b[0;34m\u001b[0m\u001b[0;34m\u001b[0m\u001b[0m\n\u001b[0;32m---> 20\u001b[0;31m         \u001b[0mloss\u001b[0m\u001b[0;34m.\u001b[0m\u001b[0mbackward\u001b[0m\u001b[0;34m(\u001b[0m\u001b[0;34m)\u001b[0m\u001b[0;34m\u001b[0m\u001b[0;34m\u001b[0m\u001b[0m\n\u001b[0m\u001b[1;32m     21\u001b[0m         \u001b[0mopt\u001b[0m\u001b[0;34m.\u001b[0m\u001b[0mstep\u001b[0m\u001b[0;34m(\u001b[0m\u001b[0;34m)\u001b[0m\u001b[0;34m\u001b[0m\u001b[0;34m\u001b[0m\u001b[0m\n\u001b[1;32m     22\u001b[0m         \u001b[0mopt\u001b[0m\u001b[0;34m.\u001b[0m\u001b[0mzero_grad\u001b[0m\u001b[0;34m(\u001b[0m\u001b[0;34m)\u001b[0m\u001b[0;34m\u001b[0m\u001b[0;34m\u001b[0m\u001b[0m\n",
            "\u001b[0;32m/usr/local/lib/python3.7/dist-packages/torch/_tensor.py\u001b[0m in \u001b[0;36mbackward\u001b[0;34m(self, gradient, retain_graph, create_graph, inputs)\u001b[0m\n\u001b[1;32m    305\u001b[0m                 \u001b[0mcreate_graph\u001b[0m\u001b[0;34m=\u001b[0m\u001b[0mcreate_graph\u001b[0m\u001b[0;34m,\u001b[0m\u001b[0;34m\u001b[0m\u001b[0;34m\u001b[0m\u001b[0m\n\u001b[1;32m    306\u001b[0m                 inputs=inputs)\n\u001b[0;32m--> 307\u001b[0;31m         \u001b[0mtorch\u001b[0m\u001b[0;34m.\u001b[0m\u001b[0mautograd\u001b[0m\u001b[0;34m.\u001b[0m\u001b[0mbackward\u001b[0m\u001b[0;34m(\u001b[0m\u001b[0mself\u001b[0m\u001b[0;34m,\u001b[0m \u001b[0mgradient\u001b[0m\u001b[0;34m,\u001b[0m \u001b[0mretain_graph\u001b[0m\u001b[0;34m,\u001b[0m \u001b[0mcreate_graph\u001b[0m\u001b[0;34m,\u001b[0m \u001b[0minputs\u001b[0m\u001b[0;34m=\u001b[0m\u001b[0minputs\u001b[0m\u001b[0;34m)\u001b[0m\u001b[0;34m\u001b[0m\u001b[0;34m\u001b[0m\u001b[0m\n\u001b[0m\u001b[1;32m    308\u001b[0m \u001b[0;34m\u001b[0m\u001b[0m\n\u001b[1;32m    309\u001b[0m     \u001b[0;32mdef\u001b[0m \u001b[0mregister_hook\u001b[0m\u001b[0;34m(\u001b[0m\u001b[0mself\u001b[0m\u001b[0;34m,\u001b[0m \u001b[0mhook\u001b[0m\u001b[0;34m)\u001b[0m\u001b[0;34m:\u001b[0m\u001b[0;34m\u001b[0m\u001b[0;34m\u001b[0m\u001b[0m\n",
            "\u001b[0;32m/usr/local/lib/python3.7/dist-packages/torch/autograd/__init__.py\u001b[0m in \u001b[0;36mbackward\u001b[0;34m(tensors, grad_tensors, retain_graph, create_graph, grad_variables, inputs)\u001b[0m\n\u001b[1;32m    154\u001b[0m     Variable._execution_engine.run_backward(\n\u001b[1;32m    155\u001b[0m         \u001b[0mtensors\u001b[0m\u001b[0;34m,\u001b[0m \u001b[0mgrad_tensors_\u001b[0m\u001b[0;34m,\u001b[0m \u001b[0mretain_graph\u001b[0m\u001b[0;34m,\u001b[0m \u001b[0mcreate_graph\u001b[0m\u001b[0;34m,\u001b[0m \u001b[0minputs\u001b[0m\u001b[0;34m,\u001b[0m\u001b[0;34m\u001b[0m\u001b[0;34m\u001b[0m\u001b[0m\n\u001b[0;32m--> 156\u001b[0;31m         allow_unreachable=True, accumulate_grad=True)  # allow_unreachable flag\n\u001b[0m\u001b[1;32m    157\u001b[0m \u001b[0;34m\u001b[0m\u001b[0m\n\u001b[1;32m    158\u001b[0m \u001b[0;34m\u001b[0m\u001b[0m\n",
            "\u001b[0;31mRuntimeError\u001b[0m: Found dtype Double but expected Float"
          ]
        }
      ]
    },
    {
      "cell_type": "markdown",
      "metadata": {
        "id": "zfU7Cou4Lbiq"
      },
      "source": [
        "To evaluate the model it can be switched to `eval` state."
      ]
    },
    {
      "cell_type": "code",
      "metadata": {
        "ExecuteTime": {
          "end_time": "2021-11-16T17:55:50.704995Z",
          "start_time": "2021-11-16T17:55:50.702277Z"
        },
        "id": "1e7z3FtcLbiq"
      },
      "source": [
        "simple_model.eval()"
      ],
      "execution_count": null,
      "outputs": []
    },
    {
      "cell_type": "markdown",
      "metadata": {
        "id": "oqRiNHFdLbir"
      },
      "source": [
        "Let's check the model quality."
      ]
    },
    {
      "cell_type": "code",
      "metadata": {
        "ExecuteTime": {
          "end_time": "2021-11-16T17:55:50.711226Z",
          "start_time": "2021-11-16T17:55:50.705894Z"
        },
        "id": "nGJqNAHXLbir"
      },
      "source": [
        "batch_size = 256"
      ],
      "execution_count": null,
      "outputs": []
    },
    {
      "cell_type": "code",
      "metadata": {
        "ExecuteTime": {
          "end_time": "2021-11-16T17:56:28.191819Z",
          "start_time": "2021-11-16T17:55:50.715604Z"
        },
        "id": "YfDPtyACLbir"
      },
      "source": [
        "from tqdm import tqdm_notebook\n",
        "\n",
        "\n",
        "def print_metrics(model, data, batch_size=batch_size, name=\"\", **kw):\n",
        "    squared_error = abs_error = num_samples = 0.0\n",
        "    for batch_x, batch_y in tqdm_notebook(\n",
        "        iterate_batches(data, batch_size=batch_size, shuffle=False, **kw)\n",
        "    ):\n",
        "        batch = torch.tensor(batch_x[\"FullDescription\"], dtype=torch.long).to(device)\n",
        "        batch_pred = simple_model(batch)[:, 0].detach().cpu().numpy()\n",
        "        squared_error += np.sum(np.square(batch_pred - batch_y))\n",
        "        abs_error += np.sum(np.abs(batch_pred - batch_y))\n",
        "        num_samples += len(batch_y)\n",
        "    print(\"%s results:\" % (name or \"\"))\n",
        "    print(\"Mean square error: %.5f\" % (squared_error / num_samples))\n",
        "    print(\"Mean absolute error: %.5f\" % (abs_error / num_samples))\n",
        "    return squared_error, abs_error\n",
        "\n",
        "\n",
        "print_metrics(simple_model, data_train, name=\"Train\")\n",
        "print_metrics(simple_model, data_val, name=\"Val\");"
      ],
      "execution_count": null,
      "outputs": []
    },
    {
      "cell_type": "markdown",
      "metadata": {
        "id": "5mqY00zbLbir"
      },
      "source": [
        "### Bonus area: three-headed network.\n",
        "\n",
        "Now you can try to implement the network we've discussed above. Use [__PyTorch nn.Module API__](https://pytorch.org/docs/stable/nn.html#torch.nn.Module)."
      ]
    },
    {
      "cell_type": "code",
      "metadata": {
        "ExecuteTime": {
          "end_time": "2021-11-16T18:10:46.802060Z",
          "start_time": "2021-11-16T18:10:46.796494Z"
        },
        "id": "RfEbvfglLbir"
      },
      "source": [
        "from torchsummary import summary"
      ],
      "execution_count": null,
      "outputs": []
    },
    {
      "cell_type": "code",
      "metadata": {
        "id": "q-HH-H_vLbir"
      },
      "source": [
        "class ThreeInputsNet(nn.Module):\n",
        "    def __init__(\n",
        "        self,\n",
        "        n_tokens=len(tokens),\n",
        "        n_cat_features=len(categorical_vectorizer.vocabulary_),\n",
        "        hid_size=64,\n",
        "    ):\n",
        "        super().__init__()\n",
        "        self.title_net = nn.Sequential(  # bs, len\n",
        "            nn.Embedding(n_tokens, embedding_dim=hid_size),  # bs, len, hid_size\n",
        "            nn.LSTM(),  # bs, short_mem_size (5)\n",
        "        )\n",
        "\n",
        "        self.descr_net = TextCnnModel(n_tokens, hid_size, n_maximums, 15)  # bs, cnn_size (15)\n",
        "\n",
        "        self.category_net = nn.Linear(5, 2)  # bs, 2\n",
        "\n",
        "        self.fc = nn.Linear(22, 1)\n",
        "\n",
        "    def forward(self, whole_input):\n",
        "        input1, input2, input3 = whole_input\n",
        "        title = self.title_net(input1)\n",
        "\n",
        "        full = self.descr_net(input2)\n",
        "\n",
        "        category = self.category_net(input3)\n",
        "\n",
        "        concatenated = torch.cat(\n",
        "            [\n",
        "                title.view(title.size(0), -1),\n",
        "                full.view(full.size(0), -1),\n",
        "                category.view(category.size(0), -1),\n",
        "            ],\n",
        "            dim=1,\n",
        "        )\n",
        "\n",
        "        return self.fc(concatenated)"
      ],
      "execution_count": null,
      "outputs": []
    },
    {
      "cell_type": "code",
      "metadata": {
        "id": "DS-Om4D-Lbir"
      },
      "source": [
        "# Another implementation\n",
        "\n",
        "\n",
        "class GlobalMaxPooling(nn.Module):\n",
        "    def __init__(self, dim=-1):\n",
        "        super(self.__class__, self).__init__()\n",
        "        self.dim = dim\n",
        "\n",
        "    def forward(self, x):\n",
        "        return x.max(dim=self.dim)[0]\n",
        "\n",
        "\n",
        "class ThreeInputsNet2(nn.Module):\n",
        "    def __init__(\n",
        "        self,\n",
        "        n_tokens=len(tokens),\n",
        "        n_cat_features=len(categorical_vectorizer.vocabulary_),\n",
        "        hid_size=64,\n",
        "    ):\n",
        "        super().__init__()\n",
        "        self.embedder = nn.Embedding(n_tokens, embedding_dim=hid_size)\n",
        "\n",
        "        # self.title_emb = nn.Embedding(n_tokens, embedding_dim=hid_size)\n",
        "        # <YOUR CODE HERE>  title part of network\n",
        "        self.title_encoder = nn.Sequential(\n",
        "            nn.Conv1d(in_channels=hid_size, out_channels=hid_size, kernel_size=2),\n",
        "            nn.ReLU(),\n",
        "            GlobalMaxPooling(),  # nn.AdaptiveMaxPool1d(hid_size),\n",
        "            nn.Linear(hid_size, hid_size),\n",
        "        )\n",
        "\n",
        "        # self.full_emb = nn.Embedding(n_tokens, embedding_dim=hid_size)\n",
        "        # <YOUR CODE HERE>  description part of network\n",
        "        self.desc_encoder = nn.Sequential(\n",
        "            nn.Conv1d(in_channels=hid_size, out_channels=hid_size, kernel_size=3),\n",
        "            nn.ReLU(),\n",
        "            GlobalMaxPooling(),  # nn.AdaptiveMaxPool1d(hid_size),\n",
        "            nn.Linear(hid_size, hid_size),\n",
        "        )\n",
        "\n",
        "        self.category_out = nn.Sequential(\n",
        "            nn.Linear(3768, hid_size * 8),\n",
        "            nn.ReLU(inplace=True),\n",
        "            nn.Linear(hid_size * 8, hid_size * 2),\n",
        "            nn.ReLU(inplace=True),\n",
        "            nn.Linear(hid_size * 2, hid_size),\n",
        "            nn.ReLU(inplace=True),\n",
        "        )\n",
        "\n",
        "        self.predictor = nn.Sequential(\n",
        "            nn.Linear(hid_size * 3, hid_size), nn.ReLU(), nn.Linear(hid_size, 1)\n",
        "        )\n",
        "\n",
        "    def forward(self, whole_input):\n",
        "        input1 = whole_input[\"Title\"]\n",
        "        input2 = whole_input[\"FullDescription\"]\n",
        "        input3 = whole_input[\"Categorical\"]\n",
        "\n",
        "        title_beg = self.embedder(input1).permute((0, 2, 1))\n",
        "        title = self.title_encoder(title_beg)  # <YOUR CODE HERE>\n",
        "\n",
        "        full_beg = self.embedder(input2).permute((0, 2, 1))\n",
        "        full = self.desc_encoder(full_beg)  # <YOUR CODE HERE>\n",
        "\n",
        "        category = self.category_out(input3)  # <YOUR CODE HERE>\n",
        "\n",
        "        concatenated = torch.cat(\n",
        "            [\n",
        "                title.view(title.size(0), -1),\n",
        "                full.view(full.size(0), -1),\n",
        "                category.view(category.size(0), -1),\n",
        "            ],\n",
        "            dim=1,\n",
        "        )\n",
        "\n",
        "        out = self.predictor(concatenated)  # <YOUR CODE HERE>\n",
        "\n",
        "        return out"
      ],
      "execution_count": null,
      "outputs": []
    },
    {
      "cell_type": "markdown",
      "metadata": {
        "id": "hY3JPGUbLbis"
      },
      "source": [
        "### Bonus area 2: comparing RNN to CNN\n",
        "Try implementing simple RNN (or LSTM) and applying it to this task. Compare the quality/performance of these networks. \n",
        "*Hint: try to build networks with ~same number of paremeters.*"
      ]
    },
    {
      "cell_type": "code",
      "metadata": {
        "id": "Jld8rWyELbis"
      },
      "source": [
        "# <YOUR CODE HERE>"
      ],
      "execution_count": null,
      "outputs": []
    },
    {
      "cell_type": "markdown",
      "metadata": {
        "id": "r8bIW6dnLbis"
      },
      "source": [
        "### Bonus area 3: fixing the data leaks\n",
        "Fix the data leak we ignored in the beginning of the __Deep Learning part__. Compare results with and without data leaks using same architectures and training time.\n"
      ]
    },
    {
      "cell_type": "code",
      "metadata": {
        "id": "V9RP0J-3Lbis"
      },
      "source": [
        "# <YOUR CODE HERE>"
      ],
      "execution_count": null,
      "outputs": []
    },
    {
      "cell_type": "markdown",
      "metadata": {
        "id": "tE-tG1x6Lbis"
      },
      "source": [
        "__Terrible start-up idea #1962:__ make a tool that automaticaly rephrases your job description (or CV) to meet salary expectations :)"
      ]
    },
    {
      "cell_type": "markdown",
      "metadata": {
        "id": "0dX5N2lBLbis"
      },
      "source": [
        "## References\n",
        "\n",
        "Based on YSDA [materials](https://github.com/yandexdataschool/nlp_course/blob/master/week02_classification/seminar.ipynb). \\\n",
        "_Special thanks to [Oleg Vasilev](https://github.com/Omrigan/) for the core assignment idea._"
      ]
    }
  ]
}