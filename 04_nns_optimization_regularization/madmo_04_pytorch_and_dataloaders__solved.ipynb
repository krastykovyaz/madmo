{
  "nbformat": 4,
  "nbformat_minor": 0,
  "metadata": {
    "kernelspec": {
      "display_name": "Python [conda env:ml-mipt]",
      "language": "python",
      "name": "conda-env-ml-mipt-py"
    },
    "language_info": {
      "codemirror_mode": {
        "name": "ipython",
        "version": 3
      },
      "file_extension": ".py",
      "mimetype": "text/x-python",
      "name": "python",
      "nbconvert_exporter": "python",
      "pygments_lexer": "ipython3",
      "version": "3.8.5"
    },
    "toc": {
      "base_numbering": 1,
      "nav_menu": {},
      "number_sections": true,
      "sideBar": true,
      "skip_h1_title": false,
      "title_cell": "Table of Contents",
      "title_sidebar": "Contents",
      "toc_cell": false,
      "toc_position": {},
      "toc_section_display": true,
      "toc_window_display": true
    },
    "colab": {
      "name": "madmo_04_pytorch_and_dataloaders__solved.ipynb",
      "provenance": [],
      "collapsed_sections": [
        "rZ-IQeW2U6D5"
      ]
    }
  },
  "cells": [
    {
      "cell_type": "markdown",
      "metadata": {
        "id": "ou5zHyqjU6Dc"
      },
      "source": [
        "# week 09 PyTorch practice, hints and Dataloaders"
      ]
    },
    {
      "cell_type": "markdown",
      "metadata": {
        "id": "gcuSrFzsU6Dg"
      },
      "source": [
        "Credits:\n",
        "* First part is based on YSDA [Practical RL course week04 materials](https://github.com/yandexdataschool/Practical_RL/tree/master/week04_%5Brecap%5D_deep_learning).\n",
        "* Second part is based on PyTorch official tutorials and [this kaggle kernel](https://www.kaggle.com/pinocookie/pytorch-dataset-and-dataloader)\n",
        "* Third part is based on PyTorch tutorial by [Stanford CS 231n course](http://cs231n.stanford.edu)"
      ]
    },
    {
      "cell_type": "markdown",
      "metadata": {
        "id": "G0xHoIpTU6Dh"
      },
      "source": [
        "![img](https://pytorch.org/tutorials/_static/pytorch-logo-dark.svg)\n",
        "\n",
        "__This notebook__ will teach you to use pytorch low-level core. You can install it [here](http://pytorch.org/).\n",
        "\n",
        "__Pytorch feels__ differently than other frameworks (like tensorflow/theano) on almost every level. TensorFlow makes your code live in two \"worlds\" simultaneously:  symbolic graphs and actual tensors. First you declare a symbolic \"recipe\" of how to get from inputs to outputs, then feed it with actual minibatches of data.  In pytorch, __there's only one world__: all tensors have a numeric value.\n",
        "\n",
        "You compute outputs on the fly without pre-declaring anything. The code looks exactly as in pure numpy with one exception: pytorch computes gradients for you. And can run stuff on GPU. And has a number of pre-implemented building blocks for your neural nets. [And a few more things.](https://medium.com/towards-data-science/pytorch-vs-tensorflow-spotting-the-difference-25c75777377b)\n",
        "\n",
        "Let's dive into it!"
      ]
    },
    {
      "cell_type": "code",
      "metadata": {
        "ExecuteTime": {
          "end_time": "2021-05-15T12:09:37.524783Z",
          "start_time": "2021-05-15T12:09:32.623687Z"
        },
        "colab": {
          "base_uri": "https://localhost:8080/"
        },
        "id": "hPcmf86FU6Di",
        "outputId": "d67fb5b8-707c-4efc-b0d8-aba483722ddd"
      },
      "source": [
        "! pip install pandas"
      ],
      "execution_count": 1,
      "outputs": [
        {
          "output_type": "stream",
          "name": "stdout",
          "text": [
            "Requirement already satisfied: pandas in /usr/local/lib/python3.7/dist-packages (1.1.5)\n",
            "Requirement already satisfied: pytz>=2017.2 in /usr/local/lib/python3.7/dist-packages (from pandas) (2018.9)\n",
            "Requirement already satisfied: numpy>=1.15.4 in /usr/local/lib/python3.7/dist-packages (from pandas) (1.19.5)\n",
            "Requirement already satisfied: python-dateutil>=2.7.3 in /usr/local/lib/python3.7/dist-packages (from pandas) (2.8.2)\n",
            "Requirement already satisfied: six>=1.5 in /usr/local/lib/python3.7/dist-packages (from python-dateutil>=2.7.3->pandas) (1.15.0)\n"
          ]
        }
      ]
    },
    {
      "cell_type": "code",
      "metadata": {
        "ExecuteTime": {
          "end_time": "2021-07-22T07:02:19.241547Z",
          "start_time": "2021-07-22T07:02:17.496217Z"
        },
        "id": "IcOXZe3RU6Dk"
      },
      "source": [
        "import matplotlib.pyplot as plt\n",
        "import numpy as np  # linear algebra\n",
        "import pandas as pd  # data processing, CSV file I/O (e.g. pd.read_csv)\n",
        "import torch\n",
        "import torchvision\n",
        "from torch.utils.data import DataLoader, Dataset, Subset\n",
        "from torchvision import transforms"
      ],
      "execution_count": 2,
      "outputs": []
    },
    {
      "cell_type": "markdown",
      "metadata": {
        "id": "JLM2KHEqU6Dl"
      },
      "source": [
        "### Task 1: Tensormancy\n",
        "\n",
        "__1.1 The [_disclaimer_](https://gist.githubusercontent.com/justheuristic/e2c1fa28ca02670cabc42cacf3902796/raw/fd3d935cef63a01b85ed2790b5c11c370245cbd7/stddisclaimer.h)__\n",
        "\n",
        "Let's write another function, this time in polar coordinates:\n",
        "$$\\rho(\\theta) = (1 + 0.9 \\cdot cos (6 \\cdot \\theta) ) \\cdot (1 + 0.01 \\cdot cos(24 \\cdot \\theta)) \\cdot (0.5 + 0.05 \\cdot cos(200 \\cdot \\theta)) \\cdot (10 + sin(10 \\cdot \\theta))$$\n",
        "\n",
        "\n",
        "Then convert it into cartesian coordinates ([howto](http://www.mathsisfun.com/polar-cartesian-coordinates.html)) and plot the results.\n",
        "\n",
        "Use torch tensors only: no lists, loops, numpy arrays, etc."
      ]
    },
    {
      "cell_type": "code",
      "metadata": {
        "ExecuteTime": {
          "end_time": "2020-02-28T00:13:20.890514Z",
          "start_time": "2020-02-28T00:13:20.639022Z"
        },
        "colab": {
          "base_uri": "https://localhost:8080/",
          "height": 374
        },
        "id": "vlZ5vIJkU6Dm",
        "outputId": "1ed56015-1a26-432e-da66-70b9db9802c4"
      },
      "source": [
        "theta = torch.linspace(-np.pi, np.pi, steps=1000) # возвращает равномерно распределенный набор элементов\n",
        "\n",
        "# compute rho(theta) as per formula above\n",
        "rho = (1 + 0.9 * torch.cos(6 * theta)) * (1 + 0.01 * torch.cos(24 * theta)) * (0.5 + 0.05 * torch.cos(200 * theta)) * (10 + torch.sin(10 * theta))  # YOUR CODE HERE\n",
        "\n",
        "# Now convert polar (rho, theta) pairs into cartesian (x,y) to plot them.\n",
        "x = rho * torch.cos(theta)  # YOUR CODE HERE\n",
        "y = rho * torch.sin(theta)  # YOUR CODE HERE\n",
        "\n",
        "\n",
        "plt.figure(figsize=(6, 6))\n",
        "plt.fill(x.numpy(), y.numpy(), color=\"red\")\n",
        "plt.grid()"
      ],
      "execution_count": 3,
      "outputs": [
        {
          "output_type": "display_data",
          "data": {
            "image/png": "[encoded data removed]",
            "text/plain": [
              "<Figure size 432x432 with 1 Axes>"
            ]
          },
          "metadata": {
            "needs_background": "light"
          }
        }
      ]
    },
    {
      "cell_type": "markdown",
      "metadata": {
        "id": "SQh1HxU4U6Dn"
      },
      "source": [
        "### Task 2: Using the Dataloader"
      ]
    },
    {
      "cell_type": "code",
      "metadata": {
        "ExecuteTime": {
          "end_time": "2021-07-22T07:02:22.529478Z",
          "start_time": "2021-07-22T07:02:22.527294Z"
        },
        "id": "8kcL9KFXU6Dn"
      },
      "source": [
        "from torch import nn\n",
        "from torch.nn import functional as F"
      ],
      "execution_count": 4,
      "outputs": []
    },
    {
      "cell_type": "code",
      "metadata": {
        "ExecuteTime": {
          "end_time": "2021-07-22T07:02:25.278665Z",
          "start_time": "2021-07-22T07:02:24.462737Z"
        },
        "colab": {
          "base_uri": "https://localhost:8080/"
        },
        "id": "EXWCOiiaU6Do",
        "outputId": "1fc490e9-398e-4df1-fb3d-79ad3fc6087d"
      },
      "source": [
        "!wget https://raw.githubusercontent.com/neychev/harbour_ml2020/master/day10_Optimization_and_regularization_in_DL/notmnist.py"
      ],
      "execution_count": 5,
      "outputs": [
        {
          "output_type": "stream",
          "name": "stdout",
          "text": [
            "--2021-11-10 05:43:22--  https://raw.githubusercontent.com/neychev/harbour_ml2020/master/day10_Optimization_and_regularization_in_DL/notmnist.py\n",
            "Resolving raw.githubusercontent.com (raw.githubusercontent.com)... 185.199.108.133, 185.199.109.133, 185.199.110.133, ...\n",
            "Connecting to raw.githubusercontent.com (raw.githubusercontent.com)|185.199.108.133|:443... connected.\n",
            "HTTP request sent, awaiting response... 200 OK\n",
            "Length: 1799 (1.8K) [text/plain]\n",
            "Saving to: ‘notmnist.py’\n",
            "\n",
            "notmnist.py         100%[===================>]   1.76K  --.-KB/s    in 0s      \n",
            "\n",
            "2021-11-10 05:43:22 (39.5 MB/s) - ‘notmnist.py’ saved [1799/1799]\n",
            "\n"
          ]
        }
      ]
    },
    {
      "cell_type": "code",
      "metadata": {
        "ExecuteTime": {
          "end_time": "2021-05-15T12:13:01.524805Z",
          "start_time": "2021-05-15T12:12:51.811975Z"
        },
        "colab": {
          "base_uri": "https://localhost:8080/"
        },
        "id": "fqWEbW-FU6Dp",
        "outputId": "502405f8-08f2-44cd-a214-5900e20380e0"
      },
      "source": [
        "! pip install sklearn"
      ],
      "execution_count": 6,
      "outputs": [
        {
          "output_type": "stream",
          "name": "stdout",
          "text": [
            "Requirement already satisfied: sklearn in /usr/local/lib/python3.7/dist-packages (0.0)\n",
            "Requirement already satisfied: scikit-learn in /usr/local/lib/python3.7/dist-packages (from sklearn) (0.22.2.post1)\n",
            "Requirement already satisfied: scipy>=0.17.0 in /usr/local/lib/python3.7/dist-packages (from scikit-learn->sklearn) (1.4.1)\n",
            "Requirement already satisfied: joblib>=0.11 in /usr/local/lib/python3.7/dist-packages (from scikit-learn->sklearn) (1.1.0)\n",
            "Requirement already satisfied: numpy>=1.11.0 in /usr/local/lib/python3.7/dist-packages (from scikit-learn->sklearn) (1.19.5)\n"
          ]
        }
      ]
    },
    {
      "cell_type": "code",
      "metadata": {
        "ExecuteTime": {
          "end_time": "2021-07-22T07:02:40.858209Z",
          "start_time": "2021-07-22T07:02:30.137077Z"
        },
        "colab": {
          "base_uri": "https://localhost:8080/"
        },
        "id": "mEZlayD1U6Dp",
        "outputId": "d55d6ee1-e1b9-4a50-825a-3b8fe8e6f12f"
      },
      "source": [
        "from notmnist import load_notmnist\n",
        "\n",
        "\n",
        "X_train, y_train, X_test, y_test = load_notmnist()"
      ],
      "execution_count": 7,
      "outputs": [
        {
          "output_type": "stream",
          "name": "stdout",
          "text": [
            "Downloading data...\n",
            "Extracting ...\n",
            "Parsing...\n",
            "found broken img: ./notMNIST_small/A/RGVtb2NyYXRpY2FCb2xkT2xkc3R5bGUgQm9sZC50dGY=.png [it's ok if <10 images are broken]\n",
            "found broken img: ./notMNIST_small/F/Q3Jvc3NvdmVyIEJvbGRPYmxpcXVlLnR0Zg==.png [it's ok if <10 images are broken]\n",
            "Done\n"
          ]
        }
      ]
    },
    {
      "cell_type": "code",
      "metadata": {
        "ExecuteTime": {
          "end_time": "2021-07-22T07:02:40.863905Z",
          "start_time": "2021-07-22T07:02:40.860794Z"
        },
        "colab": {
          "base_uri": "https://localhost:8080/"
        },
        "id": "VIUY5n0pU6Dq",
        "outputId": "18f531ba-6448-4d37-9c3e-77f38b67d522"
      },
      "source": [
        "print(Dataset.__doc__)"
      ],
      "execution_count": 8,
      "outputs": [
        {
          "output_type": "stream",
          "name": "stdout",
          "text": [
            "An abstract class representing a :class:`Dataset`.\n",
            "\n",
            "    All datasets that represent a map from keys to data samples should subclass\n",
            "    it. All subclasses should overwrite :meth:`__getitem__`, supporting fetching a\n",
            "    data sample for a given key. Subclasses could also optionally overwrite\n",
            "    :meth:`__len__`, which is expected to return the size of the dataset by many\n",
            "    :class:`~torch.utils.data.Sampler` implementations and the default options\n",
            "    of :class:`~torch.utils.data.DataLoader`.\n",
            "\n",
            "    .. note::\n",
            "      :class:`~torch.utils.data.DataLoader` by default constructs a index\n",
            "      sampler that yields integral indices.  To make it work with a map-style\n",
            "      dataset with non-integral indices/keys, a custom sampler must be provided.\n",
            "    \n"
          ]
        }
      ]
    },
    {
      "cell_type": "code",
      "metadata": {
        "ExecuteTime": {
          "end_time": "2021-07-22T07:02:42.984974Z",
          "start_time": "2021-07-22T07:02:40.867649Z"
        },
        "id": "zx8gxcrgU6Dq"
      },
      "source": [
        "import cv2 # open CV"
      ],
      "execution_count": null,
      "outputs": []
    },
    {
      "cell_type": "code",
      "metadata": {
        "ExecuteTime": {
          "end_time": "2021-07-22T07:02:42.991339Z",
          "start_time": "2021-07-22T07:02:42.986882Z"
        },
        "id": "8Wr_b8PdU6Dq"
      },
      "source": [
        "class DatasetMNIST(Dataset):\n",
        "    def __init__(self, path=\"./notMNIST_small\", letters=\"ABCDEFGHIJ\", transform=None):\n",
        "        self.data, self.labels, _, _ = load_notmnist(path=path, letters=letters, test_size=0)\n",
        "        # получаем данные и лейблы _, _ - тренировочные\n",
        "        self.transform = transform\n",
        "\n",
        "    def __len__(self): # весь объем датасета (сколько картинок)\n",
        "        return len(self.data)\n",
        "\n",
        "    def __getitem__(self, index: int): # позволяет выбирать элемент по индексу\n",
        "        # load image as ndarray type (Height * Width * Channels)\n",
        "        # be carefull for converting dtype to np.uint8 [Unsigned integer (0 to 255)]\n",
        "        # in this example, i don't use ToTensor() method of torchvision.transforms\n",
        "        # so you can convert numpy ndarray shape to tensor in PyTorch (H, W, C) --> (C, H, W)\n",
        "        image = self.data[index].transpose(1, 2, 0)\n",
        "        label = self.labels[index]\n",
        "\n",
        "        if self.transform is not None:\n",
        "            image = self.transform(image)\n",
        "\n",
        "        return image, label"
      ],
      "execution_count": 9,
      "outputs": []
    },
    {
      "cell_type": "code",
      "metadata": {
        "ExecuteTime": {
          "end_time": "2021-07-22T07:02:43.744267Z",
          "start_time": "2021-07-22T07:02:42.992912Z"
        },
        "colab": {
          "base_uri": "https://localhost:8080/"
        },
        "id": "YR61Gjt_U6Dr",
        "outputId": "99403dab-3bf1-409e-f249-0356bf16b96f"
      },
      "source": [
        "full_dataset = DatasetMNIST(\"./notMNIST_small\", \"AB\", transform=None)"
      ],
      "execution_count": 10,
      "outputs": [
        {
          "output_type": "stream",
          "name": "stdout",
          "text": [
            "Parsing...\n",
            "found broken img: ./notMNIST_small/A/RGVtb2NyYXRpY2FCb2xkT2xkc3R5bGUgQm9sZC50dGY=.png [it's ok if <10 images are broken]\n",
            "Done\n"
          ]
        }
      ]
    },
    {
      "cell_type": "code",
      "metadata": {
        "ExecuteTime": {
          "end_time": "2021-07-22T07:02:43.748390Z",
          "start_time": "2021-07-22T07:02:43.745698Z"
        },
        "colab": {
          "base_uri": "https://localhost:8080/"
        },
        "id": "4TJKE2zoU6Dr",
        "outputId": "27963edf-0ec0-484c-ae08-48b90fe6dd9a"
      },
      "source": [
        "# we can access and get data with index by __getitem__(index)\n",
        "img, lab = full_dataset.__getitem__(0)\n",
        "# перекоидировали буквы в индексы 0,1,2,3\n",
        "print(img.shape)\n",
        "print(type(img))"
      ],
      "execution_count": 11,
      "outputs": [
        {
          "output_type": "stream",
          "name": "stdout",
          "text": [
            "(28, 28, 1)\n",
            "<class 'numpy.ndarray'>\n"
          ]
        }
      ]
    },
    {
      "cell_type": "code",
      "metadata": {
        "colab": {
          "base_uri": "https://localhost:8080/"
        },
        "id": "1HIzZ2ndekSI",
        "outputId": "014a5d87-a0f5-41d0-cb4c-42869b6aca9b"
      },
      "source": [
        "img.shape "
      ],
      "execution_count": 15,
      "outputs": [
        {
          "output_type": "execute_result",
          "data": {
            "text/plain": [
              "(28, 28, 1)"
            ]
          },
          "metadata": {},
          "execution_count": 15
        }
      ]
    },
    {
      "cell_type": "code",
      "metadata": {
        "ExecuteTime": {
          "end_time": "2021-07-22T07:02:43.762235Z",
          "start_time": "2021-07-22T07:02:43.749660Z"
        },
        "colab": {
          "base_uri": "https://localhost:8080/"
        },
        "id": "dVaCx3A0U6Ds",
        "outputId": "aa5d1144-f9a3-4f53-b951-264b633da610"
      },
      "source": [
        "a = torchvision.transforms.ToTensor()\n",
        "\n",
        "a(img).shape # для перевода в тензор кладем объект в скобки (измерение каналов должно идти первым)"
      ],
      "execution_count": 13,
      "outputs": [
        {
          "output_type": "execute_result",
          "data": {
            "text/plain": [
              "torch.Size([1, 28, 28])"
            ]
          },
          "metadata": {},
          "execution_count": 13
        }
      ]
    },
    {
      "cell_type": "code",
      "metadata": {
        "ExecuteTime": {
          "end_time": "2021-07-22T07:02:44.016326Z",
          "start_time": "2021-07-22T07:02:43.766738Z"
        },
        "colab": {
          "base_uri": "https://localhost:8080/",
          "height": 216
        },
        "id": "KarrThQfU6Ds",
        "outputId": "7e226bec-7d5f-4718-939e-88955cf34454"
      },
      "source": [
        "inds = np.random.randint(len(full_dataset), size=2)\n",
        "\n",
        "for i in range(2):\n",
        "    plt.subplot(1, 2, i + 1)\n",
        "    plt.imshow(full_dataset[inds[i]][0].reshape([28, 28]))\n",
        "    plt.title(str(full_dataset[inds[i]][1]))"
      ],
      "execution_count": 14,
      "outputs": [
        {
          "output_type": "display_data",
          "data": {
            "image/png": "[encoded data removed]",
            "text/plain": [
              "<Figure size 432x288 with 2 Axes>"
            ]
          },
          "metadata": {
            "needs_background": "light"
          }
        }
      ]
    },
    {
      "cell_type": "markdown",
      "metadata": {
        "id": "2i4EDi2GU6Ds"
      },
      "source": [
        "#### To the DataLoader"
      ]
    },
    {
      "cell_type": "code",
      "metadata": {
        "ExecuteTime": {
          "end_time": "2021-07-22T07:02:44.026216Z",
          "start_time": "2021-07-22T07:02:44.018027Z"
        },
        "id": "7DVdLHg_U6Dt"
      },
      "source": [
        "# Dataloader собирает все индексы картинок, перемешивает и нарезает на бачи, num_workers=1 - количество параллельных процессов для скорости считывания из памяти\n",
        "train_loader = DataLoader(full_dataset, batch_size=8, shuffle=True, num_workers=1)"
      ],
      "execution_count": 16,
      "outputs": []
    },
    {
      "cell_type": "code",
      "metadata": {
        "ExecuteTime": {
          "end_time": "2021-07-22T07:02:50.087743Z",
          "start_time": "2021-07-22T07:02:50.084513Z"
        },
        "colab": {
          "base_uri": "https://localhost:8080/"
        },
        "id": "1mLPhVfNU6Dt",
        "outputId": "2b0e96ce-fe4b-4419-dd09-881dbbbb8044"
      },
      "source": [
        "len(train_loader) # 469 раза выделим такие батчи"
      ],
      "execution_count": 17,
      "outputs": [
        {
          "output_type": "execute_result",
          "data": {
            "text/plain": [
              "469"
            ]
          },
          "metadata": {},
          "execution_count": 17
        }
      ]
    },
    {
      "cell_type": "code",
      "metadata": {
        "ExecuteTime": {
          "end_time": "2021-07-22T07:02:55.843641Z",
          "start_time": "2021-07-22T07:02:55.840628Z"
        },
        "colab": {
          "base_uri": "https://localhost:8080/"
        },
        "id": "LL8h4rtaU6Dt",
        "outputId": "d597c99f-332f-4a0c-df15-4d5eff3d580e"
      },
      "source": [
        "len(full_dataset)"
      ],
      "execution_count": 18,
      "outputs": [
        {
          "output_type": "execute_result",
          "data": {
            "text/plain": [
              "3745"
            ]
          },
          "metadata": {},
          "execution_count": 18
        }
      ]
    },
    {
      "cell_type": "code",
      "metadata": {
        "colab": {
          "base_uri": "https://localhost:8080/"
        },
        "id": "n2uv5N4ShCdS",
        "outputId": "7bb68a31-8dc5-4fea-cde5-f5d0bac445d2"
      },
      "source": [
        "len(full_dataset) // 8"
      ],
      "execution_count": 19,
      "outputs": [
        {
          "output_type": "execute_result",
          "data": {
            "text/plain": [
              "468"
            ]
          },
          "metadata": {},
          "execution_count": 19
        }
      ]
    },
    {
      "cell_type": "markdown",
      "metadata": {
        "id": "ieHm41uwU6Du"
      },
      "source": [
        "We can use dataloader as iterator by using iter() function."
      ]
    },
    {
      "cell_type": "code",
      "metadata": {
        "ExecuteTime": {
          "end_time": "2021-05-15T12:45:37.186371Z",
          "start_time": "2021-05-15T12:45:37.172366Z"
        },
        "colab": {
          "base_uri": "https://localhost:8080/"
        },
        "id": "yD_0j4AeU6Du",
        "outputId": "e2e7040b-0f82-4ebf-d469-5196c7449ece"
      },
      "source": [
        "train_iter = iter(train_loader)\n",
        "print(type(train_iter))"
      ],
      "execution_count": 20,
      "outputs": [
        {
          "output_type": "stream",
          "name": "stdout",
          "text": [
            "<class 'torch.utils.data.dataloader._MultiProcessingDataLoaderIter'>\n"
          ]
        }
      ]
    },
    {
      "cell_type": "markdown",
      "metadata": {
        "id": "xn1czewPU6Du"
      },
      "source": [
        "We can look at images and labels of batch size by extracting data `.next()` method."
      ]
    },
    {
      "cell_type": "code",
      "metadata": {
        "ExecuteTime": {
          "end_time": "2021-05-15T12:46:16.933839Z",
          "start_time": "2021-05-15T12:46:16.927516Z"
        },
        "colab": {
          "base_uri": "https://localhost:8080/"
        },
        "id": "ivS41OQLU6Du",
        "outputId": "003243e2-8e34-49ff-a065-2f0e421c24f5"
      },
      "source": [
        "images, labels = train_iter.next()\n",
        "\n",
        "print(\"images shape on batch size = {}\".format(images.size()))\n",
        "print(\"labels shape on batch size = {}\".format(labels.size()))"
      ],
      "execution_count": 23,
      "outputs": [
        {
          "output_type": "stream",
          "name": "stdout",
          "text": [
            "images shape on batch size = torch.Size([8, 28, 28, 1])\n",
            "labels shape on batch size = torch.Size([8])\n"
          ]
        }
      ]
    },
    {
      "cell_type": "code",
      "metadata": {
        "ExecuteTime": {
          "end_time": "2021-05-15T12:46:18.927311Z",
          "start_time": "2021-05-15T12:46:18.871111Z"
        },
        "colab": {
          "base_uri": "https://localhost:8080/",
          "height": 162
        },
        "id": "H0HWOq3-U6Dv",
        "outputId": "dd273b5a-a7ea-40ee-d418-f50c69ce7c7e"
      },
      "source": [
        "# make grid takes tensor as arg\n",
        "# tensor : (batchsize, channels, height, width)\n",
        "grid = torchvision.utils.make_grid(images.permute([0, 3, 1, 2]))\n",
        "\n",
        "plt.imshow(grid.numpy().transpose((1, 2, 0)))\n",
        "plt.axis(\"off\")\n",
        "plt.title(labels.numpy());"
      ],
      "execution_count": 24,
      "outputs": [
        {
          "output_type": "stream",
          "name": "stderr",
          "text": [
            "Clipping input data to the valid range for imshow with RGB data ([0..1] for floats or [0..255] for integers).\n",
            "/usr/local/lib/python3.7/dist-packages/matplotlib/text.py:1165: FutureWarning: elementwise comparison failed; returning scalar instead, but in the future will perform elementwise comparison\n",
            "  if s != self._text:\n"
          ]
        },
        {
          "output_type": "display_data",
          "data": {
            "image/png": "[encoded data removed]",
            "text/plain": [
              "<Figure size 432x288 with 1 Axes>"
            ]
          },
          "metadata": {
            "needs_background": "light"
          }
        }
      ]
    },
    {
      "cell_type": "markdown",
      "metadata": {
        "id": "XFOBlq1VU6Dv"
      },
      "source": [
        "And now with transformations:"
      ]
    },
    {
      "cell_type": "code",
      "metadata": {
        "ExecuteTime": {
          "end_time": "2021-05-15T12:48:45.968729Z",
          "start_time": "2021-05-15T12:48:43.974652Z"
        },
        "colab": {
          "base_uri": "https://localhost:8080/"
        },
        "id": "wPUIKLitU6Dv",
        "outputId": "5f13c1e0-c694-4603-bceb-80ce4bd4b598"
      },
      "source": [
        "train_dataset_with_transform = DatasetMNIST(transform=torchvision.transforms.ToTensor())"
      ],
      "execution_count": null,
      "outputs": [
        {
          "output_type": "stream",
          "name": "stdout",
          "text": [
            "Parsing...\n",
            "found broken img: ./notMNIST_small/A/RGVtb2NyYXRpY2FCb2xkT2xkc3R5bGUgQm9sZC50dGY=.png [it's ok if <10 images are broken]\n",
            "found broken img: ./notMNIST_small/F/Q3Jvc3NvdmVyIEJvbGRPYmxpcXVlLnR0Zg==.png [it's ok if <10 images are broken]\n",
            "Done\n"
          ]
        }
      ]
    },
    {
      "cell_type": "code",
      "metadata": {
        "ExecuteTime": {
          "end_time": "2021-05-15T12:48:48.069398Z",
          "start_time": "2021-05-15T12:48:48.064151Z"
        },
        "colab": {
          "base_uri": "https://localhost:8080/"
        },
        "id": "xzQ-MawKU6Dw",
        "outputId": "ea0a0d27-656f-4b7f-d80f-51ccb888fffb"
      },
      "source": [
        "img, lab = train_dataset_with_transform.__getitem__(0)\n",
        "\n",
        "print(\"image shape at the first row : {}\".format(img.size()))"
      ],
      "execution_count": null,
      "outputs": [
        {
          "output_type": "stream",
          "name": "stdout",
          "text": [
            "image shape at the first row : torch.Size([1, 28, 28])\n"
          ]
        }
      ]
    },
    {
      "cell_type": "code",
      "metadata": {
        "ExecuteTime": {
          "end_time": "2021-05-15T12:48:57.653616Z",
          "start_time": "2021-05-15T12:48:57.640221Z"
        },
        "colab": {
          "base_uri": "https://localhost:8080/"
        },
        "id": "ANs6uZjdU6Dw",
        "outputId": "e3c0cdea-6547-4432-8c9a-0fa48bb3b5f2"
      },
      "source": [
        "train_loader_tr = DataLoader(train_dataset_with_transform, batch_size=8, shuffle=True)\n",
        "\n",
        "train_iter_tr = iter(train_loader_tr)\n",
        "print(type(train_iter_tr))\n",
        "\n",
        "images, labels = train_iter_tr.next()\n",
        "\n",
        "print(\"images shape on batch size = {}\".format(images.size()))\n",
        "print(\"labels shape on batch size = {}\".format(labels.size()))"
      ],
      "execution_count": null,
      "outputs": [
        {
          "output_type": "stream",
          "name": "stdout",
          "text": [
            "<class 'torch.utils.data.dataloader._SingleProcessDataLoaderIter'>\n",
            "images shape on batch size = torch.Size([8, 1, 28, 28])\n",
            "labels shape on batch size = torch.Size([8])\n"
          ]
        }
      ]
    },
    {
      "cell_type": "code",
      "metadata": {
        "ExecuteTime": {
          "end_time": "2021-05-15T12:49:00.216937Z",
          "start_time": "2021-05-15T12:49:00.176878Z"
        },
        "colab": {
          "base_uri": "https://localhost:8080/",
          "height": 162
        },
        "id": "SxlijnXnU6Dw",
        "outputId": "b514c597-a5f5-4e4d-a06a-e93ed0b5330c"
      },
      "source": [
        "grid = torchvision.utils.make_grid(images)\n",
        "\n",
        "plt.imshow(grid.numpy().transpose((1, 2, 0)))\n",
        "plt.axis(\"off\")\n",
        "plt.title(labels.numpy());"
      ],
      "execution_count": null,
      "outputs": [
        {
          "output_type": "stream",
          "name": "stderr",
          "text": [
            "Clipping input data to the valid range for imshow with RGB data ([0..1] for floats or [0..255] for integers).\n",
            "/usr/local/lib/python3.7/dist-packages/matplotlib/text.py:1165: FutureWarning: elementwise comparison failed; returning scalar instead, but in the future will perform elementwise comparison\n",
            "  if s != self._text:\n"
          ]
        },
        {
          "output_type": "display_data",
          "data": {
            "image/png": "[encoded data removed]",
            "text/plain": [
              "<Figure size 432x288 with 1 Axes>"
            ]
          },
          "metadata": {
            "needs_background": "light"
          }
        }
      ]
    },
    {
      "cell_type": "markdown",
      "metadata": {
        "id": "vBSacH-nU6Dw"
      },
      "source": [
        "### Composing several transformations"
      ]
    },
    {
      "cell_type": "markdown",
      "metadata": {
        "id": "bPQr7exoU6Dx"
      },
      "source": [
        "If you want to take data augmentation, you have to make List using `torchvision.transforms.Compose`\n",
        "\n",
        "```\n",
        "class Compose(object):\n",
        "    \"\"\"Composes several transforms together.\n",
        "    Args:\n",
        "        transforms (list of ``Transform`` objects): list of transforms to compose.\n",
        "    Example:\n",
        "        >>> transforms.Compose([\n",
        "        >>>     transforms.CenterCrop(10),\n",
        "        >>>     transforms.ToTensor(),\n",
        "        >>> ])\n",
        "    \"\"\"\n",
        "\n",
        "    def __init__(self, transforms):\n",
        "        self.transforms = transforms\n",
        "\n",
        "    def __call__(self, img):\n",
        "        for t in self.transforms:\n",
        "            img = t(img)\n",
        "        return img\n",
        "\n",
        "    def __repr__(self):\n",
        "        format_string = self.__class__.__name__ + '('\n",
        "        for t in self.transforms:\n",
        "            format_string += '\\n'\n",
        "            format_string += '    {0}'.format(t)\n",
        "        format_string += '\\n)'\n",
        "        return format_string\n",
        "```\n",
        "\n",
        "\n",
        "this function can convert some image by order within `__call__` method."
      ]
    },
    {
      "cell_type": "code",
      "metadata": {
        "ExecuteTime": {
          "end_time": "2021-05-15T12:50:28.015725Z",
          "start_time": "2021-05-15T12:50:28.010158Z"
        },
        "id": "GmEHD-uJU6Dx"
      },
      "source": [
        "class Flatten:\n",
        "    def __call__(self, pic):\n",
        "        return pic.flatten()\n",
        "\n",
        "    def __repr__(self):\n",
        "        return self.__class__.__name__ + \"()\""
      ],
      "execution_count": null,
      "outputs": []
    },
    {
      "cell_type": "code",
      "metadata": {
        "ExecuteTime": {
          "end_time": "2021-05-15T12:50:28.352053Z",
          "start_time": "2021-05-15T12:50:28.346656Z"
        },
        "id": "mTmh6yRPU6Dx"
      },
      "source": [
        "a = Flatten()"
      ],
      "execution_count": null,
      "outputs": []
    },
    {
      "cell_type": "code",
      "metadata": {
        "ExecuteTime": {
          "end_time": "2021-05-15T12:50:28.707188Z",
          "start_time": "2021-05-15T12:50:28.695334Z"
        },
        "colab": {
          "base_uri": "https://localhost:8080/"
        },
        "id": "iJWjinO-U6Dx",
        "outputId": "516456b5-26c0-4574-c488-90f1cfd68ce6"
      },
      "source": [
        "a(img).shape"
      ],
      "execution_count": null,
      "outputs": [
        {
          "output_type": "execute_result",
          "data": {
            "text/plain": [
              "torch.Size([784])"
            ]
          },
          "metadata": {},
          "execution_count": 30
        }
      ]
    },
    {
      "cell_type": "code",
      "metadata": {
        "ExecuteTime": {
          "end_time": "2021-05-15T12:54:57.352268Z",
          "start_time": "2021-05-15T12:54:57.347366Z"
        },
        "id": "aDHnsfxBU6Dy"
      },
      "source": [
        "new_transform = torchvision.transforms.Compose([\n",
        "#     torchvision.transforms.CenterCrop(),\n",
        "#     torchvision.transforms.Resize((640, 460)),\n",
        "    torchvision.transforms.ToTensor(),\n",
        "    Flatten(),\n",
        "])"
      ],
      "execution_count": null,
      "outputs": []
    },
    {
      "cell_type": "markdown",
      "metadata": {
        "id": "IkkiwwwQU6Dy"
      },
      "source": [
        "# Putting all together"
      ]
    },
    {
      "cell_type": "code",
      "metadata": {
        "ExecuteTime": {
          "end_time": "2021-05-15T12:55:10.862374Z",
          "start_time": "2021-05-15T12:55:10.859472Z"
        },
        "id": "mvWU_bn9U6Dy"
      },
      "source": [
        "import time\n",
        "\n",
        "from IPython.display import clear_output"
      ],
      "execution_count": null,
      "outputs": []
    },
    {
      "cell_type": "code",
      "metadata": {
        "ExecuteTime": {
          "end_time": "2021-05-15T12:55:12.366758Z",
          "start_time": "2021-05-15T12:55:12.315596Z"
        },
        "colab": {
          "base_uri": "https://localhost:8080/"
        },
        "id": "4V04hwMeU6Dy",
        "outputId": "77e45443-e0fa-4d41-9917-424e827924f6"
      },
      "source": [
        "# use GPU if available\n",
        "device = torch.device(\"cuda\") if torch.cuda.is_available() else torch.device(\"cpu\")\n",
        "device"
      ],
      "execution_count": null,
      "outputs": [
        {
          "output_type": "execute_result",
          "data": {
            "text/plain": [
              "device(type='cpu')"
            ]
          },
          "metadata": {},
          "execution_count": 33
        }
      ]
    },
    {
      "cell_type": "code",
      "metadata": {
        "ExecuteTime": {
          "end_time": "2021-05-15T12:55:18.143638Z",
          "start_time": "2021-05-15T12:55:18.139717Z"
        },
        "id": "lU7u13yeU6Dy"
      },
      "source": [
        "def subset_ind(dataset, ratio: float):\n",
        "    #     return ### YOUR CODE HERE\n",
        "    return np.random.choice(len(dataset), size=int(ratio * len(dataset)), replace=False)"
      ],
      "execution_count": null,
      "outputs": []
    },
    {
      "cell_type": "code",
      "metadata": {
        "ExecuteTime": {
          "end_time": "2021-05-15T13:26:30.886348Z",
          "start_time": "2021-05-15T13:26:28.905812Z"
        },
        "colab": {
          "base_uri": "https://localhost:8080/"
        },
        "id": "4eVG3AhAU6Dy",
        "outputId": "bb87ce52-40bc-4d0d-cf1f-f98786458de2"
      },
      "source": [
        "dataset = DatasetMNIST(\n",
        "    \"./notMNIST_small\",\n",
        "#     'AB',\n",
        "    transform=new_transform,\n",
        ")\n",
        "\n",
        "shrink_inds = subset_ind(dataset, 0.2)\n",
        "dataset = Subset(dataset, shrink_inds)\n",
        "\n",
        "print(f\"\\n\\n dataset size: {len(dataset)}, labels: {np.unique(dataset.dataset.labels)}\")"
      ],
      "execution_count": null,
      "outputs": [
        {
          "output_type": "stream",
          "name": "stdout",
          "text": [
            "Parsing...\n",
            "found broken img: ./notMNIST_small/A/RGVtb2NyYXRpY2FCb2xkT2xkc3R5bGUgQm9sZC50dGY=.png [it's ok if <10 images are broken]\n",
            "found broken img: ./notMNIST_small/F/Q3Jvc3NvdmVyIEJvbGRPYmxpcXVlLnR0Zg==.png [it's ok if <10 images are broken]\n",
            "Done\n",
            "\n",
            "\n",
            " dataset size: 3744, labels: [0 1 2 3 4 5 6 7 8 9]\n"
          ]
        }
      ]
    },
    {
      "cell_type": "code",
      "metadata": {
        "ExecuteTime": {
          "end_time": "2021-05-15T13:26:30.898973Z",
          "start_time": "2021-05-15T13:26:30.887466Z"
        },
        "colab": {
          "base_uri": "https://localhost:8080/"
        },
        "id": "zznlaUr-U6Dz",
        "outputId": "0a00d07f-dce5-45f1-c1a1-98cdde8b1d57"
      },
      "source": [
        "val_size = 0.2\n",
        "val_inds = subset_ind(dataset, val_size)\n",
        "\n",
        "train_dataset = Subset(dataset, [i for i in range(len(dataset)) if i not in val_inds])\n",
        "val_dataset = Subset(dataset, val_inds)\n",
        "\n",
        "print(f\"  training size: {len(train_dataset)}\\nvalidation size: {len(val_dataset)}\")"
      ],
      "execution_count": null,
      "outputs": [
        {
          "output_type": "stream",
          "name": "stdout",
          "text": [
            "  training size: 2996\n",
            "validation size: 748\n"
          ]
        }
      ]
    },
    {
      "cell_type": "code",
      "metadata": {
        "ExecuteTime": {
          "end_time": "2021-05-15T13:26:30.901762Z",
          "start_time": "2021-05-15T13:26:30.900015Z"
        },
        "id": "sanUEfcHU6Dz"
      },
      "source": [
        "batch_size = 32\n",
        "\n",
        "train_loader = DataLoader(train_dataset, batch_size=batch_size, shuffle=True)\n",
        "val_loader = DataLoader(val_dataset, batch_size=batch_size, shuffle=True)"
      ],
      "execution_count": null,
      "outputs": []
    },
    {
      "cell_type": "code",
      "metadata": {
        "ExecuteTime": {
          "end_time": "2021-05-15T13:26:30.906730Z",
          "start_time": "2021-05-15T13:26:30.902606Z"
        },
        "colab": {
          "base_uri": "https://localhost:8080/"
        },
        "id": "dhAEADXIU6Dz",
        "outputId": "9a66abe6-df14-420a-a70a-61671500e57b"
      },
      "source": [
        "train_iter = iter(train_loader)\n",
        "print(type(train_iter))\n",
        "\n",
        "images, labels = train_iter.next()\n",
        "\n",
        "print(\"images shape on batch size = {}\".format(images.size()))\n",
        "print(\"labels shape on batch size = {}\".format(labels.size()))"
      ],
      "execution_count": null,
      "outputs": [
        {
          "output_type": "stream",
          "name": "stdout",
          "text": [
            "<class 'torch.utils.data.dataloader._SingleProcessDataLoaderIter'>\n",
            "images shape on batch size = torch.Size([32, 784])\n",
            "labels shape on batch size = torch.Size([32])\n"
          ]
        }
      ]
    },
    {
      "cell_type": "code",
      "metadata": {
        "ExecuteTime": {
          "end_time": "2021-05-15T13:26:31.196795Z",
          "start_time": "2021-05-15T13:26:31.191358Z"
        },
        "id": "PH8V1dDaU6Dz"
      },
      "source": [
        "loss_func = nn.CrossEntropyLoss()"
      ],
      "execution_count": null,
      "outputs": []
    },
    {
      "cell_type": "code",
      "metadata": {
        "ExecuteTime": {
          "end_time": "2021-05-15T13:39:21.496016Z",
          "start_time": "2021-05-15T13:39:21.492008Z"
        },
        "id": "9V9mCzRlU6Dz"
      },
      "source": [
        "default_dtype = torch.float32"
      ],
      "execution_count": null,
      "outputs": []
    },
    {
      "cell_type": "code",
      "metadata": {
        "ExecuteTime": {
          "end_time": "2021-05-15T13:26:43.040207Z",
          "start_time": "2021-05-15T13:26:43.034595Z"
        },
        "id": "Jz3hMsucU6Dz"
      },
      "source": [
        "# create network again just in case\n",
        "model = nn.Sequential(\n",
        "    nn.Linear(784, 10),\n",
        "    nn.Sigmoid(),\n",
        ")\n",
        "model.to(device, default_dtype)\n",
        "\n",
        "opt = torch.optim.Adam(model.parameters(), lr=1e-3)"
      ],
      "execution_count": null,
      "outputs": []
    },
    {
      "cell_type": "code",
      "metadata": {
        "ExecuteTime": {
          "end_time": "2021-05-15T13:29:45.727106Z",
          "start_time": "2021-05-15T13:29:45.705384Z"
        },
        "colab": {
          "base_uri": "https://localhost:8080/"
        },
        "id": "yUZtdx6IU6D0",
        "outputId": "e8e29f2f-f469-4f39-b2f6-bc212c38ad22"
      },
      "source": [
        "preds = torch.rand(3, 10)\n",
        "preds"
      ],
      "execution_count": null,
      "outputs": [
        {
          "output_type": "execute_result",
          "data": {
            "text/plain": [
              "tensor([[0.6607, 0.3447, 0.6695, 0.9928, 0.1025, 0.7687, 0.4293, 0.3243, 0.9811,\n",
              "         0.7907],\n",
              "        [0.7734, 0.5072, 0.6746, 0.7877, 0.4167, 0.1269, 0.9453, 0.1908, 0.8600,\n",
              "         0.3949],\n",
              "        [0.9151, 0.4601, 0.0912, 0.5085, 0.3093, 0.5442, 0.1286, 0.9681, 0.7604,\n",
              "         0.3962]])"
            ]
          },
          "metadata": {},
          "execution_count": 42
        }
      ]
    },
    {
      "cell_type": "code",
      "metadata": {
        "ExecuteTime": {
          "end_time": "2021-05-15T13:32:58.577157Z",
          "start_time": "2021-05-15T13:32:58.571076Z"
        },
        "id": "IQIaUUwpU6D0"
      },
      "source": [
        "vals, inds = preds.max(-1)"
      ],
      "execution_count": null,
      "outputs": []
    },
    {
      "cell_type": "code",
      "metadata": {
        "ExecuteTime": {
          "end_time": "2021-05-15T13:32:59.013728Z",
          "start_time": "2021-05-15T13:32:59.004836Z"
        },
        "colab": {
          "base_uri": "https://localhost:8080/"
        },
        "id": "LiiAn9NdU6D0",
        "outputId": "31561fc2-b838-40f3-dc1e-a65b5da5c0b0"
      },
      "source": [
        "inds"
      ],
      "execution_count": null,
      "outputs": [
        {
          "output_type": "execute_result",
          "data": {
            "text/plain": [
              "tensor([3, 6, 7])"
            ]
          },
          "metadata": {},
          "execution_count": 44
        }
      ]
    },
    {
      "cell_type": "code",
      "metadata": {
        "ExecuteTime": {
          "end_time": "2021-05-15T13:33:03.532624Z",
          "start_time": "2021-05-15T13:33:03.522860Z"
        },
        "colab": {
          "base_uri": "https://localhost:8080/"
        },
        "id": "IyzLCiRQU6D0",
        "outputId": "0061bad2-9d73-403b-f0bd-e4215fb3cc9e"
      },
      "source": [
        "vals"
      ],
      "execution_count": null,
      "outputs": [
        {
          "output_type": "execute_result",
          "data": {
            "text/plain": [
              "tensor([0.9928, 0.9453, 0.9681])"
            ]
          },
          "metadata": {},
          "execution_count": 45
        }
      ]
    },
    {
      "cell_type": "code",
      "metadata": {
        "ExecuteTime": {
          "end_time": "2021-05-15T13:40:21.078316Z",
          "start_time": "2021-05-15T13:40:21.056750Z"
        },
        "id": "_4_np15BU6D0"
      },
      "source": [
        "def train_model(model, train_loader, val_loader, loss_fn, opt, n_epochs: int, device=device):\n",
        "    \"\"\"\n",
        "    model: нейросеть для обучения,\n",
        "    train_loader, val_loader: загрузчики данных\n",
        "    loss_fn: целевая метрика (которую будем оптимизировать)\n",
        "    opt: оптимизатор (обновляет веса нейросети)\n",
        "    n_epochs: кол-во эпох, полных проходов датасета\n",
        "    \"\"\"\n",
        "    train_loss = []\n",
        "    val_loss = []\n",
        "    val_accuracy = []\n",
        "\n",
        "    for epoch in range(n_epochs):\n",
        "        ep_train_loss = []\n",
        "        ep_val_loss = []\n",
        "        ep_val_accuracy = []\n",
        "        start_time = time.time()\n",
        "\n",
        "        model.train(True)  # enable dropout / batch_norm training behavior\n",
        "        for X_batch, y_batch in train_loader:\n",
        "            # move data to target device\n",
        "            ### YOUR CODE HERE\n",
        "            X_batch, y_batch = X_batch.to(device), y_batch.to(device)\n",
        "\n",
        "            # train on batch: compute loss, calc grads, perform optimizer step and zero the grads\n",
        "            ### YOUR CODE HERE\n",
        "            preds = model(X_batch)\n",
        "            loss = loss_fn(preds, y_batch)\n",
        "            \n",
        "            opt.zero_grad()\n",
        "            loss.backward()\n",
        "\n",
        "            opt.step()\n",
        "            \n",
        "            ep_train_loss.append(loss.item())\n",
        "\n",
        "        model.train(False)  # disable dropout / use averages for batch_norm\n",
        "        with torch.no_grad():\n",
        "            for X_batch, y_batch in val_loader:\n",
        "                # move data to target device\n",
        "                # YOUR CODE HERE\n",
        "                X_batch, y_batch = X_batch.to(device), y_batch.to(device)\n",
        "                \n",
        "                preds = model(X_batch)\n",
        "                loss = loss_fn(preds, y_batch)\n",
        "\n",
        "                # compute predictions\n",
        "                # YOUR CODE HERE\n",
        "                ep_val_loss.append(loss.item())  # YOUR CODE HERE\n",
        "                y_pred = preds.max(-1)[1]  # YOUR CODE HERE\n",
        "                ep_val_accuracy.append((y_pred == y_batch).to(default_dtype).mean().item())  # YOUR CODE HERE\n",
        "\n",
        "        # print the results for this epoch:\n",
        "        print(f\"Epoch {epoch + 1} of {n_epochs} took {time.time() - start_time:.3f}s\")\n",
        "\n",
        "        train_loss.append(np.mean(ep_train_loss))\n",
        "        val_loss.append(np.mean(ep_val_loss))\n",
        "        val_accuracy.append(np.mean(ep_val_accuracy))\n",
        "\n",
        "        print(f\"\\t  training loss: {train_loss[-1]:.6f}\")\n",
        "        print(f\"\\tvalidation loss: {val_loss[-1]:.6f}\")\n",
        "        print(f\"\\tvalidation accuracy: {val_accuracy[-1]:.3f}\")\n",
        "\n",
        "    return train_loss, val_loss, val_accuracy"
      ],
      "execution_count": null,
      "outputs": []
    },
    {
      "cell_type": "code",
      "metadata": {
        "ExecuteTime": {
          "end_time": "2021-05-15T13:40:24.480182Z",
          "start_time": "2021-05-15T13:40:21.530351Z"
        },
        "scrolled": true,
        "colab": {
          "base_uri": "https://localhost:8080/"
        },
        "id": "mz3jLVNhU6D1",
        "outputId": "b716d241-4f24-4be3-d71e-e9c842452f1d"
      },
      "source": [
        "n_epochs = 30\n",
        "\n",
        "train_loss, val_loss, val_accuracy = train_model(\n",
        "    model, train_loader, val_loader, loss_func, opt, n_epochs\n",
        ")"
      ],
      "execution_count": null,
      "outputs": [
        {
          "output_type": "stream",
          "name": "stdout",
          "text": [
            "Epoch 1 of 30 took 0.156s\n",
            "\t  training loss: 1.835064\n",
            "\tvalidation loss: 1.735561\n",
            "\tvalidation accuracy: 0.823\n",
            "Epoch 2 of 30 took 0.108s\n",
            "\t  training loss: 1.686793\n",
            "\tvalidation loss: 1.696602\n",
            "\tvalidation accuracy: 0.839\n",
            "Epoch 3 of 30 took 0.110s\n",
            "\t  training loss: 1.653916\n",
            "\tvalidation loss: 1.679076\n",
            "\tvalidation accuracy: 0.851\n",
            "Epoch 4 of 30 took 0.106s\n",
            "\t  training loss: 1.635210\n",
            "\tvalidation loss: 1.665022\n",
            "\tvalidation accuracy: 0.847\n",
            "Epoch 5 of 30 took 0.118s\n",
            "\t  training loss: 1.623566\n",
            "\tvalidation loss: 1.655099\n",
            "\tvalidation accuracy: 0.852\n",
            "Epoch 6 of 30 took 0.110s\n",
            "\t  training loss: 1.614692\n",
            "\tvalidation loss: 1.653734\n",
            "\tvalidation accuracy: 0.852\n",
            "Epoch 7 of 30 took 0.119s\n",
            "\t  training loss: 1.607607\n",
            "\tvalidation loss: 1.652749\n",
            "\tvalidation accuracy: 0.852\n",
            "Epoch 8 of 30 took 0.108s\n",
            "\t  training loss: 1.603430\n",
            "\tvalidation loss: 1.645690\n",
            "\tvalidation accuracy: 0.856\n",
            "Epoch 9 of 30 took 0.116s\n",
            "\t  training loss: 1.597442\n",
            "\tvalidation loss: 1.647014\n",
            "\tvalidation accuracy: 0.845\n",
            "Epoch 10 of 30 took 0.128s\n",
            "\t  training loss: 1.593110\n",
            "\tvalidation loss: 1.640163\n",
            "\tvalidation accuracy: 0.858\n",
            "Epoch 11 of 30 took 0.114s\n",
            "\t  training loss: 1.589514\n",
            "\tvalidation loss: 1.641923\n",
            "\tvalidation accuracy: 0.857\n",
            "Epoch 12 of 30 took 0.108s\n",
            "\t  training loss: 1.585839\n",
            "\tvalidation loss: 1.638738\n",
            "\tvalidation accuracy: 0.851\n",
            "Epoch 13 of 30 took 0.110s\n",
            "\t  training loss: 1.582437\n",
            "\tvalidation loss: 1.642066\n",
            "\tvalidation accuracy: 0.849\n",
            "Epoch 14 of 30 took 0.111s\n",
            "\t  training loss: 1.579523\n",
            "\tvalidation loss: 1.635282\n",
            "\tvalidation accuracy: 0.857\n",
            "Epoch 15 of 30 took 0.114s\n",
            "\t  training loss: 1.577261\n",
            "\tvalidation loss: 1.637700\n",
            "\tvalidation accuracy: 0.856\n",
            "Epoch 16 of 30 took 0.107s\n",
            "\t  training loss: 1.574488\n",
            "\tvalidation loss: 1.632258\n",
            "\tvalidation accuracy: 0.862\n",
            "Epoch 17 of 30 took 0.117s\n",
            "\t  training loss: 1.572396\n",
            "\tvalidation loss: 1.635691\n",
            "\tvalidation accuracy: 0.855\n",
            "Epoch 18 of 30 took 0.113s\n",
            "\t  training loss: 1.570587\n",
            "\tvalidation loss: 1.639101\n",
            "\tvalidation accuracy: 0.851\n",
            "Epoch 19 of 30 took 0.111s\n",
            "\t  training loss: 1.568520\n",
            "\tvalidation loss: 1.633440\n",
            "\tvalidation accuracy: 0.857\n",
            "Epoch 20 of 30 took 0.107s\n",
            "\t  training loss: 1.566813\n",
            "\tvalidation loss: 1.633270\n",
            "\tvalidation accuracy: 0.859\n",
            "Epoch 21 of 30 took 0.111s\n",
            "\t  training loss: 1.564412\n",
            "\tvalidation loss: 1.636265\n",
            "\tvalidation accuracy: 0.852\n",
            "Epoch 22 of 30 took 0.106s\n",
            "\t  training loss: 1.563033\n",
            "\tvalidation loss: 1.631700\n",
            "\tvalidation accuracy: 0.859\n",
            "Epoch 23 of 30 took 0.121s\n",
            "\t  training loss: 1.560847\n",
            "\tvalidation loss: 1.632429\n",
            "\tvalidation accuracy: 0.851\n",
            "Epoch 24 of 30 took 0.114s\n",
            "\t  training loss: 1.559762\n",
            "\tvalidation loss: 1.635905\n",
            "\tvalidation accuracy: 0.848\n",
            "Epoch 25 of 30 took 0.117s\n",
            "\t  training loss: 1.558116\n",
            "\tvalidation loss: 1.629129\n",
            "\tvalidation accuracy: 0.860\n",
            "Epoch 26 of 30 took 0.108s\n",
            "\t  training loss: 1.556567\n",
            "\tvalidation loss: 1.631970\n",
            "\tvalidation accuracy: 0.850\n",
            "Epoch 27 of 30 took 0.114s\n",
            "\t  training loss: 1.554862\n",
            "\tvalidation loss: 1.631271\n",
            "\tvalidation accuracy: 0.854\n",
            "Epoch 28 of 30 took 0.114s\n",
            "\t  training loss: 1.553972\n",
            "\tvalidation loss: 1.627098\n",
            "\tvalidation accuracy: 0.859\n",
            "Epoch 29 of 30 took 0.112s\n",
            "\t  training loss: 1.552265\n",
            "\tvalidation loss: 1.631722\n",
            "\tvalidation accuracy: 0.852\n",
            "Epoch 30 of 30 took 0.110s\n",
            "\t  training loss: 1.551114\n",
            "\tvalidation loss: 1.631873\n",
            "\tvalidation accuracy: 0.850\n"
          ]
        }
      ]
    },
    {
      "cell_type": "code",
      "metadata": {
        "ExecuteTime": {
          "end_time": "2021-05-15T13:40:27.838414Z",
          "start_time": "2021-05-15T13:40:27.828749Z"
        },
        "id": "SgZKTKoWU6D1"
      },
      "source": [
        "def plot_train_process(train_loss, val_loss, val_accuracy):\n",
        "    fig, axes = plt.subplots(1, 2, figsize=(15, 5))\n",
        "\n",
        "    axes[0].set_title(\"Loss\")\n",
        "    axes[0].plot(train_loss, label=\"train\")\n",
        "    axes[0].plot(val_loss, label=\"validation\")\n",
        "    axes[0].legend()\n",
        "\n",
        "    axes[1].set_title(\"Validation accuracy\")\n",
        "    axes[1].plot(val_accuracy)"
      ],
      "execution_count": null,
      "outputs": []
    },
    {
      "cell_type": "code",
      "metadata": {
        "ExecuteTime": {
          "end_time": "2021-05-15T13:40:30.092123Z",
          "start_time": "2021-05-15T13:40:29.940637Z"
        },
        "colab": {
          "base_uri": "https://localhost:8080/",
          "height": 336
        },
        "id": "6KgZ8IPeU6D2",
        "outputId": "e6d6fb50-bfaf-4a1a-96bd-0c34ef22af99"
      },
      "source": [
        "plot_train_process(train_loss, val_loss, val_accuracy)"
      ],
      "execution_count": null,
      "outputs": [
        {
          "output_type": "display_data",
          "data": {
            "image/png": "[encoded data removed]",
            "text/plain": [
              "<Figure size 1080x360 with 2 Axes>"
            ]
          },
          "metadata": {
            "needs_background": "light"
          }
        }
      ]
    },
    {
      "cell_type": "markdown",
      "metadata": {
        "id": "TCB_OrjfU6D2"
      },
      "source": [
        "## Real network"
      ]
    },
    {
      "cell_type": "code",
      "metadata": {
        "ExecuteTime": {
          "end_time": "2021-05-15T13:41:24.634646Z",
          "start_time": "2021-05-15T13:41:24.607929Z"
        },
        "id": "Nz3f-DEmU6D2"
      },
      "source": [
        "# create network again just in case\n",
        "model = nn.Sequential(\n",
        "    nn.Linear(784, 500),\n",
        "    nn.ReLU(),\n",
        "    nn.Linear(500, 200),\n",
        "    # батч норм используем перед функцией активации, т к хотим нормализовать данные примерно на середину (влияет на скорость)\n",
        "    # nn.BatchNorm1d - плоские вектора\n",
        "    # nn.BatchNorm2d - картинки\n",
        "    # nn.BatchNorm3d - сканы томограмм\n",
        "    nn.BatchNorm1d(500)\n",
        "    nn.ReLU(),\n",
        "    # Dropout - правильно делать в конце нейросети перед предпоследним слоем (влияет на переобучение)\n",
        "    nn.Dropout(0.5) # чем больше, тем надежнее\n",
        "    nn.Linear(200, 10), \n",
        "    nn.Sigmoid(),\n",
        ")\n",
        "model.to(device, torch.float32)\n",
        "\n",
        "opt = torch.optim.Adam(model.parameters(), lr=1e-3)"
      ],
      "execution_count": null,
      "outputs": []
    },
    {
      "cell_type": "code",
      "metadata": {
        "ExecuteTime": {
          "end_time": "2021-05-15T13:41:29.863664Z",
          "start_time": "2021-05-15T13:41:25.386811Z"
        },
        "scrolled": true,
        "colab": {
          "base_uri": "https://localhost:8080/"
        },
        "id": "RTgMVvPlU6D2",
        "outputId": "1257f729-dd9f-41e3-a061-70c2eea99e21"
      },
      "source": [
        "n_epochs = 30\n",
        "\n",
        "train_loss, val_loss, val_accuracy = train_model(\n",
        "    model, train_loader, val_loader, loss_func, opt, n_epochs\n",
        ")"
      ],
      "execution_count": null,
      "outputs": [
        {
          "output_type": "stream",
          "name": "stdout",
          "text": [
            "Epoch 1 of 30 took 0.526s\n",
            "\t  training loss: 1.695589\n",
            "\tvalidation loss: 1.613176\n",
            "\tvalidation accuracy: 0.844\n",
            "Epoch 2 of 30 took 0.490s\n",
            "\t  training loss: 1.568605\n",
            "\tvalidation loss: 1.600550\n",
            "\tvalidation accuracy: 0.861\n",
            "Epoch 3 of 30 took 0.560s\n",
            "\t  training loss: 1.545509\n",
            "\tvalidation loss: 1.587820\n",
            "\tvalidation accuracy: 0.866\n",
            "Epoch 4 of 30 took 0.551s\n",
            "\t  training loss: 1.530476\n",
            "\tvalidation loss: 1.579722\n",
            "\tvalidation accuracy: 0.873\n",
            "Epoch 5 of 30 took 0.505s\n",
            "\t  training loss: 1.522142\n",
            "\tvalidation loss: 1.585469\n",
            "\tvalidation accuracy: 0.872\n",
            "Epoch 6 of 30 took 0.488s\n",
            "\t  training loss: 1.515203\n",
            "\tvalidation loss: 1.580398\n",
            "\tvalidation accuracy: 0.879\n",
            "Epoch 7 of 30 took 0.490s\n",
            "\t  training loss: 1.510805\n",
            "\tvalidation loss: 1.574075\n",
            "\tvalidation accuracy: 0.884\n",
            "Epoch 8 of 30 took 0.519s\n",
            "\t  training loss: 1.508263\n",
            "\tvalidation loss: 1.575187\n",
            "\tvalidation accuracy: 0.886\n",
            "Epoch 9 of 30 took 0.515s\n",
            "\t  training loss: 1.508626\n",
            "\tvalidation loss: 1.578499\n",
            "\tvalidation accuracy: 0.876\n",
            "Epoch 10 of 30 took 0.512s\n",
            "\t  training loss: 1.504713\n",
            "\tvalidation loss: 1.582800\n",
            "\tvalidation accuracy: 0.872\n",
            "Epoch 11 of 30 took 0.502s\n",
            "\t  training loss: 1.501685\n",
            "\tvalidation loss: 1.573155\n",
            "\tvalidation accuracy: 0.888\n",
            "Epoch 12 of 30 took 0.495s\n",
            "\t  training loss: 1.499311\n",
            "\tvalidation loss: 1.576451\n",
            "\tvalidation accuracy: 0.882\n",
            "Epoch 13 of 30 took 0.519s\n",
            "\t  training loss: 1.501670\n",
            "\tvalidation loss: 1.574604\n",
            "\tvalidation accuracy: 0.880\n",
            "Epoch 14 of 30 took 0.494s\n",
            "\t  training loss: 1.500685\n",
            "\tvalidation loss: 1.582298\n",
            "\tvalidation accuracy: 0.877\n",
            "Epoch 15 of 30 took 0.504s\n",
            "\t  training loss: 1.499352\n",
            "\tvalidation loss: 1.573751\n",
            "\tvalidation accuracy: 0.883\n",
            "Epoch 16 of 30 took 0.520s\n",
            "\t  training loss: 1.498682\n",
            "\tvalidation loss: 1.584227\n",
            "\tvalidation accuracy: 0.875\n",
            "Epoch 17 of 30 took 0.517s\n",
            "\t  training loss: 1.497959\n",
            "\tvalidation loss: 1.581885\n",
            "\tvalidation accuracy: 0.879\n",
            "Epoch 18 of 30 took 0.511s\n",
            "\t  training loss: 1.497468\n",
            "\tvalidation loss: 1.584968\n",
            "\tvalidation accuracy: 0.876\n",
            "Epoch 19 of 30 took 0.513s\n",
            "\t  training loss: 1.504056\n",
            "\tvalidation loss: 1.573056\n",
            "\tvalidation accuracy: 0.886\n",
            "Epoch 20 of 30 took 0.516s\n",
            "\t  training loss: 1.499154\n",
            "\tvalidation loss: 1.571613\n",
            "\tvalidation accuracy: 0.889\n",
            "Epoch 21 of 30 took 0.522s\n",
            "\t  training loss: 1.498763\n",
            "\tvalidation loss: 1.585154\n",
            "\tvalidation accuracy: 0.876\n",
            "Epoch 22 of 30 took 0.517s\n",
            "\t  training loss: 1.502203\n",
            "\tvalidation loss: 1.580104\n",
            "\tvalidation accuracy: 0.876\n",
            "Epoch 23 of 30 took 0.517s\n",
            "\t  training loss: 1.499609\n",
            "\tvalidation loss: 1.578797\n",
            "\tvalidation accuracy: 0.881\n",
            "Epoch 24 of 30 took 0.549s\n",
            "\t  training loss: 1.497303\n",
            "\tvalidation loss: 1.589286\n",
            "\tvalidation accuracy: 0.869\n",
            "Epoch 25 of 30 took 0.551s\n",
            "\t  training loss: 1.504993\n",
            "\tvalidation loss: 1.596544\n",
            "\tvalidation accuracy: 0.861\n",
            "Epoch 26 of 30 took 0.544s\n",
            "\t  training loss: 1.502629\n",
            "\tvalidation loss: 1.589363\n",
            "\tvalidation accuracy: 0.872\n",
            "Epoch 27 of 30 took 0.582s\n",
            "\t  training loss: 1.500176\n",
            "\tvalidation loss: 1.585860\n",
            "\tvalidation accuracy: 0.873\n",
            "Epoch 28 of 30 took 0.572s\n",
            "\t  training loss: 1.500443\n",
            "\tvalidation loss: 1.586045\n",
            "\tvalidation accuracy: 0.868\n",
            "Epoch 29 of 30 took 0.600s\n",
            "\t  training loss: 1.500263\n",
            "\tvalidation loss: 1.584659\n",
            "\tvalidation accuracy: 0.873\n",
            "Epoch 30 of 30 took 0.585s\n",
            "\t  training loss: 1.494545\n",
            "\tvalidation loss: 1.588614\n",
            "\tvalidation accuracy: 0.870\n"
          ]
        }
      ]
    },
    {
      "cell_type": "code",
      "metadata": {
        "ExecuteTime": {
          "end_time": "2021-05-15T13:41:31.488836Z",
          "start_time": "2021-05-15T13:41:31.301761Z"
        },
        "colab": {
          "base_uri": "https://localhost:8080/",
          "height": 336
        },
        "id": "-nmWVRMPU6D2",
        "outputId": "272ab2fb-61d9-4bda-b4c8-ec294f571dc6"
      },
      "source": [
        "plot_train_process(train_loss, val_loss, val_accuracy)"
      ],
      "execution_count": null,
      "outputs": [
        {
          "output_type": "display_data",
          "data": {
            "image/png": "[encoded data removed]",
            "text/plain": [
              "<Figure size 1080x360 with 2 Axes>"
            ]
          },
          "metadata": {
            "needs_background": "light"
          }
        }
      ]
    },
    {
      "cell_type": "code",
      "metadata": {
        "ExecuteTime": {
          "end_time": "2021-05-15T13:42:16.482260Z",
          "start_time": "2021-05-15T13:42:16.472078Z"
        },
        "id": "hO0h0XPLU6D2"
      },
      "source": [
        "import torchsummary"
      ],
      "execution_count": null,
      "outputs": []
    },
    {
      "cell_type": "code",
      "metadata": {
        "ExecuteTime": {
          "end_time": "2021-05-15T13:42:36.103157Z",
          "start_time": "2021-05-15T13:42:36.100645Z"
        },
        "id": "YGCQlKiGU6D3",
        "outputId": "52604073-e6df-4ff3-88c4-d665e74502be"
      },
      "source": [
        "28**2"
      ],
      "execution_count": null,
      "outputs": [
        {
          "data": {
            "text/plain": [
              "784"
            ]
          },
          "execution_count": 111,
          "metadata": {},
          "output_type": "execute_result"
        }
      ]
    },
    {
      "cell_type": "code",
      "metadata": {
        "ExecuteTime": {
          "end_time": "2021-05-15T13:43:04.059733Z",
          "start_time": "2021-05-15T13:43:04.030038Z"
        },
        "colab": {
          "base_uri": "https://localhost:8080/"
        },
        "id": "C4y4zDRVU6D3",
        "outputId": "d973e9a4-efcd-43b2-9c3a-9e2c9c3192c6"
      },
      "source": [
        "torchsummary.summary(model, (784,))"
      ],
      "execution_count": null,
      "outputs": [
        {
          "output_type": "stream",
          "name": "stdout",
          "text": [
            "----------------------------------------------------------------\n",
            "        Layer (type)               Output Shape         Param #\n",
            "================================================================\n",
            "            Linear-1                  [-1, 500]         392,500\n",
            "              ReLU-2                  [-1, 500]               0\n",
            "            Linear-3                  [-1, 200]         100,200\n",
            "              ReLU-4                  [-1, 200]               0\n",
            "            Linear-5                   [-1, 10]           2,010\n",
            "           Sigmoid-6                   [-1, 10]               0\n",
            "================================================================\n",
            "Total params: 494,710\n",
            "Trainable params: 494,710\n",
            "Non-trainable params: 0\n",
            "----------------------------------------------------------------\n",
            "Input size (MB): 0.00\n",
            "Forward/backward pass size (MB): 0.01\n",
            "Params size (MB): 1.89\n",
            "Estimated Total Size (MB): 1.90\n",
            "----------------------------------------------------------------\n"
          ]
        }
      ]
    },
    {
      "cell_type": "markdown",
      "metadata": {
        "id": "vCZUyzD3U6D3"
      },
      "source": [
        "## Overfit!!!"
      ]
    },
    {
      "cell_type": "code",
      "metadata": {
        "ExecuteTime": {
          "end_time": "2020-02-28T10:03:53.482972Z",
          "start_time": "2020-02-28T10:03:53.472190Z"
        },
        "id": "8FfvkQLTU6D3"
      },
      "source": [
        "# create network again just in case\n",
        "model = nn.Sequential(\n",
        "    nn.Linear(784, 600),\n",
        "    nn.ReLU(),\n",
        "    nn.Linear(600, 500),\n",
        "    nn.ReLU(),\n",
        "    nn.Linear(500, 400),\n",
        "    nn.ReLU(),\n",
        "    nn.Linear(500, 200),\n",
        "    nn.ReLU(),\n",
        "    nn.Linear(200, 10),\n",
        "    nn.Sigmoid(),\n",
        ")\n",
        "model.to(device, torch.float32)\n",
        "\n",
        "opt = torch.optim.Adam(model.parameters(), lr=1e-3)"
      ],
      "execution_count": null,
      "outputs": []
    },
    {
      "cell_type": "code",
      "metadata": {
        "ExecuteTime": {
          "end_time": "2020-02-28T10:04:11.834052Z",
          "start_time": "2020-02-28T10:03:55.005294Z"
        },
        "scrolled": true,
        "colab": {
          "base_uri": "https://localhost:8080/",
          "height": 358
        },
        "id": "V3-pMXxpU6D3",
        "outputId": "a9f5ce34-d8cc-4798-f692-5e520d2e9171"
      },
      "source": [
        "n_epochs = 30\n",
        "\n",
        "train_loss, val_loss, val_accuracy = train_model(\n",
        "    model, train_loader, val_loader, loss_func, opt, n_epochs\n",
        ")"
      ],
      "execution_count": null,
      "outputs": [
        {
          "output_type": "error",
          "ename": "RuntimeError",
          "evalue": "ignored",
          "traceback": [
            "\u001b[0;31m---------------------------------------------------------------------------\u001b[0m",
            "\u001b[0;31mRuntimeError\u001b[0m                              Traceback (most recent call last)",
            "\u001b[0;32m<ipython-input-57-de685126b2d1>\u001b[0m in \u001b[0;36m<module>\u001b[0;34m()\u001b[0m\n\u001b[1;32m      2\u001b[0m \u001b[0;34m\u001b[0m\u001b[0m\n\u001b[1;32m      3\u001b[0m train_loss, val_loss, val_accuracy = train_model(\n\u001b[0;32m----> 4\u001b[0;31m     \u001b[0mmodel\u001b[0m\u001b[0;34m,\u001b[0m \u001b[0mtrain_loader\u001b[0m\u001b[0;34m,\u001b[0m \u001b[0mval_loader\u001b[0m\u001b[0;34m,\u001b[0m \u001b[0mloss_func\u001b[0m\u001b[0;34m,\u001b[0m \u001b[0mopt\u001b[0m\u001b[0;34m,\u001b[0m \u001b[0mn_epochs\u001b[0m\u001b[0;34m\u001b[0m\u001b[0;34m\u001b[0m\u001b[0m\n\u001b[0m\u001b[1;32m      5\u001b[0m )\n",
            "\u001b[0;32m<ipython-input-46-a8cdda77c50a>\u001b[0m in \u001b[0;36mtrain_model\u001b[0;34m(model, train_loader, val_loader, loss_fn, opt, n_epochs, device)\u001b[0m\n\u001b[1;32m     25\u001b[0m             \u001b[0;31m# train on batch: compute loss, calc grads, perform optimizer step and zero the grads\u001b[0m\u001b[0;34m\u001b[0m\u001b[0;34m\u001b[0m\u001b[0;34m\u001b[0m\u001b[0m\n\u001b[1;32m     26\u001b[0m             \u001b[0;31m### YOUR CODE HERE\u001b[0m\u001b[0;34m\u001b[0m\u001b[0;34m\u001b[0m\u001b[0;34m\u001b[0m\u001b[0m\n\u001b[0;32m---> 27\u001b[0;31m             \u001b[0mpreds\u001b[0m \u001b[0;34m=\u001b[0m \u001b[0mmodel\u001b[0m\u001b[0;34m(\u001b[0m\u001b[0mX_batch\u001b[0m\u001b[0;34m)\u001b[0m\u001b[0;34m\u001b[0m\u001b[0;34m\u001b[0m\u001b[0m\n\u001b[0m\u001b[1;32m     28\u001b[0m             \u001b[0mloss\u001b[0m \u001b[0;34m=\u001b[0m \u001b[0mloss_fn\u001b[0m\u001b[0;34m(\u001b[0m\u001b[0mpreds\u001b[0m\u001b[0;34m,\u001b[0m \u001b[0my_batch\u001b[0m\u001b[0;34m)\u001b[0m\u001b[0;34m\u001b[0m\u001b[0;34m\u001b[0m\u001b[0m\n\u001b[1;32m     29\u001b[0m \u001b[0;34m\u001b[0m\u001b[0m\n",
            "\u001b[0;32m/usr/local/lib/python3.7/dist-packages/torch/nn/modules/module.py\u001b[0m in \u001b[0;36m_call_impl\u001b[0;34m(self, *input, **kwargs)\u001b[0m\n\u001b[1;32m   1049\u001b[0m         if not (self._backward_hooks or self._forward_hooks or self._forward_pre_hooks or _global_backward_hooks\n\u001b[1;32m   1050\u001b[0m                 or _global_forward_hooks or _global_forward_pre_hooks):\n\u001b[0;32m-> 1051\u001b[0;31m             \u001b[0;32mreturn\u001b[0m \u001b[0mforward_call\u001b[0m\u001b[0;34m(\u001b[0m\u001b[0;34m*\u001b[0m\u001b[0minput\u001b[0m\u001b[0;34m,\u001b[0m \u001b[0;34m**\u001b[0m\u001b[0mkwargs\u001b[0m\u001b[0;34m)\u001b[0m\u001b[0;34m\u001b[0m\u001b[0;34m\u001b[0m\u001b[0m\n\u001b[0m\u001b[1;32m   1052\u001b[0m         \u001b[0;31m# Do not call functions when jit is used\u001b[0m\u001b[0;34m\u001b[0m\u001b[0;34m\u001b[0m\u001b[0;34m\u001b[0m\u001b[0m\n\u001b[1;32m   1053\u001b[0m         \u001b[0mfull_backward_hooks\u001b[0m\u001b[0;34m,\u001b[0m \u001b[0mnon_full_backward_hooks\u001b[0m \u001b[0;34m=\u001b[0m \u001b[0;34m[\u001b[0m\u001b[0;34m]\u001b[0m\u001b[0;34m,\u001b[0m \u001b[0;34m[\u001b[0m\u001b[0;34m]\u001b[0m\u001b[0;34m\u001b[0m\u001b[0;34m\u001b[0m\u001b[0m\n",
            "\u001b[0;32m/usr/local/lib/python3.7/dist-packages/torch/nn/modules/container.py\u001b[0m in \u001b[0;36mforward\u001b[0;34m(self, input)\u001b[0m\n\u001b[1;32m    137\u001b[0m     \u001b[0;32mdef\u001b[0m \u001b[0mforward\u001b[0m\u001b[0;34m(\u001b[0m\u001b[0mself\u001b[0m\u001b[0;34m,\u001b[0m \u001b[0minput\u001b[0m\u001b[0;34m)\u001b[0m\u001b[0;34m:\u001b[0m\u001b[0;34m\u001b[0m\u001b[0;34m\u001b[0m\u001b[0m\n\u001b[1;32m    138\u001b[0m         \u001b[0;32mfor\u001b[0m \u001b[0mmodule\u001b[0m \u001b[0;32min\u001b[0m \u001b[0mself\u001b[0m\u001b[0;34m:\u001b[0m\u001b[0;34m\u001b[0m\u001b[0;34m\u001b[0m\u001b[0m\n\u001b[0;32m--> 139\u001b[0;31m             \u001b[0minput\u001b[0m \u001b[0;34m=\u001b[0m \u001b[0mmodule\u001b[0m\u001b[0;34m(\u001b[0m\u001b[0minput\u001b[0m\u001b[0;34m)\u001b[0m\u001b[0;34m\u001b[0m\u001b[0;34m\u001b[0m\u001b[0m\n\u001b[0m\u001b[1;32m    140\u001b[0m         \u001b[0;32mreturn\u001b[0m \u001b[0minput\u001b[0m\u001b[0;34m\u001b[0m\u001b[0;34m\u001b[0m\u001b[0m\n\u001b[1;32m    141\u001b[0m \u001b[0;34m\u001b[0m\u001b[0m\n",
            "\u001b[0;32m/usr/local/lib/python3.7/dist-packages/torch/nn/modules/module.py\u001b[0m in \u001b[0;36m_call_impl\u001b[0;34m(self, *input, **kwargs)\u001b[0m\n\u001b[1;32m   1049\u001b[0m         if not (self._backward_hooks or self._forward_hooks or self._forward_pre_hooks or _global_backward_hooks\n\u001b[1;32m   1050\u001b[0m                 or _global_forward_hooks or _global_forward_pre_hooks):\n\u001b[0;32m-> 1051\u001b[0;31m             \u001b[0;32mreturn\u001b[0m \u001b[0mforward_call\u001b[0m\u001b[0;34m(\u001b[0m\u001b[0;34m*\u001b[0m\u001b[0minput\u001b[0m\u001b[0;34m,\u001b[0m \u001b[0;34m**\u001b[0m\u001b[0mkwargs\u001b[0m\u001b[0;34m)\u001b[0m\u001b[0;34m\u001b[0m\u001b[0;34m\u001b[0m\u001b[0m\n\u001b[0m\u001b[1;32m   1052\u001b[0m         \u001b[0;31m# Do not call functions when jit is used\u001b[0m\u001b[0;34m\u001b[0m\u001b[0;34m\u001b[0m\u001b[0;34m\u001b[0m\u001b[0m\n\u001b[1;32m   1053\u001b[0m         \u001b[0mfull_backward_hooks\u001b[0m\u001b[0;34m,\u001b[0m \u001b[0mnon_full_backward_hooks\u001b[0m \u001b[0;34m=\u001b[0m \u001b[0;34m[\u001b[0m\u001b[0;34m]\u001b[0m\u001b[0;34m,\u001b[0m \u001b[0;34m[\u001b[0m\u001b[0;34m]\u001b[0m\u001b[0;34m\u001b[0m\u001b[0;34m\u001b[0m\u001b[0m\n",
            "\u001b[0;32m/usr/local/lib/python3.7/dist-packages/torch/nn/modules/linear.py\u001b[0m in \u001b[0;36mforward\u001b[0;34m(self, input)\u001b[0m\n\u001b[1;32m     94\u001b[0m \u001b[0;34m\u001b[0m\u001b[0m\n\u001b[1;32m     95\u001b[0m     \u001b[0;32mdef\u001b[0m \u001b[0mforward\u001b[0m\u001b[0;34m(\u001b[0m\u001b[0mself\u001b[0m\u001b[0;34m,\u001b[0m \u001b[0minput\u001b[0m\u001b[0;34m:\u001b[0m \u001b[0mTensor\u001b[0m\u001b[0;34m)\u001b[0m \u001b[0;34m->\u001b[0m \u001b[0mTensor\u001b[0m\u001b[0;34m:\u001b[0m\u001b[0;34m\u001b[0m\u001b[0;34m\u001b[0m\u001b[0m\n\u001b[0;32m---> 96\u001b[0;31m         \u001b[0;32mreturn\u001b[0m \u001b[0mF\u001b[0m\u001b[0;34m.\u001b[0m\u001b[0mlinear\u001b[0m\u001b[0;34m(\u001b[0m\u001b[0minput\u001b[0m\u001b[0;34m,\u001b[0m \u001b[0mself\u001b[0m\u001b[0;34m.\u001b[0m\u001b[0mweight\u001b[0m\u001b[0;34m,\u001b[0m \u001b[0mself\u001b[0m\u001b[0;34m.\u001b[0m\u001b[0mbias\u001b[0m\u001b[0;34m)\u001b[0m\u001b[0;34m\u001b[0m\u001b[0;34m\u001b[0m\u001b[0m\n\u001b[0m\u001b[1;32m     97\u001b[0m \u001b[0;34m\u001b[0m\u001b[0m\n\u001b[1;32m     98\u001b[0m     \u001b[0;32mdef\u001b[0m \u001b[0mextra_repr\u001b[0m\u001b[0;34m(\u001b[0m\u001b[0mself\u001b[0m\u001b[0;34m)\u001b[0m \u001b[0;34m->\u001b[0m \u001b[0mstr\u001b[0m\u001b[0;34m:\u001b[0m\u001b[0;34m\u001b[0m\u001b[0;34m\u001b[0m\u001b[0m\n",
            "\u001b[0;32m/usr/local/lib/python3.7/dist-packages/torch/nn/functional.py\u001b[0m in \u001b[0;36mlinear\u001b[0;34m(input, weight, bias)\u001b[0m\n\u001b[1;32m   1845\u001b[0m     \u001b[0;32mif\u001b[0m \u001b[0mhas_torch_function_variadic\u001b[0m\u001b[0;34m(\u001b[0m\u001b[0minput\u001b[0m\u001b[0;34m,\u001b[0m \u001b[0mweight\u001b[0m\u001b[0;34m)\u001b[0m\u001b[0;34m:\u001b[0m\u001b[0;34m\u001b[0m\u001b[0;34m\u001b[0m\u001b[0m\n\u001b[1;32m   1846\u001b[0m         \u001b[0;32mreturn\u001b[0m \u001b[0mhandle_torch_function\u001b[0m\u001b[0;34m(\u001b[0m\u001b[0mlinear\u001b[0m\u001b[0;34m,\u001b[0m \u001b[0;34m(\u001b[0m\u001b[0minput\u001b[0m\u001b[0;34m,\u001b[0m \u001b[0mweight\u001b[0m\u001b[0;34m)\u001b[0m\u001b[0;34m,\u001b[0m \u001b[0minput\u001b[0m\u001b[0;34m,\u001b[0m \u001b[0mweight\u001b[0m\u001b[0;34m,\u001b[0m \u001b[0mbias\u001b[0m\u001b[0;34m=\u001b[0m\u001b[0mbias\u001b[0m\u001b[0;34m)\u001b[0m\u001b[0;34m\u001b[0m\u001b[0;34m\u001b[0m\u001b[0m\n\u001b[0;32m-> 1847\u001b[0;31m     \u001b[0;32mreturn\u001b[0m \u001b[0mtorch\u001b[0m\u001b[0;34m.\u001b[0m\u001b[0m_C\u001b[0m\u001b[0;34m.\u001b[0m\u001b[0m_nn\u001b[0m\u001b[0;34m.\u001b[0m\u001b[0mlinear\u001b[0m\u001b[0;34m(\u001b[0m\u001b[0minput\u001b[0m\u001b[0;34m,\u001b[0m \u001b[0mweight\u001b[0m\u001b[0;34m,\u001b[0m \u001b[0mbias\u001b[0m\u001b[0;34m)\u001b[0m\u001b[0;34m\u001b[0m\u001b[0;34m\u001b[0m\u001b[0m\n\u001b[0m\u001b[1;32m   1848\u001b[0m \u001b[0;34m\u001b[0m\u001b[0m\n\u001b[1;32m   1849\u001b[0m \u001b[0;34m\u001b[0m\u001b[0m\n",
            "\u001b[0;31mRuntimeError\u001b[0m: mat1 and mat2 shapes cannot be multiplied (32x400 and 500x200)"
          ]
        }
      ]
    },
    {
      "cell_type": "code",
      "metadata": {
        "ExecuteTime": {
          "end_time": "2020-02-28T10:10:20.888744Z",
          "start_time": "2020-02-28T10:10:20.487942Z"
        },
        "id": "rnBQOHv6U6D4",
        "outputId": "5548453f-7be7-4095-b68e-062394dd9a5c"
      },
      "source": [
        "plot_train_process(train_loss, val_loss, val_accuracy)"
      ],
      "execution_count": null,
      "outputs": [
        {
          "data": {
            "image/png": "[encoded data removed]",
            "text/plain": [
              "<Figure size 1080x360 with 2 Axes>"
            ]
          },
          "metadata": {
            "needs_background": "light"
          },
          "output_type": "display_data"
        }
      ]
    },
    {
      "cell_type": "markdown",
      "metadata": {
        "id": "U-YbZBD6U6D4"
      },
      "source": [
        "## Your turn\n",
        "Try to add some additional transformations (e.g. random crop, rotation etc.) and train your model!"
      ]
    },
    {
      "cell_type": "markdown",
      "metadata": {
        "id": "xx24rAIhU6D4"
      },
      "source": [
        "### Dropout try"
      ]
    },
    {
      "cell_type": "code",
      "metadata": {
        "id": "FF_WezARU6D4"
      },
      "source": [
        ""
      ],
      "execution_count": null,
      "outputs": []
    },
    {
      "cell_type": "markdown",
      "metadata": {
        "id": "2_sKWpOxU6D4"
      },
      "source": [
        "### Batchnorm try"
      ]
    },
    {
      "cell_type": "code",
      "metadata": {
        "id": "0aJUIAcbU6D4"
      },
      "source": [
        ""
      ],
      "execution_count": null,
      "outputs": []
    },
    {
      "cell_type": "markdown",
      "metadata": {
        "id": "C-aOORyxU6D4"
      },
      "source": [
        "### 3. Save the model (model checkpointing)\n",
        "\n",
        "Now we have trained a model! Obviously we do not want to retrain the model everytime we want to use it. Plus if you are training a super big model, you probably want to save checkpoint periodically so that you can always fall back to the last checkpoint in case something bad happened or you simply want to test models at different training iterations.\n",
        "\n",
        "Model checkpointing is fairly simple in PyTorch. First, we define a helper function that can save a model to the disk"
      ]
    },
    {
      "cell_type": "code",
      "metadata": {
        "id": "mWf1a3FlU6D5"
      },
      "source": [
        "def save_checkpoint(checkpoint_path, model, optimizer):\n",
        "    # state_dict: a Python dictionary object that:\n",
        "    # - for a model, maps each layer to its parameter tensor;\n",
        "    # - for an optimizer, contains info about the optimizer’s states and hyperparameters used.\n",
        "    state = {\"state_dict\": model.state_dict(), \"optimizer\": optimizer.state_dict()}\n",
        "    torch.save(state, checkpoint_path)\n",
        "    print(\"model saved to %s\" % checkpoint_path)\n",
        "\n",
        "\n",
        "def load_checkpoint(checkpoint_path, model, optimizer):\n",
        "    state = torch.load(checkpoint_path)\n",
        "    model.load_state_dict(state[\"state_dict\"])\n",
        "    optimizer.load_state_dict(state[\"optimizer\"])\n",
        "    print(\"model loaded from %s\" % checkpoint_path)"
      ],
      "execution_count": null,
      "outputs": []
    },
    {
      "cell_type": "code",
      "metadata": {
        "colab": {
          "base_uri": "https://localhost:8080/",
          "height": 232
        },
        "id": "piaaLcOKU6D5",
        "outputId": "ba79ea05-3fcf-4620-ebc9-ca8960e5b33d"
      },
      "source": [
        "# create a brand new model\n",
        "model = Net().to(device)\n",
        "optimizer = optim.SGD(model.parameters(), lr=0.001, momentum=0.9)\n",
        "# Testing -- you should get a pretty poor performance since the model hasn't learned anything yet.\n",
        "test()"
      ],
      "execution_count": null,
      "outputs": [
        {
          "output_type": "error",
          "ename": "NameError",
          "evalue": "ignored",
          "traceback": [
            "\u001b[0;31m---------------------------------------------------------------------------\u001b[0m",
            "\u001b[0;31mNameError\u001b[0m                                 Traceback (most recent call last)",
            "\u001b[0;32m<ipython-input-59-8d5190dfdb96>\u001b[0m in \u001b[0;36m<module>\u001b[0;34m()\u001b[0m\n\u001b[1;32m      1\u001b[0m \u001b[0;31m# create a brand new model\u001b[0m\u001b[0;34m\u001b[0m\u001b[0;34m\u001b[0m\u001b[0;34m\u001b[0m\u001b[0m\n\u001b[0;32m----> 2\u001b[0;31m \u001b[0mmodel\u001b[0m \u001b[0;34m=\u001b[0m \u001b[0mNet\u001b[0m\u001b[0;34m(\u001b[0m\u001b[0;34m)\u001b[0m\u001b[0;34m.\u001b[0m\u001b[0mto\u001b[0m\u001b[0;34m(\u001b[0m\u001b[0mdevice\u001b[0m\u001b[0;34m)\u001b[0m\u001b[0;34m\u001b[0m\u001b[0;34m\u001b[0m\u001b[0m\n\u001b[0m\u001b[1;32m      3\u001b[0m \u001b[0moptimizer\u001b[0m \u001b[0;34m=\u001b[0m \u001b[0moptim\u001b[0m\u001b[0;34m.\u001b[0m\u001b[0mSGD\u001b[0m\u001b[0;34m(\u001b[0m\u001b[0mmodel\u001b[0m\u001b[0;34m.\u001b[0m\u001b[0mparameters\u001b[0m\u001b[0;34m(\u001b[0m\u001b[0;34m)\u001b[0m\u001b[0;34m,\u001b[0m \u001b[0mlr\u001b[0m\u001b[0;34m=\u001b[0m\u001b[0;36m0.001\u001b[0m\u001b[0;34m,\u001b[0m \u001b[0mmomentum\u001b[0m\u001b[0;34m=\u001b[0m\u001b[0;36m0.9\u001b[0m\u001b[0;34m)\u001b[0m\u001b[0;34m\u001b[0m\u001b[0;34m\u001b[0m\u001b[0m\n\u001b[1;32m      4\u001b[0m \u001b[0;31m# Testing -- you should get a pretty poor performance since the model hasn't learned anything yet.\u001b[0m\u001b[0;34m\u001b[0m\u001b[0;34m\u001b[0m\u001b[0;34m\u001b[0m\u001b[0m\n\u001b[1;32m      5\u001b[0m \u001b[0mtest\u001b[0m\u001b[0;34m(\u001b[0m\u001b[0;34m)\u001b[0m\u001b[0;34m\u001b[0m\u001b[0;34m\u001b[0m\u001b[0m\n",
            "\u001b[0;31mNameError\u001b[0m: name 'Net' is not defined"
          ]
        }
      ]
    },
    {
      "cell_type": "markdown",
      "metadata": {
        "id": "oaGWUOseU6D5"
      },
      "source": [
        "#### Define a training loop with model checkpointing"
      ]
    },
    {
      "cell_type": "code",
      "metadata": {
        "id": "GM255DkpU6D5"
      },
      "source": [
        "def train_save(epoch, save_interval, log_interval=100):\n",
        "    model.train()  # set training mode\n",
        "    iteration = 0\n",
        "    for ep in range(epoch):\n",
        "        for batch_idx, (data, target) in enumerate(trainset_loader):\n",
        "            data, target = data.to(device), target.to(device)\n",
        "            optimizer.zero_grad()\n",
        "            output = model(data)\n",
        "            loss = F.nll_loss(output, target)\n",
        "            loss.backward()\n",
        "            optimizer.step()\n",
        "            if iteration % log_interval == 0:\n",
        "                print(\n",
        "                    \"Train Epoch: {} [{}/{} ({:.0f}%)]\\tLoss: {:.6f}\".format(\n",
        "                        ep,\n",
        "                        batch_idx * len(data),\n",
        "                        len(trainset_loader.dataset),\n",
        "                        100.0 * batch_idx / len(trainset_loader),\n",
        "                        loss.item(),\n",
        "                    )\n",
        "                )\n",
        "            # different from before: saving model checkpoints\n",
        "            if iteration % save_interval == 0 and iteration > 0:\n",
        "                save_checkpoint(\"mnist-%i.pth\" % iteration, model, optimizer)\n",
        "            iteration += 1\n",
        "        test()\n",
        "\n",
        "    # save the final model\n",
        "    save_checkpoint(\"mnist-%i.pth\" % iteration, model, optimizer)"
      ],
      "execution_count": null,
      "outputs": []
    },
    {
      "cell_type": "code",
      "metadata": {
        "id": "vuPO2EKYU6D5"
      },
      "source": [
        "train_save(5, save_interval=500, log_interval=100)"
      ],
      "execution_count": null,
      "outputs": []
    },
    {
      "cell_type": "code",
      "metadata": {
        "id": "kvfd3SnCU6D5"
      },
      "source": [
        "# create a new model\n",
        "model = Net().to(device)\n",
        "optimizer = optim.SGD(model.parameters(), lr=0.001, momentum=0.9)\n",
        "# load from the final checkpoint\n",
        "load_checkpoint(\"mnist-4690.pth\", model, optimizer)\n",
        "# should give you the final model accuracy\n",
        "test()"
      ],
      "execution_count": null,
      "outputs": []
    },
    {
      "cell_type": "markdown",
      "metadata": {
        "id": "rZ-IQeW2U6D5"
      },
      "source": [
        "```\n",
        "\n",
        "```\n",
        "\n",
        "```\n",
        "\n",
        "```\n",
        "\n",
        "```\n",
        "\n",
        "```\n",
        "\n",
        "```\n",
        "\n",
        "```\n",
        "\n",
        "```\n",
        "\n",
        "```\n",
        "### More about pytorch:\n",
        "* Using torch on GPU and multi-GPU - [link](http://pytorch.org/docs/master/notes/cuda.html)\n",
        "* More tutorials on pytorch - [link](http://pytorch.org/tutorials/beginner/deep_learning_60min_blitz.html)\n",
        "* Pytorch examples - a repo that implements many cool DL models in pytorch - [link](https://github.com/pytorch/examples)\n",
        "* Practical pytorch - a repo that implements some... other cool DL models... yes, in pytorch - [link](https://github.com/spro/practical-pytorch)\n",
        "* And some more - [link](https://www.reddit.com/r/pytorch/comments/6z0yeo/pytorch_and_pytorch_tricks_for_kaggle/)"
      ]
    }
  ]
}